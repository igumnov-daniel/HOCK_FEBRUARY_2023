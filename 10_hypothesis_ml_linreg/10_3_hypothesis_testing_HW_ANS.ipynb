{
 "cells": [
  {
   "cell_type": "code",
   "execution_count": 1,
   "id": "4ad1ccb4-86ac-4543-927c-36fa7c1afd39",
   "metadata": {},
   "outputs": [],
   "source": [
    "import pandas as pd\n",
    "import numpy as np\n",
    "\n",
    "import matplotlib.pyplot as plt\n",
    "import seaborn as sns\n",
    "\n",
    "import scipy.stats as stats"
   ]
  },
  {
   "cell_type": "markdown",
   "id": "832f7bd5-0742-4cd1-8538-d948df53f126",
   "metadata": {},
   "source": [
    "# Операция \"вспомнить всё\""
   ]
  },
  {
   "cell_type": "markdown",
   "id": "0c530900-a8e5-495f-a40d-15e3a9f35e16",
   "metadata": {},
   "source": [
    "# 0. \n",
    "Вспомним, как создавать генераторы распределений, находить значение функции распределения в точке и плотности распределения на интервале."
   ]
  },
  {
   "cell_type": "markdown",
   "id": "b56a8228-e2a6-495c-b90e-60544a12e912",
   "metadata": {},
   "source": [
    "## 0.1 \n",
    "* Импортируйте numpy и установите сид для воспроизводимости случайной генерации (`np.random.seed(123)`)\n",
    "* Импортируйте генератор для нормального распределения из `scipy.stats`;\n",
    "* Создайте выборку из нормального распределения со средним 100 и дисперсией 169 (в питоне указывается стандартное отклонение) размерности (10, 10000);\n",
    "* Таким образом, вы создатите матрицу 10х10000. С ней можно работать как с 10000 выборок по 10 чисел в каждой;\n",
    "* Посчитайте среднее и дисперсию для всей матрицы, они не должны почти отличаться от заданных."
   ]
  },
  {
   "cell_type": "code",
   "execution_count": 2,
   "id": "cb9b1d2f-709e-4339-b071-4cfcc98c8097",
   "metadata": {},
   "outputs": [
    {
     "data": {
      "text/plain": [
       "(100.01709266227692, 168.85475102903217)"
      ]
     },
     "execution_count": 2,
     "metadata": {},
     "output_type": "execute_result"
    }
   ],
   "source": [
    "np.random.seed(123)\n",
    "samples = stats.norm(loc=100, scale=13).rvs((10, 10000))\n",
    "samples.mean(), samples.var()"
   ]
  },
  {
   "cell_type": "markdown",
   "id": "e4fb9dd5-b7cf-4c03-a73a-43a178dfa3e6",
   "metadata": {},
   "source": [
    "## 0.2\n",
    "Построим распределения для выборочного среднего, дисперсии и стандартного отклонения.<br>\n",
    "С выборочным средним всё просто -- оно асимптотически распределено нормально по ЦПТ.<br>\n",
    "С выборочной дисперсией тоже можно справиться, это <a href=\"https://online.stat.psu.edu/stat414/lesson/26/26.3\">Хи-квадрат распределенная</a> величина.<br>\n",
    "Выборочное стандартное отклонение -- монстр посложнее. Можете посмотреть <a href=\"https://mathworld.wolfram.com/StandardDeviationDistribution.html\">тут. Но распределение выводится из Хи-квадрата и на него собственно похоже.</a>\n",
    "\n",
    "Построим картинки.\n",
    "\n",
    "* Посчитайте среднее для каждой выборки (нужно указать axis) (получится 10000 средних)  и нарисуйте распределение среднего (например через `plt.hist`,  поиграйте со значением параметра `bins`);\n",
    "* Аналогично постройте картинки для выборочной дисперсии и стандартного отклонения."
   ]
  },
  {
   "cell_type": "code",
   "execution_count": 3,
   "id": "7567dc24-86d1-4121-a7b5-7023bb80c1f1",
   "metadata": {},
   "outputs": [
    {
     "data": {
      "image/png": "[encoded data removed]",
      "text/plain": [
       "<Figure size 1200x300 with 3 Axes>"
      ]
     },
     "metadata": {},
     "output_type": "display_data"
    }
   ],
   "source": [
    "fig, axs = plt.subplots(1, 3, figsize=(12, 3))\n",
    "\n",
    "axs[0].hist(samples.mean(axis=0), bins=60)\n",
    "axs[0].set_title(\"Distribution of sample mean\")\n",
    "axs[1].hist(samples.var(axis=0), bins=60)\n",
    "axs[1].set_title(\"Distribution of sample variance\")\n",
    "axs[2].hist(samples.std(axis=0), bins=60)\n",
    "axs[2].set_title(\"Distribution of sample standard deviation\")\n",
    "plt.show()"
   ]
  },
  {
   "cell_type": "markdown",
   "id": "2350e9bd-bd5a-4f6d-a267-f768fcb26059",
   "metadata": {},
   "source": [
    "## 0.3\n",
    "* Стандартизуйте вектор с выборочными средними из предыдущего задания (вычтите среднее этого вектора, поделите на стандартное отклонение этого вектора с ddof=1);\n",
    "* Проверьте, что теперь среднее равно почти равно 0, а стандартное отклонение почти равно 1."
   ]
  },
  {
   "cell_type": "code",
   "execution_count": 4,
   "id": "d9c5cb09-90a3-43e0-a526-b0dfa2500e60",
   "metadata": {},
   "outputs": [
    {
     "data": {
      "text/plain": [
       "(-8.324008149429574e-16, 0.9999499987499374)"
      ]
     },
     "execution_count": 4,
     "metadata": {},
     "output_type": "execute_result"
    }
   ],
   "source": [
    "means_ = samples.mean(axis=0)\n",
    "means_scaled = (means_ - means_.mean()) / means_.std(ddof=1)\n",
    "means_scaled.mean(), means_scaled.std()"
   ]
  },
  {
   "cell_type": "markdown",
   "id": "494e2416-8e95-409b-8ecc-c726c0eedacc",
   "metadata": {},
   "source": [
    "## 0.4\n",
    "Выборочное среднее распределено асимптотически нормально.<br>\n",
    "1. Мы сделали генератор нормального распределния со средним 100 и стандартным отклонением 13 (дисперсия 169).\n",
    "2. Мы получили вектор из 10000 выборочных средних, но каждое из них посчитано на очень маленькой выборке -- всего 10 точек. Поэтому, скорее всего, мы не совсем точно каждый раз оценили среднее.\n",
    "3. Такая симуляция позволяет нам в явном виде построить распределение для выборочного среднего. Но сделать такое мы могли бы и теоретически, ведь знаем, как выборочное среднее распределено и каким законом распределения его можно моделировать (t-распределением, если мало образом).\n",
    "4. Проверим, насколько наше эмпирическое распределение выборочного среднего (10000 выборочных средних, каждое из которых посчитано на 10 точках) подчиняется теоретическому нормальному.\n",
    "\n",
    "----"
   ]
  },
  {
   "cell_type": "markdown",
   "id": "4306106d-287b-40ae-af18-a2aebf38dcf5",
   "metadata": {},
   "source": [
    "1. Выборочное среднее распределено $\\mathcal{N}(\\mu, \\frac{\\sigma^2}{n})$. Поскольку мы оракул и знаем параметры генеральной совокупности (100 и стд 13), то мы знаем, что выборочное среднее распределено как $\\mathcal{N}(100, 16.9)$ ($std=\\sqrt{16.9}\\approx 4.11$). \n",
    "2. Создайте генератор  нормального распределния с такими параметрами и посчитайте его квантили уровня от 0.05 до 0.95 с шагом 0.05, включая оба конца;\n",
    "3. Посчитайте квантили такого же уровня для эмпирического распределения;\n",
    "4. Постройте диаграмму рассеяния (scatterplot) одних квантилей против других;\n",
    "5. Добавьте диагональ (прямую из точки (93, 93) в точку (106, 106))."
   ]
  },
  {
   "cell_type": "code",
   "execution_count": 5,
   "id": "f72e044f-9081-4726-a3b8-5ac741b97c08",
   "metadata": {},
   "outputs": [
    {
     "data": {
      "text/plain": [
       "array([ 93.24399072,  94.77181146,  95.74638071,  96.51181047,\n",
       "        97.22785044,  97.86345696,  98.42387897,  98.9878572 ,\n",
       "        99.50201381, 100.05105872, 100.57760138, 101.09068925,\n",
       "       101.61455563, 102.16919726, 102.77837837, 103.49402388,\n",
       "       104.27803218, 105.29832931])"
      ]
     },
     "execution_count": 5,
     "metadata": {},
     "output_type": "execute_result"
    }
   ],
   "source": [
    "q_levels = np.arange(0.05, 0.95, 0.05)\n",
    "equantiles = np.quantile(means_, q_levels)\n",
    "equantiles"
   ]
  },
  {
   "cell_type": "code",
   "execution_count": 6,
   "id": "80afcce9-de37-46a6-96a6-4321edce8e02",
   "metadata": {},
   "outputs": [
    {
     "data": {
      "text/plain": [
       "array([ 93.23807096,  94.73159155,  95.7392628 ,  96.54012797,\n",
       "        97.22719897,  97.84420997,  98.41596261,  98.95849995,\n",
       "        99.48341111, 100.        , 100.51658889, 101.04150005,\n",
       "       101.58403739, 102.15579003, 102.77280103, 103.45987203,\n",
       "       104.2607372 , 105.26840845])"
      ]
     },
     "execution_count": 6,
     "metadata": {},
     "output_type": "execute_result"
    }
   ],
   "source": [
    "true_quantiles = stats.norm(loc=100, scale=np.sqrt(16.9)).ppf(q_levels)\n",
    "true_quantiles"
   ]
  },
  {
   "cell_type": "code",
   "execution_count": 7,
   "id": "73b580be-439f-4a93-860b-d8f8f6870cda",
   "metadata": {},
   "outputs": [
    {
     "data": {
      "image/png": "[encoded data removed]",
      "text/plain": [
       "<Figure size 640x480 with 1 Axes>"
      ]
     },
     "metadata": {},
     "output_type": "display_data"
    }
   ],
   "source": [
    "plt.scatter(true_quantiles, equantiles)\n",
    "plt.ylabel('empirical')\n",
    "plt.xlabel('$\\mathcal{N}(100, 16.9)$')\n",
    "plt.plot([93, 106], [93, 106])\n",
    "plt.show()"
   ]
  },
  {
   "cell_type": "markdown",
   "id": "f66d9dcc-cd1b-497e-aef5-d19dfd1610b2",
   "metadata": {},
   "source": [
    "Что мы видим на картинке?<br>\n",
    "\n",
    "Видим, что наши точки идеально ложатся на теоретические квантили. Что действительно выборочное среднее подчинено такому закону распределения.<br>\n",
    "**Ура-ура, мы опять увидели ЦПТ в действии :D**"
   ]
  },
  {
   "cell_type": "markdown",
   "id": "652e4a16-8b46-4a0c-8471-5ebbf4f9da23",
   "metadata": {},
   "source": [
    "# Повторение процедуры проверки стат гипотез\n",
    "* 1. Формулируем нулевую гипотезу;\n",
    "  2. Формулируем альтернативу;\n",
    "  3. Устсанавливает уровень значимости $\\alpha$ (т.е. порог по _p_-value);\n",
    "  4. Выбираем стат. тест;\n",
    "  5. \\*Иногда нужно проверять, выполняются ли допущения теста, но обычно мы просто знаем что-то о данных или предполагаем что-то и поэтому не проверяем условия для проведения теста;\n",
    "  6. Проводим стат. тест и получаем статистику;\n",
    "  7. С помощью тестовой статистики может посчитать _p_-value;\n",
    "  8. Если _p_-value меньше установленного ранее порога, значит при верности нулевой гипотезы видеть такую же тестовую статистику или более экстремальную достаточно **маловероятно**. Поэтому мы отвергаем нулевую гипотезу;\n",
    "  9. Если _p_-value больше порога, то мы остаётся при нулевой гипотезе.\n",
    "<img src=\"./data/pics/test.webp\"/>"
   ]
  },
  {
   "cell_type": "markdown",
   "id": "2ea397c5-fe88-48d1-aa44-87800286a9e6",
   "metadata": {},
   "source": [
    "# 1. Пример.\n",
    "В одном ларьке мы торгуем только кукурузой, а в другом -- только сладкой ватой. Мы предполагаем, что средний  в ларьке со сладкой ватой больше, чем в ларьке с кукурузой. Давайте проверим наше предположение.<br>\n",
    "\n",
    "То есть мы хотим проверить нулоевую гипотезу о равенстве средних чеков. Альтернативу будем рассматривать одностороннюю: средний чек в ларьке с кукурузой меньше, чем в ларьке со сладкой ватой. \n",
    "\n",
    "Проверить гипотезу о равенстве средних можно с помощью z-теста или t-теста.\n",
    "* Оба теста требуют, что данные взяты случайно из нормального распределения.\n",
    "Будем считать, что средние чеки независимы друг от друга. А так как это средние, то мы можем говорить о нормальности, ведь выборочное среднее асимптотически распределено нормально по ЦПТ. Можно проверить, насколько сильно наша выборка нормальна, построив QQ plot или выполнив отделньо тест (проверку нормальности тестом стоит делать только на малых выборках).\n",
    "* Для z-теста нам нужно знать дисперсию генеральной совокупности. Если дисперсия неизвестна, а размер выборки больше 30, то мы можем оценить дисперсию по выборке и всё равно использовать z-тест, так как верим, что размер выборчки достаточно большой, чтобы наша оценка была состоятельной.  \n",
    "* Если дисперсия генеральной совокупности нам неизвестна, а размер выборке меньше 30, то используем t-тест, потому что он помогает \"дооценить\" дисперсию. \n",
    "\n",
    "Есть данные лишь для трёх недель. Размеры выборок малы, а дисперсия генеральной совокупности нам неизвестна.<br>\n",
    "Поэтому будем пользоваться двувыборочным t-тестом (сравниваем средние двух групп, а не одной группы и константы).\n",
    "\n",
    "$H_0: \\mu_1=\\mu_2$<br>\n",
    "$H_a: \\mu_1\\lt\\mu_2$<br>\n",
    "$\\alpha = 0.05$"
   ]
  },
  {
   "cell_type": "markdown",
   "id": "dfdccd7c-3626-4998-842d-b3a7f0550b56",
   "metadata": {},
   "source": [
    "## 1.1 EDA"
   ]
  },
  {
   "cell_type": "markdown",
   "id": "25fca33c-ab89-4d65-aaab-be0cab974131",
   "metadata": {},
   "source": [
    "### 1.1.1\n",
    "Прочитайте данные о средних чеках из файла `data/21days_sales.tsv`. Разделитель -- знак табуляции.<br>\n",
    "В таблице сохранены средние чеки двух точек по продаже кукурузы и одной -- сладкой ваты. Пока отложим чеки \"Кукуруза2\", они понадобятся нам в других заданиях."
   ]
  },
  {
   "cell_type": "code",
   "execution_count": 8,
   "id": "95f815d6-5204-4af3-9733-a24c750d3996",
   "metadata": {},
   "outputs": [
    {
     "data": {
      "text/html": [
       "<div>\n",
       "<style scoped>\n",
       "    .dataframe tbody tr th:only-of-type {\n",
       "        vertical-align: middle;\n",
       "    }\n",
       "\n",
       "    .dataframe tbody tr th {\n",
       "        vertical-align: top;\n",
       "    }\n",
       "\n",
       "    .dataframe thead th {\n",
       "        text-align: right;\n",
       "    }\n",
       "</style>\n",
       "<table border=\"1\" class=\"dataframe\">\n",
       "  <thead>\n",
       "    <tr style=\"text-align: right;\">\n",
       "      <th></th>\n",
       "      <th>Кукуруза</th>\n",
       "      <th>Сладкая_вата</th>\n",
       "      <th>Кукуруза2</th>\n",
       "    </tr>\n",
       "  </thead>\n",
       "  <tbody>\n",
       "    <tr>\n",
       "      <th>0</th>\n",
       "      <td>279</td>\n",
       "      <td>327</td>\n",
       "      <td>174</td>\n",
       "    </tr>\n",
       "    <tr>\n",
       "      <th>1</th>\n",
       "      <td>382</td>\n",
       "      <td>240</td>\n",
       "      <td>274</td>\n",
       "    </tr>\n",
       "    <tr>\n",
       "      <th>2</th>\n",
       "      <td>325</td>\n",
       "      <td>267</td>\n",
       "      <td>257</td>\n",
       "    </tr>\n",
       "    <tr>\n",
       "      <th>3</th>\n",
       "      <td>254</td>\n",
       "      <td>357</td>\n",
       "      <td>515</td>\n",
       "    </tr>\n",
       "    <tr>\n",
       "      <th>4</th>\n",
       "      <td>302</td>\n",
       "      <td>274</td>\n",
       "      <td>380</td>\n",
       "    </tr>\n",
       "  </tbody>\n",
       "</table>\n",
       "</div>"
      ],
      "text/plain": [
       "   Кукуруза  Сладкая_вата  Кукуруза2\n",
       "0       279           327        174\n",
       "1       382           240        274\n",
       "2       325           267        257\n",
       "3       254           357        515\n",
       "4       302           274        380"
      ]
     },
     "execution_count": 8,
     "metadata": {},
     "output_type": "execute_result"
    }
   ],
   "source": [
    "# читаем файл\n",
    "df = pd.read_csv(\"./data/21days_sales.tsv\", sep='\\t')\n",
    "df.head()"
   ]
  },
  {
   "cell_type": "markdown",
   "id": "8abd481f-394a-432c-b9fa-4581516de690",
   "metadata": {},
   "source": [
    "### 1.1.2\n",
    "* Оставьте только два столбца: \"Кукуруза\" и \"Саладкая_вата\";\n",
    "* Переведите данные в длинный формат (`melt`) и сохраните в отдельную переменную;\n",
    "* Переименуйте столбцы в \"тип_товара\" и \"средний_чек\";\n",
    "* Выведите первые 5 строк длинного датафрейма;\n",
    "* Выведите последние 5 строк длинного датафрейма."
   ]
  },
  {
   "cell_type": "code",
   "execution_count": 9,
   "id": "1b7b221a-d64f-4a7b-a1e5-b07aca9fb5b0",
   "metadata": {},
   "outputs": [
    {
     "data": {
      "text/html": [
       "<div>\n",
       "<style scoped>\n",
       "    .dataframe tbody tr th:only-of-type {\n",
       "        vertical-align: middle;\n",
       "    }\n",
       "\n",
       "    .dataframe tbody tr th {\n",
       "        vertical-align: top;\n",
       "    }\n",
       "\n",
       "    .dataframe thead th {\n",
       "        text-align: right;\n",
       "    }\n",
       "</style>\n",
       "<table border=\"1\" class=\"dataframe\">\n",
       "  <thead>\n",
       "    <tr style=\"text-align: right;\">\n",
       "      <th></th>\n",
       "      <th>тип_товара</th>\n",
       "      <th>средний_чек</th>\n",
       "    </tr>\n",
       "  </thead>\n",
       "  <tbody>\n",
       "    <tr>\n",
       "      <th>0</th>\n",
       "      <td>Кукуруза</td>\n",
       "      <td>279</td>\n",
       "    </tr>\n",
       "    <tr>\n",
       "      <th>1</th>\n",
       "      <td>Кукуруза</td>\n",
       "      <td>382</td>\n",
       "    </tr>\n",
       "    <tr>\n",
       "      <th>2</th>\n",
       "      <td>Кукуруза</td>\n",
       "      <td>325</td>\n",
       "    </tr>\n",
       "    <tr>\n",
       "      <th>3</th>\n",
       "      <td>Кукуруза</td>\n",
       "      <td>254</td>\n",
       "    </tr>\n",
       "    <tr>\n",
       "      <th>4</th>\n",
       "      <td>Кукуруза</td>\n",
       "      <td>302</td>\n",
       "    </tr>\n",
       "  </tbody>\n",
       "</table>\n",
       "</div>"
      ],
      "text/plain": [
       "  тип_товара  средний_чек\n",
       "0   Кукуруза          279\n",
       "1   Кукуруза          382\n",
       "2   Кукуруза          325\n",
       "3   Кукуруза          254\n",
       "4   Кукуруза          302"
      ]
     },
     "execution_count": 9,
     "metadata": {},
     "output_type": "execute_result"
    }
   ],
   "source": [
    "# переводим в длинный формат, выводим первые 5 строк\n",
    "df_long = df.iloc[:, :-1].melt()\n",
    "df_long.columns = ['тип_товара', 'средний_чек']\n",
    "df_long.head()"
   ]
  },
  {
   "cell_type": "code",
   "execution_count": 10,
   "id": "b0e2a8aa-c85c-4309-91ad-6b7f6dfacf85",
   "metadata": {},
   "outputs": [
    {
     "data": {
      "text/html": [
       "<div>\n",
       "<style scoped>\n",
       "    .dataframe tbody tr th:only-of-type {\n",
       "        vertical-align: middle;\n",
       "    }\n",
       "\n",
       "    .dataframe tbody tr th {\n",
       "        vertical-align: top;\n",
       "    }\n",
       "\n",
       "    .dataframe thead th {\n",
       "        text-align: right;\n",
       "    }\n",
       "</style>\n",
       "<table border=\"1\" class=\"dataframe\">\n",
       "  <thead>\n",
       "    <tr style=\"text-align: right;\">\n",
       "      <th></th>\n",
       "      <th>тип_товара</th>\n",
       "      <th>средний_чек</th>\n",
       "    </tr>\n",
       "  </thead>\n",
       "  <tbody>\n",
       "    <tr>\n",
       "      <th>37</th>\n",
       "      <td>Сладкая_вата</td>\n",
       "      <td>334</td>\n",
       "    </tr>\n",
       "    <tr>\n",
       "      <th>38</th>\n",
       "      <td>Сладкая_вата</td>\n",
       "      <td>311</td>\n",
       "    </tr>\n",
       "    <tr>\n",
       "      <th>39</th>\n",
       "      <td>Сладкая_вата</td>\n",
       "      <td>393</td>\n",
       "    </tr>\n",
       "    <tr>\n",
       "      <th>40</th>\n",
       "      <td>Сладкая_вата</td>\n",
       "      <td>340</td>\n",
       "    </tr>\n",
       "    <tr>\n",
       "      <th>41</th>\n",
       "      <td>Сладкая_вата</td>\n",
       "      <td>323</td>\n",
       "    </tr>\n",
       "  </tbody>\n",
       "</table>\n",
       "</div>"
      ],
      "text/plain": [
       "      тип_товара  средний_чек\n",
       "37  Сладкая_вата          334\n",
       "38  Сладкая_вата          311\n",
       "39  Сладкая_вата          393\n",
       "40  Сладкая_вата          340\n",
       "41  Сладкая_вата          323"
      ]
     },
     "execution_count": 10,
     "metadata": {},
     "output_type": "execute_result"
    }
   ],
   "source": [
    "# выводим последние 5 строк\n",
    "df_long.tail()"
   ]
  },
  {
   "cell_type": "markdown",
   "id": "c377154d-78ca-4157-8fdd-c5c970b1aada",
   "metadata": {},
   "source": [
    "# 1.1.3\n",
    "* Постройте kde-plot для распределение среднего чека отдельно для каждлого типа товара (`sns.kdeplot`).<br>\n",
    "Вообще, картинку можно нарисовать и с помощью широкого датафрейма, попробуйте :)\n",
    "\n",
    "\\*Напоминаю про параметр `common_norm=False`, который по умолчанию равен True. В данном случае это не влияет, так как число наблюдений для каждого типа товара одно и то же. Но если бы было разное, то тогда бы этот параметр влиял бы на относительный размер распределений. Обычно мы хотим рисовать распределения независимо."
   ]
  },
  {
   "cell_type": "code",
   "execution_count": 11,
   "id": "655070cf-40b0-4a8d-b630-177693437580",
   "metadata": {},
   "outputs": [
    {
     "data": {
      "text/plain": [
       "<Axes: xlabel='средний_чек', ylabel='Density'>"
      ]
     },
     "execution_count": 11,
     "metadata": {},
     "output_type": "execute_result"
    },
    {
     "data": {
      "image/png": "[encoded data removed]",
      "text/plain": [
       "<Figure size 640x480 with 1 Axes>"
      ]
     },
     "metadata": {},
     "output_type": "display_data"
    }
   ],
   "source": [
    "# строим картинку\n",
    "sns.kdeplot(data=df_long, x='средний_чек', hue='тип_товара', common_norm=False, fill=True, alpha=0.07)"
   ]
  },
  {
   "cell_type": "markdown",
   "id": "37a4d86f-8abc-4652-9d0e-79db54bfcc1a",
   "metadata": {},
   "source": [
    "По картинке с плотностью распределения можно предположить, что средний средний чек у точки со сладкой ватой больше, чем у точки с кукурузой. **Проверим наше предположение с помощью стат. процедуры**."
   ]
  },
  {
   "cell_type": "markdown",
   "id": "5d268d6d-7f87-4370-be50-5da4599c9f07",
   "metadata": {},
   "source": [
    "## 1.2"
   ]
  },
  {
   "cell_type": "markdown",
   "id": "94856589-3d80-474f-a6aa-a7540a3b1398",
   "metadata": {},
   "source": [
    "### 1.2.1\n",
    "Предположим, что у нас есть какие-то доменные зннания, на основании которых мы предполагаем одинаковую дисперсию среднего чего в наших точках. Например, они расположены в одном и том же парке и у всех точек в этом парке одинаковая дисперсия среднего чека (не только у наших).\n",
    "\n",
    "При этом дисперсию мы не знаем. Значит нам нужно оценить дисперсию по выборке.<br>\n",
    "Так как мы верим, что дисперсия одинаковая, то можно оценить её, объединив средние чеки. Тогда размер выборки для оценки дисперсии уже равен 42, то есть можно было бы и на z-тест перескочить :)\n",
    "\n",
    "_Почему можно было бы использовать z-тест:<br>\n",
    "Отличие t-теста и z-теста в конечном итоге состоит в используемом распределении для подсчета _p_-value. Если мы предполагаем, что дисперсии выборок равны, то тогда используется t-распределение с $N_2+N_1-2$ степенями свободы. В нашем случае это $21+21-2=40$ степенй свободы, а такое распределение уже очень похоже на z-распределение (стандартное нормальное)._\n",
    "\n",
    "---\n",
    "* Импортируйте `scipy.stats`;\n",
    "* Используйте двувыборочный t-тест с помощью `ttest_ind`. Передайте тесту две выборки, укажите, что дисперсии равны, выберите правильюную альтернативу (что средний чек точки с кукурузой меньше).\n",
    "* На основании полученного _p_-сделайте вывод и принятии или отвержении нулевой гипотезы."
   ]
  },
  {
   "cell_type": "code",
   "execution_count": 12,
   "id": "94764996-d7c4-4170-a6b7-8a290795e626",
   "metadata": {},
   "outputs": [
    {
     "data": {
      "text/plain": [
       "TtestResult(statistic=-2.8959510964832362, pvalue=0.0030498302992849986, df=40.0)"
      ]
     },
     "execution_count": 12,
     "metadata": {},
     "output_type": "execute_result"
    }
   ],
   "source": [
    "res = stats.ttest_ind(\n",
    "    df['Кукуруза'],\n",
    "    df['Сладкая_вата'],\n",
    "    equal_var=True,\n",
    "    alternative='less'\n",
    ")\n",
    "res"
   ]
  },
  {
   "cell_type": "code",
   "execution_count": 13,
   "id": "e9ec5195-8f6b-40ee-9cce-fc569f734d00",
   "metadata": {},
   "outputs": [
    {
     "name": "stdout",
     "output_type": "stream",
     "text": [
      "Reject. Средний чек в кукурузе стат значимо меньше.\n"
     ]
    }
   ],
   "source": [
    "if res.pvalue < 0.05:\n",
    "    print('Reject. Средний чек в кукурузе стат значимо меньше.')\n",
    "else:\n",
    "    print('Confirm. Средней чек в кукурузе такой же, как в сладкой вате.')"
   ]
  },
  {
   "cell_type": "markdown",
   "id": "424c7a0e-c7ba-4fd1-8b39-a8f3ae8d3563",
   "metadata": {},
   "source": [
    "## 1.3\n",
    "Мы выяснили, что средний чек точки со сладкой ватой выше. Давайте теперь сравним две точки с кукурузой между собой.<br>\n",
    "Вторая точка с кукурузой находится в другом месте (не в том же парке), так что мы не предполагаем равенство дисперсий. А значит будет использовать <a href=\"https://ru.wikipedia.org/wiki/T-%D0%BA%D1%80%D0%B8%D1%82%D0%B5%D1%80%D0%B8%D0%B9_%D0%A3%D1%8D%D0%BB%D1%87%D0%B0\">t-тест Уэлча</a>.<br>Он не предпоалагет равенство дисперсий и считается приближенное значение степеней свободы. Поэтому число степеней свободы получается меньше -> более толстые хвосты распределения -> мы лучше дооцениваем дисперсию.\n",
    "\n",
    "----\n",
    "* Запустите двувыборочный t-тест для точек \"Кукуруза\" и \"Кукуруза2\". Предполагаем, что вторая точка должна иметь бОльший средний чек, так как в ней кроме кукурузы ещё продаются напитки.\n",
    "* Не забудьте указать правильную альтернативу и что у выборок разная дисперсия.\n",
    "* Запустите тот же тест, но укажите, что дисперсия одинаковая. Что как поменялось число степеней свободны? P-value? Изменился ли наш вывод на 0.05 уровне значимости?"
   ]
  },
  {
   "cell_type": "code",
   "execution_count": 14,
   "id": "56baf99f-1c07-4df1-836d-03425ce764ea",
   "metadata": {},
   "outputs": [
    {
     "data": {
      "text/plain": [
       "TtestResult(statistic=-1.6920272869567674, pvalue=0.051265063526472955, df=26.1388324052737)"
      ]
     },
     "execution_count": 14,
     "metadata": {},
     "output_type": "execute_result"
    }
   ],
   "source": [
    "res = stats.ttest_ind(\n",
    "    df['Кукуруза'],\n",
    "    df['Кукуруза2'],\n",
    "    equal_var=False,\n",
    "    alternative='less'\n",
    ")\n",
    "res"
   ]
  },
  {
   "cell_type": "code",
   "execution_count": 15,
   "id": "109df47e-ef5d-4e9d-a473-516896d830e2",
   "metadata": {},
   "outputs": [
    {
     "data": {
      "text/plain": [
       "TtestResult(statistic=-1.6920272869567672, pvalue=0.049209011002526275, df=40.0)"
      ]
     },
     "execution_count": 15,
     "metadata": {},
     "output_type": "execute_result"
    }
   ],
   "source": [
    "res = stats.ttest_ind(\n",
    "    df['Кукуруза'],\n",
    "    df['Кукуруза2'],\n",
    "    equal_var=True,\n",
    "    alternative='less'\n",
    ")\n",
    "res"
   ]
  },
  {
   "cell_type": "markdown",
   "id": "1f77012d-4085-4f9b-b887-824d3391324e",
   "metadata": {},
   "source": [
    "Тест Уэлча покажет бОльшее _p_-value, так как для его подсчета используется t-распределение с меньшим числом степеней свободы, а значит более толстыми хвостами. \n",
    "Вообще, разница между _p_-value незначительная и особо не решает. Принятие решений по порогу не решаем ничего для одного случая, а играет роль на дистанции. Поэтому если в одном случае мы получается _p_-value 0.051, а в другом 0.49, то это лишь говорит о том, что, возможно, следует собирать больше наблюдений :) Но на дистанции важно соблюдать процедуру, чтобы асиптотически ошибаться не чаще, чем в $\\alpha$ случаев."
   ]
  },
  {
   "cell_type": "markdown",
   "id": "128612c8-41d3-4b7e-b750-dba3824013f9",
   "metadata": {},
   "source": [
    "## 1.4\n",
    "Давайте проверим, является ли средний чек точки \"Кукуруза2\" более волатильным, чем средний чек точки \"Кукуруза\".<br>\n",
    "Мы можем сделать с помощью F-теста. Его допущения такие же, как у t-теста: данные случайно взяты из нормального распределния, две выборки независимы.\n",
    "\n",
    "К сожалению, F-тест не реализован в scipy, но это не особо страшно, он легко и быстро проводится.\n",
    "\n",
    "----\n",
    "Пусть есть две независимо полученные выборки из нормальных распределений (или одного). Отношение выборочных дисперсий имеет F-распределение с параметрами (m-1, n-1), где m, n -- размеры выборок. \n",
    "\n",
    "Значит нам нужно посчитать выборочные дисперсии, найти их отношение дисперсий, посчитать \"размер\" экстремального хвоста."
   ]
  },
  {
   "cell_type": "markdown",
   "id": "5daeceb7-c296-4bc1-b80d-70478068ed9e",
   "metadata": {},
   "source": [
    "* Посчитайте выборочную дисперсию для точек \"Кукуруза\" и \"Кукуруза2\" (используйте n-1 в знаменателе);\n",
    "* Найдите отношение дисперсии Кукуруза2 к Кукуруза "
   ]
  },
  {
   "cell_type": "code",
   "execution_count": 16,
   "id": "36a0b641-aa5a-40f0-9130-7b78b75b4777",
   "metadata": {},
   "outputs": [
    {
     "name": "stdout",
     "output_type": "stream",
     "text": [
      "2.521632504464402\n",
      "0.022312663335310567\n"
     ]
    }
   ],
   "source": [
    "Fstat = df['Кукуруза2'].std(ddof=1) / df['Кукуруза'].std(ddof=1) \n",
    "m = n = 21\n",
    "print(Fstat)\n",
    "p_value = 1 - stats.f.cdf(Fstat, m-1, n-1)\n",
    "print(p_value)"
   ]
  },
  {
   "cell_type": "code",
   "execution_count": 17,
   "id": "504e1974-c76f-4fc5-90ee-d4f5cad182a8",
   "metadata": {},
   "outputs": [
    {
     "data": {
      "image/png": "[encoded data removed]",
      "text/plain": [
       "<Figure size 640x480 with 1 Axes>"
      ]
     },
     "metadata": {},
     "output_type": "display_data"
    }
   ],
   "source": [
    "x = np.arange(0, 3, 0.01)\n",
    "y = stats.f.pdf(x, 20, 20)\n",
    "plt.plot(x, y)\n",
    "plt.fill_between(x, 0, y, alpha=0.1)\n",
    "mask = x > 2.52\n",
    "plt.fill_between(x[mask], 0, y[mask], alpha=0.5, color='red')\n",
    "plt.text(2.25, 0.1, '$p$-value = 0.022')\n",
    "plt.title(\"F(20, 20)\")\n",
    "plt.axvline(2.52, linestyle='--')\n",
    "plt.text(2.53, 0.6, 'F stat = 2.52')\n",
    "plt.show()"
   ]
  },
  {
   "cell_type": "code",
   "execution_count": null,
   "id": "29d3c76f-33cb-4aae-aceb-b8ad0f3aeeae",
   "metadata": {},
   "outputs": [],
   "source": []
  }
 ],
 "metadata": {
  "kernelspec": {
   "display_name": "Python [conda env:hock]",
   "language": "python",
   "name": "conda-env-hock-py"
  },
  "language_info": {
   "codemirror_mode": {
    "name": "ipython",
    "version": 3
   },
   "file_extension": ".py",
   "mimetype": "text/x-python",
   "name": "python",
   "nbconvert_exporter": "python",
   "pygments_lexer": "ipython3",
   "version": "3.11.7"
  }
 },
 "nbformat": 4,
 "nbformat_minor": 5
}
