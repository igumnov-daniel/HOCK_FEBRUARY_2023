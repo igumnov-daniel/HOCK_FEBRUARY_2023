{
 "cells": [
  {
   "cell_type": "markdown",
   "id": "b67dce8a-f39d-4ee3-84b3-5bf770f5b1bf",
   "metadata": {},
   "source": [
    "# Чтение и запись файлов"
   ]
  },
  {
   "cell_type": "code",
   "execution_count": 1,
   "id": "20e56e19-6adc-4b35-9516-35bcb6f77f04",
   "metadata": {},
   "outputs": [],
   "source": [
    "# открытие файла на запись\n",
    "with open('newfile.txt', 'w', encoding='utf-8') as myfile:\n",
    "    myfile.write('Это я создал файл\\n')\n",
    "    myfile.write('И записал туда что-то\\n')\n",
    "    for i in range(1, 6):\n",
    "        myfile.write('ы' * i + '\\n')"
   ]
  },
  {
   "cell_type": "code",
   "execution_count": 35,
   "id": "2994c133-ad45-4ce3-ae42-487da87ac43a",
   "metadata": {},
   "outputs": [
    {
     "name": "stdout",
     "output_type": "stream",
     "text": [
      "Это я создал файл\n",
      "И записал туда что-то\n",
      "ы\n",
      "ыы\n",
      "ыыы\n",
      "ыыыы\n",
      "ыыыыы\n"
     ]
    }
   ],
   "source": [
    "# открытие файла на чтение\n",
    "with open('newfile.txt', 'r', encoding='utf8') as myfile:\n",
    "    print(myfile.read().strip())"
   ]
  },
  {
   "cell_type": "code",
   "execution_count": 42,
   "id": "3a3bd5d6-0c9b-4cd6-8ed8-72ef4172f93a",
   "metadata": {
    "tags": []
   },
   "outputs": [
    {
     "name": "stdout",
     "output_type": "stream",
     "text": [
      "Это я создал файл\n",
      "И записал туда что-то\n",
      "ы\n",
      "ыы\n",
      "ыыы\n",
      "ыыыы\n",
      "ыыыыы\n",
      "Это я создал файл\n",
      "И записал туда что-то\n",
      "ы\n",
      "ыы\n",
      "ыыы\n",
      "ыыыы\n",
      "ыыыыы\n"
     ]
    }
   ],
   "source": [
    "# открытие файла на чтение\n",
    "with open('newfile.txt', 'r', encoding='utf8') as myfile:\n",
    "    print(myfile.readline().strip())\n",
    "    print(myfile.readline().strip())\n",
    "    for i in myfile:\n",
    "        print(i.strip())\n",
    "    myfile.seek(0)\n",
    "    for i in myfile:\n",
    "        print(i.strip())"
   ]
  },
  {
   "cell_type": "code",
   "execution_count": null,
   "id": "f144d88d-20a6-4072-a9ca-4f366cd9f3c1",
   "metadata": {},
   "outputs": [],
   "source": []
  },
  {
   "cell_type": "code",
   "execution_count": 49,
   "id": "0ca05847-4cb2-48ea-be59-7fc6708c021f",
   "metadata": {
    "tags": []
   },
   "outputs": [
    {
     "name": "stdout",
     "output_type": "stream",
     "text": [
      "Это я создал файл\n",
      "И записал туда что-то\n",
      "ы\n",
      "ыы\n",
      "ыыы\n",
      "ыыыы\n",
      "ыыыыы\n",
      "{\"name\": \"Tom\", \"Surname\": \"Sawyer\", \"age\": 12, \"two words\": {\"1\": \"bla\", \"2\": \"bla2\"}}\n",
      "<class '_io.TextIOWrapper'>\n"
     ]
    }
   ],
   "source": [
    "# открытие файла на чтение\n",
    "with open('newfile.txt', 'r', encoding='utf8') as myfile, open('./test.json', 'r', encoding='utf8') as jdata:\n",
    "    for i in myfile:\n",
    "        print(i.strip())\n",
    "        \n",
    "    for i in jdata:\n",
    "        print(i.strip())\n",
    "    print(type(myfile))"
   ]
  },
  {
   "cell_type": "markdown",
   "id": "f62bb26b-e44e-4050-b682-3f42c60172a0",
   "metadata": {},
   "source": [
    "# Функции"
   ]
  },
  {
   "cell_type": "code",
   "execution_count": 1,
   "id": "dd42e98f-e5f9-4ab6-99b3-0a70fe443697",
   "metadata": {},
   "outputs": [],
   "source": [
    "def my_first_func(a):\n",
    "    print(a * 10)"
   ]
  },
  {
   "cell_type": "code",
   "execution_count": 2,
   "id": "22e484f5-5ff8-486c-bd1e-983172177284",
   "metadata": {},
   "outputs": [
    {
     "data": {
      "text/plain": [
       "<function __main__.my_first_func(a)>"
      ]
     },
     "execution_count": 2,
     "metadata": {},
     "output_type": "execute_result"
    }
   ],
   "source": [
    "my_first_func"
   ]
  },
  {
   "cell_type": "code",
   "execution_count": 3,
   "id": "ed388c90-4a75-4ce3-8f2c-f9bc5273a7f7",
   "metadata": {},
   "outputs": [
    {
     "ename": "TypeError",
     "evalue": "my_first_func() missing 1 required positional argument: 'a'",
     "output_type": "error",
     "traceback": [
      "\u001b[1;31m---------------------------------------------------------------------------\u001b[0m",
      "\u001b[1;31mTypeError\u001b[0m                                 Traceback (most recent call last)",
      "Cell \u001b[1;32mIn [3], line 1\u001b[0m\n\u001b[1;32m----> 1\u001b[0m \u001b[43mmy_first_func\u001b[49m\u001b[43m(\u001b[49m\u001b[43m)\u001b[49m\n",
      "\u001b[1;31mTypeError\u001b[0m: my_first_func() missing 1 required positional argument: 'a'"
     ]
    }
   ],
   "source": [
    "my_first_func()"
   ]
  },
  {
   "cell_type": "code",
   "execution_count": 5,
   "id": "6d4be040-5bae-4cce-98f2-ff006540e9f5",
   "metadata": {},
   "outputs": [
    {
     "name": "stdout",
     "output_type": "stream",
     "text": [
      "100\n"
     ]
    }
   ],
   "source": [
    "my_first_func(10)"
   ]
  },
  {
   "cell_type": "code",
   "execution_count": 6,
   "id": "87110801-fd69-4c9f-a168-1379fb52d448",
   "metadata": {
    "tags": []
   },
   "outputs": [
    {
     "ename": "NameError",
     "evalue": "name 'a' is not defined",
     "output_type": "error",
     "traceback": [
      "\u001b[1;31m---------------------------------------------------------------------------\u001b[0m",
      "\u001b[1;31mNameError\u001b[0m                                 Traceback (most recent call last)",
      "Cell \u001b[1;32mIn [6], line 1\u001b[0m\n\u001b[1;32m----> 1\u001b[0m \u001b[38;5;28mprint\u001b[39m(\u001b[43ma\u001b[49m)\n",
      "\u001b[1;31mNameError\u001b[0m: name 'a' is not defined"
     ]
    }
   ],
   "source": [
    "print(a)"
   ]
  },
  {
   "cell_type": "code",
   "execution_count": 6,
   "id": "999d7f1a-f343-494c-a463-ed016dc1afc7",
   "metadata": {},
   "outputs": [
    {
     "name": "stdout",
     "output_type": "stream",
     "text": [
      "1234567890\n"
     ]
    }
   ],
   "source": [
    "number = 123456789\n",
    "my_first_func(number)"
   ]
  },
  {
   "cell_type": "code",
   "execution_count": 7,
   "id": "3a4c4963-354f-4727-8d99-b8db00446917",
   "metadata": {},
   "outputs": [
    {
     "name": "stdout",
     "output_type": "stream",
     "text": [
      "molokomolokomolokomolokomolokomolokomolokomolokomolokomoloko\n"
     ]
    }
   ],
   "source": [
    "number = 'moloko'\n",
    "my_first_func(number)"
   ]
  },
  {
   "cell_type": "code",
   "execution_count": 9,
   "id": "d743ec4b-da6d-4c8a-b89b-8d755715c8c2",
   "metadata": {
    "tags": []
   },
   "outputs": [
    {
     "name": "stdout",
     "output_type": "stream",
     "text": [
      "50\n",
      "value n: None\n"
     ]
    }
   ],
   "source": [
    "n = my_first_func(5)\n",
    "print('value n:', n)"
   ]
  },
  {
   "cell_type": "code",
   "execution_count": 10,
   "id": "ec551b06-2f14-43e7-8924-ff8646f2ad49",
   "metadata": {},
   "outputs": [],
   "source": [
    "def custom_power(base, power): # позиционные аргументы\n",
    "    print(base ** power)"
   ]
  },
  {
   "cell_type": "code",
   "execution_count": 13,
   "id": "335445db-68fa-4ceb-9bec-b97ff8ddcb5d",
   "metadata": {},
   "outputs": [
    {
     "name": "stdout",
     "output_type": "stream",
     "text": [
      "49\n"
     ]
    }
   ],
   "source": [
    "custom_power(7, 2)"
   ]
  },
  {
   "cell_type": "code",
   "execution_count": 20,
   "id": "469ec025-df51-4f06-aee4-5fb251b7644d",
   "metadata": {},
   "outputs": [],
   "source": [
    "def custom_power2(base, power, divider=2, add=10): # key-word argument\n",
    "    print(base ** power / divider + add)"
   ]
  },
  {
   "cell_type": "code",
   "execution_count": 21,
   "id": "4b998457-32ea-4be2-af00-14562fa1ee7d",
   "metadata": {},
   "outputs": [
    {
     "name": "stdout",
     "output_type": "stream",
     "text": [
      "60.0\n"
     ]
    }
   ],
   "source": [
    "custom_power2(10, 2)"
   ]
  },
  {
   "cell_type": "code",
   "execution_count": 22,
   "id": "dbca2096-c5f4-4da1-ba1b-2fa49975e93e",
   "metadata": {
    "tags": []
   },
   "outputs": [
    {
     "name": "stdout",
     "output_type": "stream",
     "text": [
      "55.0\n"
     ]
    }
   ],
   "source": [
    "custom_power2(10, 2, add=5)"
   ]
  },
  {
   "cell_type": "code",
   "execution_count": null,
   "id": "276c5bd2-d79d-4e63-993e-192d259e2f36",
   "metadata": {},
   "outputs": [],
   "source": []
  },
  {
   "cell_type": "code",
   "execution_count": 23,
   "id": "8accdaec-1a95-4ef9-87ef-8203373a54fa",
   "metadata": {},
   "outputs": [
    {
     "ename": "SyntaxError",
     "evalue": "positional argument follows keyword argument (3884833444.py, line 1)",
     "output_type": "error",
     "traceback": [
      "\u001b[1;36m  Cell \u001b[1;32mIn [23], line 1\u001b[1;36m\u001b[0m\n\u001b[1;33m    custom_power2(divider=20, 10, 2)\u001b[0m\n\u001b[1;37m                                   ^\u001b[0m\n\u001b[1;31mSyntaxError\u001b[0m\u001b[1;31m:\u001b[0m positional argument follows keyword argument\n"
     ]
    }
   ],
   "source": [
    "custom_power2(divider=20, 10, 2)"
   ]
  },
  {
   "cell_type": "code",
   "execution_count": 24,
   "id": "0948ec8a-babd-417c-a094-71c65b1c362c",
   "metadata": {},
   "outputs": [],
   "source": [
    "def divide_and_round(a, b, c=2):\n",
    "    print( round(a / b, c))"
   ]
  },
  {
   "cell_type": "code",
   "execution_count": 30,
   "id": "3ce51c8a-5e1e-4bf6-b885-44936d2c08f1",
   "metadata": {},
   "outputs": [
    {
     "name": "stdout",
     "output_type": "stream",
     "text": [
      "330.0\n"
     ]
    }
   ],
   "source": [
    "divide_and_round(1000, 3, c=-1)"
   ]
  },
  {
   "cell_type": "markdown",
   "id": "ad722390-b7b9-4be2-9d7b-59ab7eed2d70",
   "metadata": {},
   "source": [
    "## RETURN"
   ]
  },
  {
   "cell_type": "code",
   "execution_count": 31,
   "id": "c5253b60-315f-47bd-bcaa-241230cb63dc",
   "metadata": {},
   "outputs": [],
   "source": [
    "a = [10, 4, 5, -1, 8, 16, -20, 0]"
   ]
  },
  {
   "cell_type": "code",
   "execution_count": 33,
   "id": "e3a7f37b-6baf-4a7f-b396-04c8502edd77",
   "metadata": {},
   "outputs": [
    {
     "name": "stdout",
     "output_type": "stream",
     "text": [
      "[-20, -1, 0, 4, 5, 8, 10, 16]\n"
     ]
    }
   ],
   "source": [
    "sorted_res = sorted(a) # возвращает отсортированную копию\n",
    "print(sorted_res)"
   ]
  },
  {
   "cell_type": "code",
   "execution_count": 34,
   "id": "f71c94e3-1d4c-44f3-bfa0-071a9e0af5d1",
   "metadata": {},
   "outputs": [
    {
     "name": "stdout",
     "output_type": "stream",
     "text": [
      "[10, 4, 5, -1, 8, 16, -20, 0]\n"
     ]
    }
   ],
   "source": [
    "print(a)"
   ]
  },
  {
   "cell_type": "code",
   "execution_count": 35,
   "id": "24a81360-4ef3-44b5-8c0c-b5ddab2c8fe8",
   "metadata": {},
   "outputs": [
    {
     "name": "stdout",
     "output_type": "stream",
     "text": [
      "None\n"
     ]
    }
   ],
   "source": [
    "sort_method_res = a.sort() # метод sort() ничего не возвращает!!!!\n",
    "# он изменяет сам список in place\n",
    "print(sort_method_res)"
   ]
  },
  {
   "cell_type": "code",
   "execution_count": 36,
   "id": "0044095c-1d1f-40a3-901d-0ba92de18bf8",
   "metadata": {},
   "outputs": [
    {
     "name": "stdout",
     "output_type": "stream",
     "text": [
      "[-20, -1, 0, 4, 5, 8, 10, 16]\n"
     ]
    }
   ],
   "source": [
    "print(a)"
   ]
  },
  {
   "cell_type": "code",
   "execution_count": 39,
   "id": "7fa43b0c-04b0-498d-bf34-54fc57138f72",
   "metadata": {},
   "outputs": [
    {
     "name": "stdout",
     "output_type": "stream",
     "text": [
      "a [-20, -1, 0, 4, 5, 8, 10, 16]\n",
      "b None\n",
      "c [-20, -1, 0, 4, 5, 8, 10, 16]\n"
     ]
    }
   ],
   "source": [
    "nums = [10, 4, 5, -1, 8, 16, -20, 0]\n",
    "\n",
    "c = sorted(a)\n",
    "b = a.sort()\n",
    "\n",
    "print('a', a)\n",
    "print('b', b)\n",
    "print('c', c)"
   ]
  },
  {
   "cell_type": "code",
   "execution_count": 52,
   "id": "b688bd2d-2c06-4f1e-8753-b61984184319",
   "metadata": {},
   "outputs": [],
   "source": [
    "def times_two(number): # процедура\n",
    "    print(number * 2)\n",
    "    \n",
    "def times_two_r(number): # функция\n",
    "    if number > 10:\n",
    "        return number * 2\n",
    "    print(1000000)"
   ]
  },
  {
   "cell_type": "code",
   "execution_count": 55,
   "id": "8cedf457-da7d-4e99-811b-01abcce3aa27",
   "metadata": {
    "tags": []
   },
   "outputs": [
    {
     "name": "stdout",
     "output_type": "stream",
     "text": [
      "30\n"
     ]
    }
   ],
   "source": [
    "res = times_two_r(15)\n",
    "print(res)"
   ]
  },
  {
   "cell_type": "code",
   "execution_count": 41,
   "id": "6cd3e652-ce92-4226-8c2a-448cb39910f7",
   "metadata": {},
   "outputs": [
    {
     "name": "stdout",
     "output_type": "stream",
     "text": [
      "10\n"
     ]
    }
   ],
   "source": [
    "a = times_two(5)\n",
    "b = times_two_r(5)"
   ]
  },
  {
   "cell_type": "code",
   "execution_count": 42,
   "id": "8006ae90-8bab-4f84-b8dc-f01a5d6b2297",
   "metadata": {},
   "outputs": [
    {
     "name": "stdout",
     "output_type": "stream",
     "text": [
      "None\n"
     ]
    }
   ],
   "source": [
    "print(a)"
   ]
  },
  {
   "cell_type": "code",
   "execution_count": 44,
   "id": "fd8113aa-03f7-41f4-a0a9-19ff64c94066",
   "metadata": {},
   "outputs": [
    {
     "name": "stdout",
     "output_type": "stream",
     "text": [
      "10\n"
     ]
    }
   ],
   "source": [
    "print(b)"
   ]
  },
  {
   "cell_type": "code",
   "execution_count": 46,
   "id": "4ee2c86d-33da-47e7-9b9e-71f7a3a34e57",
   "metadata": {
    "tags": []
   },
   "outputs": [
    {
     "name": "stdout",
     "output_type": "stream",
     "text": [
      "10\n",
      "None\n"
     ]
    }
   ],
   "source": [
    "print(times_two(5))"
   ]
  },
  {
   "cell_type": "code",
   "execution_count": 110,
   "id": "416bfee4-5357-47d8-b178-814b7ce6971e",
   "metadata": {},
   "outputs": [],
   "source": [
    "def times_two_r2(number: int, m: int=2) -> int: # DOCSTRING\n",
    "    \"\"\"\n",
    "    Функция бла-бла-бла. \n",
    "    Принимает два числа и находит их произведение.\n",
    "    \n",
    "    Ввод:\n",
    "       - number: целое число\n",
    "       - m: целое число (по-умолчанию 2)\n",
    "       \n",
    "    Вывод:\n",
    "        - целое число (number * m)\n",
    "    \"\"\"\n",
    "    return number * m"
   ]
  },
  {
   "cell_type": "code",
   "execution_count": 27,
   "id": "a790fb8e-4527-4338-a7d5-3ce16c885e3f",
   "metadata": {},
   "outputs": [
    {
     "data": {
      "text/plain": [
       "369"
      ]
     },
     "execution_count": 27,
     "metadata": {},
     "output_type": "execute_result"
    }
   ],
   "source": [
    "times_two_r2(123, m=3)"
   ]
  },
  {
   "cell_type": "markdown",
   "id": "e247b2e4-bc9d-4aa7-bcd2-680e94a77286",
   "metadata": {},
   "source": [
    "# ЗАДАЧА\n",
    "Напишите функцию `cube`, которая принимает число, возводит его в куб (третью степень) и возвращает результат (без округлений)."
   ]
  },
  {
   "cell_type": "code",
   "execution_count": 62,
   "id": "dcce7421-1d0d-49c0-9412-014f77753dc4",
   "metadata": {
    "tags": []
   },
   "outputs": [],
   "source": [
    "# ваш код\n"
   ]
  },
  {
   "cell_type": "code",
   "execution_count": 65,
   "id": "2875bbb4-e449-4487-8191-02050d676de4",
   "metadata": {
    "tags": []
   },
   "outputs": [
    {
     "name": "stdin",
     "output_type": "stream",
     "text": [
      " 5\n"
     ]
    },
    {
     "name": "stdout",
     "output_type": "stream",
     "text": [
      "125\n"
     ]
    }
   ],
   "source": [
    "number = int(input())\n",
    "print(cube(number))"
   ]
  },
  {
   "cell_type": "code",
   "execution_count": 66,
   "id": "481747d2-04d3-44fd-8e8b-a67e32c85868",
   "metadata": {
    "tags": []
   },
   "outputs": [],
   "source": [
    "# это проверка. запусите\n",
    "assert cube(1) == 1\n",
    "assert cube(3) == 27\n",
    "assert cube(-2) == -8"
   ]
  },
  {
   "cell_type": "markdown",
   "id": "7413ca86-0ee4-4acf-8090-c13b2b9a0424",
   "metadata": {},
   "source": [
    "# ЗАДАЧА"
   ]
  },
  {
   "cell_type": "markdown",
   "id": "74870d30-f071-4868-af7d-4a87b87283cd",
   "metadata": {},
   "source": [
    "Напишите функцию `average`, которая принимает список с числами и возвращает среднее арифметическое списка, округленное до 1 знака после запятой."
   ]
  },
  {
   "cell_type": "code",
   "execution_count": 90,
   "id": "e01ceb3f-2eb3-4196-8e48-806211013e2d",
   "metadata": {
    "tags": []
   },
   "outputs": [
    {
     "name": "stdout",
     "output_type": "stream",
     "text": [
      "3.0\n"
     ]
    }
   ],
   "source": [
    "# ваш код\n",
    "\n"
   ]
  },
  {
   "cell_type": "code",
   "execution_count": 91,
   "id": "8701a483-ccac-4aef-8e14-7320115c8ed8",
   "metadata": {
    "tags": []
   },
   "outputs": [
    {
     "name": "stdout",
     "output_type": "stream",
     "text": [
      "2.5\n"
     ]
    }
   ],
   "source": [
    "print(average([1,2,3,4]))"
   ]
  },
  {
   "cell_type": "code",
   "execution_count": 92,
   "id": "de2f402d-f04e-48d1-84df-ca8837e1a3f4",
   "metadata": {
    "tags": []
   },
   "outputs": [],
   "source": [
    "# это проверка, запустите\n",
    "assert average([1,2,3]) == 2\n",
    "assert average([1,7,17,18]) == 10.8"
   ]
  },
  {
   "cell_type": "markdown",
   "id": "c22c3012-b68d-4e50-965e-0d38908ecf64",
   "metadata": {},
   "source": [
    "# ЗАДАЧА"
   ]
  },
  {
   "cell_type": "markdown",
   "id": "a4e05def-6936-4376-8660-27f92296369d",
   "metadata": {},
   "source": [
    "Напишите функцию `power`,которая принимает 2 аргумента: число и степень, в которую надо число возвести. По умолчанию степень равна двум."
   ]
  },
  {
   "cell_type": "code",
   "execution_count": 106,
   "id": "ffb862dc-232b-4c47-8e17-941b00477d72",
   "metadata": {
    "tags": []
   },
   "outputs": [],
   "source": [
    "# ваш код\n"
   ]
  },
  {
   "cell_type": "code",
   "execution_count": 108,
   "id": "4134a338-213c-4a9a-8f2c-381538f99283",
   "metadata": {
    "tags": []
   },
   "outputs": [],
   "source": [
    "# проверка\n",
    "assert power(2, 2) == 4\n",
    "assert power(2) == 4\n",
    "assert power(0, 0) == 1"
   ]
  },
  {
   "cell_type": "markdown",
   "id": "6221c563-1754-4089-a2cd-c9e721f2b956",
   "metadata": {},
   "source": [
    "# ЗАДАЧА\n",
    "Напишите функцию `factorial`, которая принимает натуральное число и находит его факториал (факториал числа -- произведение всех натуральных чисел от 1 до числа включительно). Факториал нуля равен одному.<br>Если функции было дано отрицательное число, то она должна возвращать слово **ОШИБКА**."
   ]
  },
  {
   "cell_type": "code",
   "execution_count": 109,
   "id": "d43b569a-7f2e-4e9e-9bd5-8208a635536f",
   "metadata": {
    "tags": []
   },
   "outputs": [
    {
     "name": "stdout",
     "output_type": "stream",
     "text": [
      "ОШИБКА\n"
     ]
    }
   ],
   "source": [
    "# ваш код\n",
    "\n",
    "    \n",
    "b = factorial(-1)\n",
    "print(b)"
   ]
  },
  {
   "cell_type": "code",
   "execution_count": 72,
   "id": "66d05445-47be-44ea-a80e-5e5543848ff3",
   "metadata": {
    "tags": []
   },
   "outputs": [],
   "source": [
    "# проверка\n",
    "assert factorial(5) == 120\n",
    "assert factorial(0) == 1\n",
    "assert factorial(-1) == 'ОШИБКА'"
   ]
  },
  {
   "cell_type": "markdown",
   "id": "3153a3d8-4905-489c-acfe-416da1c5a487",
   "metadata": {},
   "source": [
    "# ЗАДАЧА\n",
    "Число сочетаний по $k$ объектов из $n$ объектов вычисляется по формуле $C_n^k==\\frac{n!}{k!(n-k)!}$.<br>\n",
    "Используя уже написанную функцию `factorial` напишите функцию `combinations`, которая принимает два аргумента: суммарное число объектов, число объектов в сочетании. И возвращает число сочетаний.<br>\n",
    "* так как придется делить, то будет возвращено float. Конвертируйте, пожалуйста, ответ в целое число!"
   ]
  },
  {
   "cell_type": "code",
   "execution_count": 75,
   "id": "efc95d32-74f0-458b-a8ec-274ddaf18dbe",
   "metadata": {
    "tags": []
   },
   "outputs": [],
   "source": [
    "# ваш код\n",
    "def combinations(n,k):\n",
    "    res = factorial(n) / (factorial(k) * factorial(n-k))\n",
    "    return int(res)"
   ]
  },
  {
   "cell_type": "code",
   "execution_count": 76,
   "id": "cafc6341-2e23-4395-b725-b7b31e8023f8",
   "metadata": {
    "tags": []
   },
   "outputs": [],
   "source": [
    "assert combinations(5, 2) == 10\n",
    "assert combinations(5, 3) == 10\n",
    "assert combinations(25, 5) == 53130\n",
    "assert combinations(100, 100) == 1"
   ]
  },
  {
   "cell_type": "markdown",
   "id": "04377813-8d08-4394-9c3e-e14895a9dcc7",
   "metadata": {},
   "source": [
    "Таким образом, с помощью функции `combinations` найдите ответ на вопрос: в классе учатся 28 детей. Случайным образом выбираются два дежурных. Найдите, сколько всего возможных пар из двух дежурных можно составить из этого класса."
   ]
  },
  {
   "cell_type": "code",
   "execution_count": null,
   "id": "5af42523-a911-40c4-b7d6-ae9d73d5be8f",
   "metadata": {
    "tags": []
   },
   "outputs": [],
   "source": [
    "# запуск функции для поиска овтета"
   ]
  },
  {
   "cell_type": "code",
   "execution_count": null,
   "id": "7727c69a-04cf-4c0b-9cde-6e5bcf6b3ae4",
   "metadata": {},
   "outputs": [],
   "source": []
  },
  {
   "cell_type": "markdown",
   "id": "bb409bdb-3652-4151-9d94-5ed5e9de5c42",
   "metadata": {},
   "source": [
    "# lambda - функции"
   ]
  },
  {
   "cell_type": "code",
   "execution_count": null,
   "id": "f14390b9-1add-470d-b5a1-d5575e61084c",
   "metadata": {},
   "outputs": [],
   "source": [
    "p = lambda x: x ** 2"
   ]
  },
  {
   "cell_type": "code",
   "execution_count": null,
   "id": "80acd29f-f209-4ab2-9e70-462c7451f2b7",
   "metadata": {},
   "outputs": [
    {
     "data": {
      "text/plain": [
       "100"
      ]
     },
     "execution_count": 29,
     "metadata": {},
     "output_type": "execute_result"
    }
   ],
   "source": [
    "p(10)"
   ]
  },
  {
   "cell_type": "code",
   "execution_count": null,
   "id": "335647e9-be7f-42c7-a1e3-5009411f977f",
   "metadata": {
    "tags": []
   },
   "outputs": [
    {
     "data": {
      "text/plain": [
       "[['xxx', 3], ['yyy', 1], ['zzz', 2]]"
      ]
     },
     "execution_count": 30,
     "metadata": {},
     "output_type": "execute_result"
    }
   ],
   "source": [
    "elems = [['xxx', 3], ['yyy', 1], ['zzz', 2]]\n",
    "sorted(elems)"
   ]
  },
  {
   "cell_type": "code",
   "execution_count": null,
   "id": "9563b2be-bc8c-400a-a829-2fe4e79955c8",
   "metadata": {
    "tags": []
   },
   "outputs": [
    {
     "data": {
      "text/plain": [
       "[['yyy', 1], ['zzz', 2], ['xxx', 3]]"
      ]
     },
     "execution_count": 31,
     "metadata": {},
     "output_type": "execute_result"
    }
   ],
   "source": [
    "sorted(elems, key=lambda x: x[1])"
   ]
  },
  {
   "cell_type": "code",
   "execution_count": null,
   "id": "7be2d36b-b94c-4b3c-b7a0-8d8b73a79608",
   "metadata": {},
   "outputs": [],
   "source": []
  },
  {
   "cell_type": "markdown",
   "id": "f2622144-7e16-493d-bd90-05ce96aac003",
   "metadata": {},
   "source": [
    "### Пример написания функции\n",
    "Коэффициент эластичность спроса (E) в общем виде определяется как\n",
    "$$ E = \\frac{Q_2 - Q_1}{Q_1} \\div  \\frac{P_2-P_1}{P_1}$$, где $P_1$, $P_2$ -- старая и новая цены соответственно, $Q_1$, $Q_2$ -- старый и новый спрос, т.е. спрос до изменения цены и после.\n",
    "\n",
    "Напишем красивую функцию с Docstring -- справкой."
   ]
  },
  {
   "cell_type": "code",
   "execution_count": 32,
   "id": "c1ab0efb-4030-4068-859d-e2d10dbf1fdc",
   "metadata": {},
   "outputs": [],
   "source": [
    "# составим простенькую функцию и напишем к ней справку\n",
    "def elasticity(p1, p2, q1, q2): \n",
    "    \"\"\"\n",
    "    Функция для подсчета коэффициента эластичности.\n",
    "    Паараметры:\n",
    "     1. p1 -- старая цена, int\n",
    "     2. p2 -- новая цена, int\n",
    "     3. q1 -- спрос по старой цене, int\n",
    "     4. q2 -- спрос после изменения цены, int\n",
    "    Возвращает:\n",
    "     Значение коэффициента эластичности, int.\n",
    "    \"\"\"\n",
    "    dQ = (q2 - q1) / q1\n",
    "    dP = (p2 - p1) / p1\n",
    "    return dQ / dP"
   ]
  },
  {
   "cell_type": "code",
   "execution_count": 33,
   "id": "54ae902f-c3fb-40e4-8be2-1773ff51adb1",
   "metadata": {},
   "outputs": [
    {
     "data": {
      "text/plain": [
       "\u001b[1;31mSignature:\u001b[0m \u001b[0melasticity\u001b[0m\u001b[1;33m(\u001b[0m\u001b[0mp1\u001b[0m\u001b[1;33m,\u001b[0m \u001b[0mp2\u001b[0m\u001b[1;33m,\u001b[0m \u001b[0mq1\u001b[0m\u001b[1;33m,\u001b[0m \u001b[0mq2\u001b[0m\u001b[1;33m)\u001b[0m\u001b[1;33m\u001b[0m\u001b[1;33m\u001b[0m\u001b[0m\n",
       "\u001b[1;31mDocstring:\u001b[0m\n",
       "Функция для подсчета коэффициента эластичности.\n",
       "Паараметры:\n",
       " 1. p1 -- старая цена, int\n",
       " 2. p2 -- новая цена, int\n",
       " 3. q1 -- спрос по старой цене, int\n",
       " 4. q2 -- спрос после изменения цены, int\n",
       "Возвращает:\n",
       " Значение коэффициента эластичности, int.\n",
       "\u001b[1;31mFile:\u001b[0m      c:\\users\\igumn\\appdata\\local\\temp\\ipykernel_1576\\2581872593.py\n",
       "\u001b[1;31mType:\u001b[0m      function\n"
      ]
     },
     "metadata": {},
     "output_type": "display_data"
    }
   ],
   "source": [
    "# посмотрим справку по функции\n",
    "?elasticity"
   ]
  },
  {
   "cell_type": "code",
   "execution_count": 34,
   "id": "c7ef2c52-29bb-4441-acae-5533c36bea92",
   "metadata": {},
   "outputs": [
    {
     "name": "stdout",
     "output_type": "stream",
     "text": [
      "-1.0\n"
     ]
    }
   ],
   "source": [
    "print(elasticity(100, 110, 100_000, 90_000))"
   ]
  },
  {
   "cell_type": "markdown",
   "id": "e31a9895-8e40-4668-8908-9c6e28515e7c",
   "metadata": {},
   "source": [
    "### 1. ИПЦ\n",
    "Индекс потребительских цен определяется по формуле\n",
    "$$ \\text{ИПЦ} = \\text{СТТГ} \\div \\text{СТБГ} $$\n",
    ", где СТТГ, СТБГ -- стоимость потребительской корзины в текущей и базовом годах соответственно.\n",
    "\n",
    "Напишите функцию *CPI* для подсчета индекса потребительной цены.\n",
    "Функция принимает два числа: СТТГ и СТБГ, возвращает число с плавающей точкой, округленное до 2 знаков после запятой."
   ]
  },
  {
   "cell_type": "code",
   "execution_count": null,
   "id": "03ac8573-7972-4453-8d48-9bc85ca400ed",
   "metadata": {},
   "outputs": [],
   "source": [
    "# ваш код"
   ]
  },
  {
   "cell_type": "markdown",
   "id": "1096cc75-333d-439f-a9dd-24756fbe52d2",
   "metadata": {},
   "source": [
    "### 2. ТИ\n",
    "Темп инфляции определяется формулой\n",
    "$$ \\text{ТИ} = \\frac{\\text{ИПЦ}_1 - \\text{ИПЦ}_0}{\\text{ИПЦ}_0} * 100\\% $$\n",
    "\n",
    "Напишите функцию *IR* для подсчета темпа инфляции, которая принимает два действительных числа -- значения индексов потребительских цен.\n",
    "\n",
    "Функция возвращает число процентов с округлением до 2 знака после запятой *p*,  $ 0 \\leq p \\leq 100$."
   ]
  },
  {
   "cell_type": "code",
   "execution_count": null,
   "id": "4c99f8ee-e1ae-4fb4-97d2-e6675e45d8cf",
   "metadata": {},
   "outputs": [],
   "source": [
    "# ваш"
   ]
  },
  {
   "cell_type": "markdown",
   "id": "92b515ae-152d-4d48-b7d8-030ed4232e66",
   "metadata": {},
   "source": [
    "### 3. Тип инфляции\n",
    "В соответствии с темпом инфляции можно разделить её на несколько типов:\n",
    "1. Ползучая инфляция с ростом цен до 5 % годовых,\n",
    "2. Умеренная инфляция до 10 % годовых,\n",
    "3. Галопирующая инфляция с ростом цен 20-200% годовых,\n",
    "4. Гиперинфляция с катастрофическим ростом цен более 200 % в год.\n",
    "\n",
    "Напишите функцию *IR_type*, которая принимает темп инфляции (действительное число) и возвращает её тип (целое число)."
   ]
  },
  {
   "cell_type": "code",
   "execution_count": null,
   "id": "3955f0d4-d58d-4102-ac78-f907f74a25a1",
   "metadata": {},
   "outputs": [],
   "source": []
  },
  {
   "cell_type": "markdown",
   "id": "a89405f9-0f13-4cb1-a17d-202dd9737b1e",
   "metadata": {},
   "source": [
    "### 4. main\n",
    "Напишите функцию *main*, которая принимает принимает СТТГ и СТБГ и **печатает** информационное сообщение о темпах инфляции.\n",
    "\n",
    "Указания:  \n",
    "Внутри функции main воспользуйтесь написанными ранее функциями."
   ]
  },
  {
   "cell_type": "code",
   "execution_count": null,
   "id": "23143f93-6d09-4314-ae9f-0b367c28fbeb",
   "metadata": {},
   "outputs": [],
   "source": []
  },
  {
   "cell_type": "markdown",
   "id": "70d8e979-83c9-4db8-9cc5-42d3e097ef50",
   "metadata": {},
   "source": [
    "### 5. Уникальные авторы\n",
    "В файле *hw6_books.xml* в формате [xml](https://support.microsoft.com/ru-ru/office/xml-%D0%B4%D0%BB%D1%8F-%D0%BD%D0%B0%D1%87%D0%B8%D0%BD%D0%B0%D1%8E%D1%89%D0%B8%D1%85-a87d234d-4c2e-4409-9cbc-45e4eb857d44).\n",
    "\n",
    "Напишите функцию *get_authors*, которая в качестве аргумента принимает название xml файла и возвращает список с уникальными именами всех авторов в xml файле.\n",
    "\n",
    "То есть необходимо определить содержимое полей *author*, сохранить каждое в список и вернуть результат."
   ]
  },
  {
   "cell_type": "code",
   "execution_count": null,
   "id": "7501a279-9220-4317-8d0b-6cbe663b8834",
   "metadata": {},
   "outputs": [],
   "source": []
  },
  {
   "cell_type": "markdown",
   "id": "229a071a-4086-4aea-9467-f0a66cf012ed",
   "metadata": {},
   "source": [
    "### 6. Фильтрация\n",
    "Дан файл *DataYearGeo760.csv*. Напишите функцию *filter*, которая принимает в качестве аргумента название столбца и значение. Необходимо в новый файл формата csv (разделитель -- запятая) сохранить все строки из исходного файла, где значение в указанном столбце равно введенному значению.\n",
    "\n",
    "Конечный файл назвать *filter_col_val.csv*, где col -- название столбца, а val -- значение для фильтрации.\n",
    "\n",
    "Пример:\n",
    "если функции дать название столбца Area, а значение XXX, то в результате нужно создать файл с названием *filter_Area_XXX.csv*, в который будут записаны все строки, в которых в столбце Area было значение XXX."
   ]
  },
  {
   "cell_type": "code",
   "execution_count": null,
   "id": "9a92e284-7df9-4cef-91ee-23b6e0f7d877",
   "metadata": {},
   "outputs": [],
   "source": []
  }
 ],
 "metadata": {
  "kernelspec": {
   "display_name": "hock",
   "language": "python",
   "name": "hock"
  },
  "language_info": {
   "codemirror_mode": {
    "name": "ipython",
    "version": 3
   },
   "file_extension": ".py",
   "mimetype": "text/x-python",
   "name": "python",
   "nbconvert_exporter": "python",
   "pygments_lexer": "ipython3",
   "version": "3.11.7"
  }
 },
 "nbformat": 4,
 "nbformat_minor": 5
}
