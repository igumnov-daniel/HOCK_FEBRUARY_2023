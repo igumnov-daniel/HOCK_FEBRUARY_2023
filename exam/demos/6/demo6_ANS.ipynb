{
 "cells": [
  {
   "cell_type": "markdown",
   "id": "dcc9a357-981a-4671-9d11-8bd7001bb21b",
   "metadata": {
    "tags": []
   },
   "source": [
    "# Преамбула\n",
    "Экзамен состоит из трёх блоков:  \n",
    "- программирование на python;  \n",
    "- работа с датафреймами и описательная статистика;  \n",
    "- классическое машинное обучение.\n",
    "\n",
    "Стоимость вопроса равна одному баллу, если не сказано иное.  \n",
    "Для успешной сдачи экзамена необходимо набрать 50% и более от максимального числа баллов.\n",
    "\n",
    "- **NB:** В первом блоке (программирование на python) **ЗАПРЕЩЕНО** пользоваться библиотеками, не посталяемыми вместе с python по-умолчанию (т.е. pandas/numpy нельзя использовать в это блоке, а random/json -- можно);\n",
    "- Во всех задачах на визуализацию **подписи, названия и легенду делать необязательно!**\n",
    "- Все спорные моменты трактуются в пользу экзаменуемого;  \n",
    "- Ваш код должен быть воспроизводим (если я положу исходные файлы в ту же папку, что и Ваш ноутбук, и нажму `Run` -> `Run All Cells`, то всё должно работать). Так что соблюдайте логику и последовательнось запуска ячеек. Спасибо :)  \n",
    "- Можно пользоваться только своей головой, но любыми материалами и интернетом;  \n",
    "- Если задание кажется сложным -- пропустите его;  \n",
    "\n",
    "- Во время экзамена я буду отвечать только на вопросы касаемо формулировок заданий.\n",
    "\n",
    "Главное, не спешите, проверяйте, что и куда записывается.  \n",
    "За каждого болею.  \n",
    "Всем удачи!  \n"
   ]
  },
  {
   "cell_type": "markdown",
   "id": "ab0664d6-9a14-4703-9a0a-949ae63a9034",
   "metadata": {
    "tags": []
   },
   "source": [
    "<left>\n",
    "    <img src=\"Data/pics/goodluck.gif\"/>\n",
    "</left>"
   ]
  },
  {
   "cell_type": "markdown",
   "id": "5171f017-3c86-4bd4-b350-0570e865d50f",
   "metadata": {},
   "source": [
    "## A. Базовый python\n",
    "Для решения задач блока запрещено пользоваться библиотеками, не поставляемые вместе с python.  \n",
    "Иными словами, всё, что устанавливается через `pip`, тут использовать нельзя."
   ]
  },
  {
   "cell_type": "markdown",
   "id": "422ba0e8-835a-418d-b704-c4cbcd6fb275",
   "metadata": {},
   "source": [
    "### 1.\n",
    "Аукцион — это торги, во время которых покупатели могут только повышать цену, которую они готовы заплатить за товар. В результате товар продается по максимально возможной цене.\n",
    "\n",
    "В рекламных системах Яндекс и Google при выборе, какое объявление будет показано и насколько высоко, тоже используется аукцион. Но в этом аукционе мало предложить самую высокую цену, нужно учесть и другие факторы.\n",
    "<a href=\"https://vc.ru/marketing/324617-chto-takoe-aukcion-v-kontekstnoy-reklame\">©</a>\n",
    "\n",
    "Рассмотрим VCG-аукцион для первой страницы поиска Яндекса и поисковых площадок РСЯ (рекламные сети Яндекса).  \n",
    "Сначала рекламные объявления отбираются по качеству и соответсвию. Опустим этот момент. Далее объявления сортируются по ставке (сколько рекламодатель готов платить за каждый клик по его объявлению). Первые 4 будут показаны в выдаче. \n",
    "Предположим, что конкурируют 5 объявлений. Их ставки соответсвенно равны 1, 3, 4, 5, 10. Объявлене со ставкой 1 выбывает из игры.  \n",
    "\n",
    "Распределение трафика и стоимост кликов следующие:\n",
    "* все четыре объявления (4 места) получают 65% трафика и платят по 1 рубль за клик (ставка пятого места, которое не попало в выдачу);  \n",
    "* первые 3 места получают ещё 10% трафика и за каждый клик из этих 10% платят по 3 рубля (ставка четвертого места);   \n",
    "* первое и второе места по ставке получабт ещё 10% трафика и плата за клик составляет 4 рублей (ставка третьего места);  \n",
    "* победитель по ставке получает ещё 15% трафика и платит за каждый клик из этого трафика 5 рублей (ставка второго места).  \n",
    "\n",
    "\n",
    "\n",
    "\\- гарантируется, что повторов нет (все ставки различны);  \n",
    "\\- гарантируется, что все ставки -- положительные числа.\n",
    "\n"
   ]
  },
  {
   "cell_type": "markdown",
   "id": "07f729c6-9ac2-46c4-8281-5b614c8bc1d3",
   "metadata": {},
   "source": [
    "#### 1.1\n",
    "Напишите функцию `countTrafficMax`, которая принимает список из пяти чисел (ставки объявлений) и возвращает индекс максимальной ставки."
   ]
  },
  {
   "cell_type": "code",
   "execution_count": 1,
   "id": "0c683600-5867-4d96-97cb-aa019c37071a",
   "metadata": {
    "tags": []
   },
   "outputs": [],
   "source": [
    "def countTrafficMax(bets: list) -> int:\n",
    "    maxind = 0\n",
    "    maxval = bets[0]\n",
    "    for i, bet in enumerate(bets):\n",
    "        if bet > maxval:\n",
    "            maxval = bet\n",
    "            maxind = i\n",
    "    return maxind"
   ]
  },
  {
   "cell_type": "code",
   "execution_count": 2,
   "id": "73ca15e7-20fb-4672-af3e-481c3fbf7e7d",
   "metadata": {
    "tags": []
   },
   "outputs": [],
   "source": [
    "assert countTrafficMax([1,2,3,4,5]) == 4"
   ]
  },
  {
   "cell_type": "code",
   "execution_count": 3,
   "id": "24464136-4a81-4d08-b26e-05243d1b95ee",
   "metadata": {
    "tags": []
   },
   "outputs": [],
   "source": [
    "assert countTrafficMax([22, 34, 72, 64, 93]) == 4"
   ]
  },
  {
   "cell_type": "code",
   "execution_count": 4,
   "id": "84e5ed40-b0ba-4194-a8b7-fa157e17000a",
   "metadata": {
    "tags": []
   },
   "outputs": [],
   "source": [
    "assert countTrafficMax([76,  7, 60, 24, 51]) == 0"
   ]
  },
  {
   "cell_type": "code",
   "execution_count": 5,
   "id": "5c6a44e7-5960-4385-bf66-ce58db0598a3",
   "metadata": {
    "tags": []
   },
   "outputs": [],
   "source": [
    "assert countTrafficMax([66,  7, 67, 24, 51]) == 2"
   ]
  },
  {
   "cell_type": "markdown",
   "id": "ece7c187-afe0-4dd2-af21-1ab5b72a5440",
   "metadata": {},
   "source": [
    "#### 1.2 (2 балла)\n",
    "Напишите функцию `countTraffic5`, которая принимает список из пяти чисел (ставки объявлений) и возвращает новый список, где на каждой соответствующей позиции записан объем трафика, который получит объявление.  \n",
    "\n",
    "Например, если ставки были `[1,3,4,5,10]`, то функция должна вернуть список `[0, 65, 75, 85, 100]`.  \n",
    "\n",
    "Числа в списке, который передаётся функции, могут быть неупорядочены, то есть функция, которой мы дадим список `[10, 1,3,4,5]` должна вернуть `[100, 0, 65, 75, 85]`.  \n",
    "\n",
    "Список не имеет дубликатов.\n"
   ]
  },
  {
   "cell_type": "code",
   "execution_count": 6,
   "id": "57996ff0-4fd5-4cb2-936b-3d7bd96832d6",
   "metadata": {
    "tags": []
   },
   "outputs": [],
   "source": [
    "def countTraffic5(bets: list) -> int:\n",
    "    \"\"\"\n",
    "    Предлагаю следующую идею. У нас уже есть функция для нахождения инедкса максимального элемента.\n",
    "    Давайте сделаем копию исходного списка. Найдем максимальный элемент. Запомним его (сохраним в другой список). И на его место поставим 0.\n",
    "    Затем повторим процедуру с поиском максимума и его сохранение. Поскольку первый максимум в списке мы заменили на ноль, то найденный теперь максимум -- исходно второй максимум. \n",
    "    Таким же образом найдем 3й, 4й и 5й максимумы.\n",
    "    \"\"\"\n",
    "    traffic = []\n",
    "    bets_copy = bets[:]\n",
    "    maximums = []\n",
    "    \n",
    "    for _ in range(5):\n",
    "        maxValInd = countTrafficMax(bets_copy)\n",
    "        maximums.append(bets[maxValInd])\n",
    "        bets_copy[maxValInd] = 0\n",
    "        \n",
    "    for elem in bets:\n",
    "        if elem == maximums[0]:\n",
    "            traffic.append(100)\n",
    "        elif elem == maximums[1]:\n",
    "            traffic.append(85)\n",
    "        elif elem == maximums[2]:\n",
    "            traffic.append(75)\n",
    "        elif elem == maximums[3]:\n",
    "            traffic.append(65)\n",
    "        else:\n",
    "            traffic.append(0)\n",
    "           \n",
    "    return traffic"
   ]
  },
  {
   "cell_type": "code",
   "execution_count": 7,
   "id": "8c0846dc-8a39-499e-bdba-b68868c9a649",
   "metadata": {
    "tags": []
   },
   "outputs": [],
   "source": [
    "assert countTraffic5([1,2,3,4,5]) == [0, 65, 75, 85, 100]"
   ]
  },
  {
   "cell_type": "code",
   "execution_count": 8,
   "id": "4e72ae51-77d1-42a6-99a0-518d46d707de",
   "metadata": {
    "tags": []
   },
   "outputs": [],
   "source": [
    "assert countTraffic5([5,1,2,3,4]) == [100, 0, 65, 75, 85]"
   ]
  },
  {
   "cell_type": "code",
   "execution_count": 9,
   "id": "ba6a613d-ce6d-473d-8da1-0789dd0962cc",
   "metadata": {
    "tags": []
   },
   "outputs": [],
   "source": [
    "assert countTraffic5([5,1,3,4,2]) == [100, 0, 75, 85, 65]"
   ]
  },
  {
   "cell_type": "code",
   "execution_count": 10,
   "id": "bd3e9ff5-eeca-4fad-bd30-f1d9e92177cc",
   "metadata": {
    "tags": []
   },
   "outputs": [],
   "source": [
    "assert countTraffic5([1,5,2,4,3]) == [0, 100, 65, 85, 75]"
   ]
  },
  {
   "cell_type": "markdown",
   "id": "aa4c04b5-1fcf-4a4f-bea6-96ced190986b",
   "metadata": {},
   "source": [
    "#### 1.3 (2 балла)\n",
    "Напишите функцию `countTrafficN`, которая принимает список из неограниченного числа ставок и возвращает новый список, где на каждой соответствующей позиции записан объем трафика, который получит объявление.  "
   ]
  },
  {
   "cell_type": "code",
   "execution_count": 11,
   "id": "12d6bcea-cc0a-4e3d-85be-5cb09dd3a3e9",
   "metadata": {
    "tags": []
   },
   "outputs": [],
   "source": [
    "def countTrafficN(*args):\n",
    "    \"\"\"\n",
    "    Ранее созданная функция умеет работать и для случая, отличного от пяти.\n",
    "    Так что я просто создам новую функцию, которая принимаем какие-то аргументы в любом количестве, \n",
    "    передаёт их уже созданной функции и возвращает её результат.\n",
    "    \"\"\"\n",
    "    return countTraffic5(*args)"
   ]
  },
  {
   "cell_type": "code",
   "execution_count": 12,
   "id": "51348f1b-c855-48d8-9a42-cb92643e415e",
   "metadata": {
    "tags": []
   },
   "outputs": [],
   "source": [
    "assert countTrafficN([1,2,3,4,5]) == [0, 65, 75, 85, 100]\n",
    "assert countTrafficN([1,5,2,4,3]) == [0, 100, 65, 85, 75]"
   ]
  },
  {
   "cell_type": "code",
   "execution_count": 13,
   "id": "0006518d-cedb-4c6c-a289-685a37b0ddb1",
   "metadata": {
    "tags": []
   },
   "outputs": [],
   "source": [
    "assert countTrafficN([10,20,13,15,17, 1,2,3,4,5]) == [0, 100, 65, 75, 85, 0, 0, 0, 0, 0]"
   ]
  },
  {
   "cell_type": "code",
   "execution_count": 14,
   "id": "a855bc6b-1fd2-4561-aed2-0bbaa14053cb",
   "metadata": {
    "tags": []
   },
   "outputs": [],
   "source": [
    "assert countTrafficN([ 1,2,10,20,13,15,17,3,4,5]) == [0, 0, 0, 100, 65, 75, 85,  0, 0, 0]"
   ]
  },
  {
   "cell_type": "code",
   "execution_count": 15,
   "id": "b39a309d-1070-4830-900e-abc782dc3f09",
   "metadata": {
    "tags": []
   },
   "outputs": [],
   "source": [
    "assert countTrafficN([ 1, 2, 10, 4, 20, 5, 13, 6, 15, 7, 17, 8, 9]) == [0, 0, 0, 0, 100, 0, 65, 0, 75, 0, 85, 0, 0]"
   ]
  },
  {
   "cell_type": "markdown",
   "id": "1cd2e95e-89cf-413e-ac66-eb8f4203d8ea",
   "metadata": {},
   "source": [
    "### 2. (3 балла)\n",
    "Дан файл `hw_25000.csv` с ростом (в дюймах) и весом (в фунтах) людей. \n",
    "Создайте новый файл `hw_25000_metric.csv`, где рост и вес будут записаны в сантимерах и килограммах соответственно. Округлите каждое значение до десятых.  \n",
    "\n",
    "Считайте, что 1 дюйм равен 2.54 сантиметра, а фунт равен 453.6 грамма.\n",
    "\n",
    "Примерный результат:<br>\n",
    "<img src='Data/pics/task2.png' align='left'/>"
   ]
  },
  {
   "cell_type": "code",
   "execution_count": 16,
   "id": "bb0dbfc1-8fd7-4443-84af-92dd7fb3fbd7",
   "metadata": {
    "tags": []
   },
   "outputs": [],
   "source": [
    "def inch2m(inches):\n",
    "    return round(inches * 2.54, 1)\n",
    "\n",
    "def pound2kg(pounds):\n",
    "    return round(pounds * 453.6 / 1000, 1)\n",
    "\n",
    "with open('./Data/hw_25000.csv', 'r', encoding='utf8') as inpf:\n",
    "    with open('hw_25000_metric.csv', 'w', encoding='utf8') as outf:\n",
    "        \n",
    "        outf.write(\"Index,Height(cm),Weight(kg)\\n\")\n",
    "        inpf.readline()\n",
    "        \n",
    "        for line in inpf:\n",
    "            # elems = line.strip().split(',')\n",
    "            # h = float(elems[1]) * 2.54\n",
    "            # w = float(elems[2]) * 453.6 / 1000\n",
    "            index, h, w = line.strip().split(',')\n",
    "            h = inch2m(float(h))\n",
    "            w = pound2kg(float(w))\n",
    "            outf.write(\"{},{},{}\\n\".format(index, h, w))\n",
    "            # outf.write(f\"{index},{h:.1f},{w:.1f}\\n\")\n",
    "            # res = index + ',' + str(h) + ',' + str(w) + '\\n'\n",
    "            # outf.write(res)"
   ]
  },
  {
   "cell_type": "markdown",
   "id": "c6e23045-74ce-4a6c-9cbe-8375c715daa0",
   "metadata": {},
   "source": [
    "### 3. (4 балла)\n",
    "Сотрудникам компании были выданы карточки для оплаты обедов в кафе на территории рабочего кампуса. Ваша задача -- написать класс для работы карточек.\n",
    "\n",
    "Описание классовой структуры.\n",
    "\n",
    "Есть класс карточки для оплаты обеда (`LunchCard`).  \n",
    "Каждая карточка обладает следующими атрибутами:\n",
    "* имя владельца (`name`);  \n",
    "* баланс средств (`balance`).\n",
    "\n",
    "По-умолчанию карточка создаётся с 50 у.е. на балансе.\n",
    "\n",
    "У карточки должны быть реализованы методы:\n",
    "* `eat_lunch`, который вычитает 2.6 у.е. из баланса, если это возможно, и возвращает баланс после совершения операции. Если покушать обед невозможно (недостаточно средств), то возвращается булевое `False`;\n",
    "* `eat_special`, который уменьшает баланс на 4.6 у.е., а в остальном работает так же, как `eat_lunch`;\n",
    "* `deposit_money`, который в качестве аргумента принимает число (сколько денег внести на баланс). Гарантируется, что метод принимает положительное число. После внесения средств метод возвращает текущий баланс.\n",
    "\n"
   ]
  },
  {
   "cell_type": "code",
   "execution_count": 17,
   "id": "77b8d635-cb24-416a-b364-f1258dadcaf2",
   "metadata": {},
   "outputs": [],
   "source": [
    "class LunchCard:\n",
    "    \n",
    "    def __init__(self, name, balance=50):\n",
    "        self.name = name\n",
    "        self.balance = balance\n",
    "\n",
    "    def eat(self, n):\n",
    "        if self.balance >= n:\n",
    "            self.balance -= n\n",
    "            return self.balance\n",
    "        return False\n",
    "    \n",
    "    def eat_lunch(self):\n",
    "        # if self.balance >= 2.6:\n",
    "        #     self.balance -= 2.6\n",
    "        #     return self.balance\n",
    "        # return False\n",
    "        return self.eat(2.6)\n",
    "    \n",
    "    def eat_special(self):\n",
    "        # if self.balance >= 4.6:\n",
    "        #     self.balance -= 4.6\n",
    "        #     return self.balance\n",
    "        # return False\n",
    "        return self.eat(4.6)\n",
    "    \n",
    "    def deposit_money(self, m):\n",
    "        self.balance += m\n",
    "        return self.balance"
   ]
  },
  {
   "cell_type": "code",
   "execution_count": 18,
   "id": "85032442-fc2e-41b6-afbc-218eae8ceb56",
   "metadata": {
    "tags": []
   },
   "outputs": [],
   "source": [
    "LC = LunchCard('HOCK')\n",
    "assert LC.name == 'HOCK'"
   ]
  },
  {
   "cell_type": "code",
   "execution_count": 19,
   "id": "d7b5c05a-87d9-4d97-ba4e-e708a96da983",
   "metadata": {
    "tags": []
   },
   "outputs": [],
   "source": [
    "assert LC.balance == 50"
   ]
  },
  {
   "cell_type": "code",
   "execution_count": 20,
   "id": "6de39937-ba0d-4a21-a40c-09d220974023",
   "metadata": {
    "tags": []
   },
   "outputs": [],
   "source": [
    "assert LC.eat_lunch() == 47.4"
   ]
  },
  {
   "cell_type": "code",
   "execution_count": 21,
   "id": "f9d08e6e-6214-4b0b-a07e-3e8dd5ed9d3b",
   "metadata": {
    "tags": []
   },
   "outputs": [],
   "source": [
    "LC.eat_lunch()\n",
    "LC.eat_special()\n",
    "assert round(LC.balance,1) == 40.2"
   ]
  },
  {
   "cell_type": "code",
   "execution_count": 22,
   "id": "4def0d46-97ae-460d-a398-d57788acbe15",
   "metadata": {
    "tags": []
   },
   "outputs": [],
   "source": [
    "LC = LunchCard('HOCK', 4)\n",
    "assert all([LC.name == 'HOCK', LC.balance == 4, LC.eat_lunch() == 1.4, not LC.eat_special()])"
   ]
  },
  {
   "cell_type": "markdown",
   "id": "f474053b-5a52-427e-8a19-30ec385c80a6",
   "metadata": {},
   "source": [
    "# B. Работа с табличными данными"
   ]
  },
  {
   "cell_type": "markdown",
   "id": "7c8cba84-fbaf-4a94-9f36-18bbb5547240",
   "metadata": {},
   "source": [
    "В этом блоке мы поработает с <a href=\"https://finances.worldbank.org/Loans-and-Credits/IBRD-Statement-Of-Loans-Historical-Data/zucq-nrc3\">историческими данными</a> о кредитах, выданных крылом <a href=\"https://www.vsemirnyjbank.org/ru/home\">Всемирного Банка</a> IBRD (The International Bank for Reconstruction and Development)."
   ]
  },
  {
   "cell_type": "code",
   "execution_count": 23,
   "id": "db81bc5c-e8df-4326-914c-7565d5c20db2",
   "metadata": {
    "tags": []
   },
   "outputs": [],
   "source": [
    "# импорт необходимый библиотек\n",
    "import pandas as pd\n",
    "import numpy as np\n",
    "\n",
    "import seaborn as sns\n",
    "import matplotlib.pyplot as plt"
   ]
  },
  {
   "cell_type": "code",
   "execution_count": 24,
   "id": "278e49c7-d9f7-4989-9a71-fb0565acfcb0",
   "metadata": {
    "tags": []
   },
   "outputs": [
    {
     "data": {
      "text/html": [
       "<div>\n",
       "<style scoped>\n",
       "    .dataframe tbody tr th:only-of-type {\n",
       "        vertical-align: middle;\n",
       "    }\n",
       "\n",
       "    .dataframe tbody tr th {\n",
       "        vertical-align: top;\n",
       "    }\n",
       "\n",
       "    .dataframe thead th {\n",
       "        text-align: right;\n",
       "    }\n",
       "</style>\n",
       "<table border=\"1\" class=\"dataframe\">\n",
       "  <thead>\n",
       "    <tr style=\"text-align: right;\">\n",
       "      <th></th>\n",
       "      <th>Loan Number</th>\n",
       "      <th>Region</th>\n",
       "      <th>Country Code</th>\n",
       "      <th>Country</th>\n",
       "      <th>Loan Type</th>\n",
       "      <th>Loan Status</th>\n",
       "      <th>Original Principal Amount</th>\n",
       "      <th>Interest Rate</th>\n",
       "      <th>First Repayment Date</th>\n",
       "      <th>Last Repayment Date</th>\n",
       "    </tr>\n",
       "  </thead>\n",
       "  <tbody>\n",
       "    <tr>\n",
       "      <th>0</th>\n",
       "      <td>IBRD100</td>\n",
       "      <td>EUROPE AND CENTRAL ASIA</td>\n",
       "      <td>NL</td>\n",
       "      <td>Netherlands</td>\n",
       "      <td>NON POOL</td>\n",
       "      <td>Repaid</td>\n",
       "      <td>2000000.0</td>\n",
       "      <td>4.0</td>\n",
       "      <td>01/15/1949 12:00:00 AM</td>\n",
       "      <td>07/15/1958 12:00:00 AM</td>\n",
       "    </tr>\n",
       "    <tr>\n",
       "      <th>1</th>\n",
       "      <td>IBRD101</td>\n",
       "      <td>EUROPE AND CENTRAL ASIA</td>\n",
       "      <td>NL</td>\n",
       "      <td>Netherlands</td>\n",
       "      <td>NON POOL</td>\n",
       "      <td>Repaid</td>\n",
       "      <td>2000000.0</td>\n",
       "      <td>4.0</td>\n",
       "      <td>01/15/1949 12:00:00 AM</td>\n",
       "      <td>07/15/1958 12:00:00 AM</td>\n",
       "    </tr>\n",
       "  </tbody>\n",
       "</table>\n",
       "</div>"
      ],
      "text/plain": [
       "  Loan Number                   Region Country Code      Country Loan Type  \\\n",
       "0     IBRD100  EUROPE AND CENTRAL ASIA           NL  Netherlands  NON POOL   \n",
       "1     IBRD101  EUROPE AND CENTRAL ASIA           NL  Netherlands  NON POOL   \n",
       "\n",
       "  Loan Status  Original Principal Amount  Interest Rate  \\\n",
       "0      Repaid                  2000000.0            4.0   \n",
       "1      Repaid                  2000000.0            4.0   \n",
       "\n",
       "     First Repayment Date     Last Repayment Date  \n",
       "0  01/15/1949 12:00:00 AM  07/15/1958 12:00:00 AM  \n",
       "1  01/15/1949 12:00:00 AM  07/15/1958 12:00:00 AM  "
      ]
     },
     "execution_count": 24,
     "metadata": {},
     "output_type": "execute_result"
    }
   ],
   "source": [
    "# чтение файла (папка Data, файл world_bank_loans_historical_data.tsv )\n",
    "df = pd.read_csv('./Data/world_bank_loans_historical_data.zip', sep='\\t')\n",
    "df.head(2)"
   ]
  },
  {
   "cell_type": "code",
   "execution_count": 25,
   "id": "5abb2137-9c43-4e16-a787-5d28a6642bb8",
   "metadata": {
    "tags": []
   },
   "outputs": [
    {
     "name": "stdout",
     "output_type": "stream",
     "text": [
      "<class 'pandas.core.frame.DataFrame'>\n",
      "RangeIndex: 10127 entries, 0 to 10126\n",
      "Data columns (total 10 columns):\n",
      " #   Column                     Non-Null Count  Dtype  \n",
      "---  ------                     --------------  -----  \n",
      " 0   Loan Number                10127 non-null  object \n",
      " 1   Region                     10127 non-null  object \n",
      " 2   Country Code               10125 non-null  object \n",
      " 3   Country                    10127 non-null  object \n",
      " 4   Loan Type                  10127 non-null  object \n",
      " 5   Loan Status                10127 non-null  object \n",
      " 6   Original Principal Amount  10127 non-null  float64\n",
      " 7   Interest Rate              10024 non-null  float64\n",
      " 8   First Repayment Date       10080 non-null  object \n",
      " 9   Last Repayment Date        10081 non-null  object \n",
      "dtypes: float64(2), object(8)\n",
      "memory usage: 791.3+ KB\n"
     ]
    }
   ],
   "source": [
    "df.info()"
   ]
  },
  {
   "cell_type": "markdown",
   "id": "66c393b3-584a-48b1-a967-38bbeff290f9",
   "metadata": {},
   "source": [
    "### 4.\n",
    "Проверьте, есть ли в таблице пропущенные значения.  \n",
    "Если есть, то удалите строки с пропусками."
   ]
  },
  {
   "cell_type": "code",
   "execution_count": 26,
   "id": "c970b2fd-62d0-4e1e-8eb7-210b41b981a7",
   "metadata": {
    "tags": []
   },
   "outputs": [
    {
     "data": {
      "text/plain": [
       "Loan Number                    0\n",
       "Region                         0\n",
       "Country Code                   2\n",
       "Country                        0\n",
       "Loan Type                      0\n",
       "Loan Status                    0\n",
       "Original Principal Amount      0\n",
       "Interest Rate                103\n",
       "First Repayment Date          47\n",
       "Last Repayment Date           46\n",
       "dtype: int64"
      ]
     },
     "execution_count": 26,
     "metadata": {},
     "output_type": "execute_result"
    }
   ],
   "source": [
    "df.isna().sum()"
   ]
  },
  {
   "cell_type": "code",
   "execution_count": 27,
   "id": "db4f6c82-7e67-4cd9-86c2-fa597db0c168",
   "metadata": {
    "tags": []
   },
   "outputs": [
    {
     "data": {
      "text/plain": [
       "Loan Number                  0\n",
       "Region                       0\n",
       "Country Code                 0\n",
       "Country                      0\n",
       "Loan Type                    0\n",
       "Loan Status                  0\n",
       "Original Principal Amount    0\n",
       "Interest Rate                0\n",
       "First Repayment Date         0\n",
       "Last Repayment Date          0\n",
       "dtype: int64"
      ]
     },
     "execution_count": 27,
     "metadata": {},
     "output_type": "execute_result"
    }
   ],
   "source": [
    "df = df.dropna()\n",
    "df.isna().sum()"
   ]
  },
  {
   "cell_type": "code",
   "execution_count": 28,
   "id": "d2b11753-875f-4ec6-a4d0-6f554b96c4c3",
   "metadata": {
    "tags": []
   },
   "outputs": [
    {
     "data": {
      "text/plain": [
       "(10018, 10)"
      ]
     },
     "execution_count": 28,
     "metadata": {},
     "output_type": "execute_result"
    }
   ],
   "source": [
    "df.shape"
   ]
  },
  {
   "cell_type": "markdown",
   "id": "228dd148-c723-4cef-9489-57add52fc511",
   "metadata": {},
   "source": [
    "### 5.\n",
    "Посчитайте медианные значения для размера кредита (`Original Principal Amount`) и процентной ставки (`Interest Rate`)"
   ]
  },
  {
   "cell_type": "code",
   "execution_count": 29,
   "id": "67abf44c-e8ed-410f-acdf-e3ab9a6309f6",
   "metadata": {
    "tags": []
   },
   "outputs": [
    {
     "data": {
      "text/plain": [
       "Original Principal Amount    32000000.00\n",
       "Interest Rate                       5.31\n",
       "dtype: float64"
      ]
     },
     "execution_count": 29,
     "metadata": {},
     "output_type": "execute_result"
    }
   ],
   "source": [
    "df[['Original Principal Amount', 'Interest Rate']].median()"
   ]
  },
  {
   "cell_type": "markdown",
   "id": "b394d3bf-f62d-47d7-b0b4-d95e289d3bf1",
   "metadata": {},
   "source": [
    "### 6. \n",
    "Выведите строки из датафрейма для топ-5 самых больших кредитов."
   ]
  },
  {
   "cell_type": "code",
   "execution_count": 30,
   "id": "4584affb-801b-4781-898a-c63cf9956fb8",
   "metadata": {},
   "outputs": [
    {
     "data": {
      "text/html": [
       "<div>\n",
       "<style scoped>\n",
       "    .dataframe tbody tr th:only-of-type {\n",
       "        vertical-align: middle;\n",
       "    }\n",
       "\n",
       "    .dataframe tbody tr th {\n",
       "        vertical-align: top;\n",
       "    }\n",
       "\n",
       "    .dataframe thead th {\n",
       "        text-align: right;\n",
       "    }\n",
       "</style>\n",
       "<table border=\"1\" class=\"dataframe\">\n",
       "  <thead>\n",
       "    <tr style=\"text-align: right;\">\n",
       "      <th></th>\n",
       "      <th>Loan Number</th>\n",
       "      <th>Region</th>\n",
       "      <th>Country Code</th>\n",
       "      <th>Country</th>\n",
       "      <th>Loan Type</th>\n",
       "      <th>Loan Status</th>\n",
       "      <th>Original Principal Amount</th>\n",
       "      <th>Interest Rate</th>\n",
       "      <th>First Repayment Date</th>\n",
       "      <th>Last Repayment Date</th>\n",
       "    </tr>\n",
       "  </thead>\n",
       "  <tbody>\n",
       "    <tr>\n",
       "      <th>8369</th>\n",
       "      <td>IBRD78620</td>\n",
       "      <td>EASTERN AND SOUTHERN AFRICA</td>\n",
       "      <td>ZA</td>\n",
       "      <td>South Africa</td>\n",
       "      <td>FSL</td>\n",
       "      <td>Repaying</td>\n",
       "      <td>3.750000e+09</td>\n",
       "      <td>0.00</td>\n",
       "      <td>05/01/2017 12:00:00 AM</td>\n",
       "      <td>05/01/2038 12:00:00 AM</td>\n",
       "    </tr>\n",
       "    <tr>\n",
       "      <th>6910</th>\n",
       "      <td>IBRD42670</td>\n",
       "      <td>EAST ASIA AND PACIFIC</td>\n",
       "      <td>KR</td>\n",
       "      <td>Korea, Republic of</td>\n",
       "      <td>SCL</td>\n",
       "      <td>Fully Repaid</td>\n",
       "      <td>3.000000e+09</td>\n",
       "      <td>3.06</td>\n",
       "      <td>09/15/2003 12:00:00 AM</td>\n",
       "      <td>03/15/2008 12:00:00 AM</td>\n",
       "    </tr>\n",
       "    <tr>\n",
       "      <th>7053</th>\n",
       "      <td>IBRD44050</td>\n",
       "      <td>LATIN AMERICA AND CARIBBEAN</td>\n",
       "      <td>AR</td>\n",
       "      <td>Argentina</td>\n",
       "      <td>SCL</td>\n",
       "      <td>Fully Repaid</td>\n",
       "      <td>2.525250e+09</td>\n",
       "      <td>5.24</td>\n",
       "      <td>04/15/2002 12:00:00 AM</td>\n",
       "      <td>10/15/2003 12:00:00 AM</td>\n",
       "    </tr>\n",
       "    <tr>\n",
       "      <th>8197</th>\n",
       "      <td>IBRD76810</td>\n",
       "      <td>EUROPE AND CENTRAL ASIA</td>\n",
       "      <td>KZ</td>\n",
       "      <td>Kazakhstan</td>\n",
       "      <td>FSL</td>\n",
       "      <td>Disbursing&amp;Repaying</td>\n",
       "      <td>2.125000e+09</td>\n",
       "      <td>0.00</td>\n",
       "      <td>05/15/2014 12:00:00 AM</td>\n",
       "      <td>11/15/2033 12:00:00 AM</td>\n",
       "    </tr>\n",
       "    <tr>\n",
       "      <th>8651</th>\n",
       "      <td>IBRD81640</td>\n",
       "      <td>EAST ASIA AND PACIFIC</td>\n",
       "      <td>ID</td>\n",
       "      <td>Indonesia</td>\n",
       "      <td>FSL</td>\n",
       "      <td>Repaying</td>\n",
       "      <td>2.000000e+09</td>\n",
       "      <td>0.00</td>\n",
       "      <td>09/01/2018 12:00:00 AM</td>\n",
       "      <td>03/01/2023 12:00:00 AM</td>\n",
       "    </tr>\n",
       "  </tbody>\n",
       "</table>\n",
       "</div>"
      ],
      "text/plain": [
       "     Loan Number                       Region Country Code  \\\n",
       "8369   IBRD78620  EASTERN AND SOUTHERN AFRICA           ZA   \n",
       "6910   IBRD42670        EAST ASIA AND PACIFIC           KR   \n",
       "7053   IBRD44050  LATIN AMERICA AND CARIBBEAN           AR   \n",
       "8197   IBRD76810      EUROPE AND CENTRAL ASIA           KZ   \n",
       "8651   IBRD81640        EAST ASIA AND PACIFIC           ID   \n",
       "\n",
       "                 Country Loan Type          Loan Status  \\\n",
       "8369        South Africa       FSL             Repaying   \n",
       "6910  Korea, Republic of       SCL         Fully Repaid   \n",
       "7053           Argentina       SCL         Fully Repaid   \n",
       "8197          Kazakhstan       FSL  Disbursing&Repaying   \n",
       "8651           Indonesia       FSL             Repaying   \n",
       "\n",
       "      Original Principal Amount  Interest Rate    First Repayment Date  \\\n",
       "8369               3.750000e+09           0.00  05/01/2017 12:00:00 AM   \n",
       "6910               3.000000e+09           3.06  09/15/2003 12:00:00 AM   \n",
       "7053               2.525250e+09           5.24  04/15/2002 12:00:00 AM   \n",
       "8197               2.125000e+09           0.00  05/15/2014 12:00:00 AM   \n",
       "8651               2.000000e+09           0.00  09/01/2018 12:00:00 AM   \n",
       "\n",
       "         Last Repayment Date  \n",
       "8369  05/01/2038 12:00:00 AM  \n",
       "6910  03/15/2008 12:00:00 AM  \n",
       "7053  10/15/2003 12:00:00 AM  \n",
       "8197  11/15/2033 12:00:00 AM  \n",
       "8651  03/01/2023 12:00:00 AM  "
      ]
     },
     "execution_count": 30,
     "metadata": {},
     "output_type": "execute_result"
    }
   ],
   "source": [
    "df.sort_values(by='Original Principal Amount', ascending=False).head() # ХУЖЕ"
   ]
  },
  {
   "cell_type": "code",
   "execution_count": 31,
   "id": "2627e1e4-6e06-4ed8-b5fd-08d292016305",
   "metadata": {
    "tags": []
   },
   "outputs": [
    {
     "data": {
      "text/html": [
       "<div>\n",
       "<style scoped>\n",
       "    .dataframe tbody tr th:only-of-type {\n",
       "        vertical-align: middle;\n",
       "    }\n",
       "\n",
       "    .dataframe tbody tr th {\n",
       "        vertical-align: top;\n",
       "    }\n",
       "\n",
       "    .dataframe thead th {\n",
       "        text-align: right;\n",
       "    }\n",
       "</style>\n",
       "<table border=\"1\" class=\"dataframe\">\n",
       "  <thead>\n",
       "    <tr style=\"text-align: right;\">\n",
       "      <th></th>\n",
       "      <th>Loan Number</th>\n",
       "      <th>Region</th>\n",
       "      <th>Country Code</th>\n",
       "      <th>Country</th>\n",
       "      <th>Loan Type</th>\n",
       "      <th>Loan Status</th>\n",
       "      <th>Original Principal Amount</th>\n",
       "      <th>Interest Rate</th>\n",
       "      <th>First Repayment Date</th>\n",
       "      <th>Last Repayment Date</th>\n",
       "    </tr>\n",
       "  </thead>\n",
       "  <tbody>\n",
       "    <tr>\n",
       "      <th>8369</th>\n",
       "      <td>IBRD78620</td>\n",
       "      <td>EASTERN AND SOUTHERN AFRICA</td>\n",
       "      <td>ZA</td>\n",
       "      <td>South Africa</td>\n",
       "      <td>FSL</td>\n",
       "      <td>Repaying</td>\n",
       "      <td>3.750000e+09</td>\n",
       "      <td>0.00</td>\n",
       "      <td>05/01/2017 12:00:00 AM</td>\n",
       "      <td>05/01/2038 12:00:00 AM</td>\n",
       "    </tr>\n",
       "    <tr>\n",
       "      <th>6910</th>\n",
       "      <td>IBRD42670</td>\n",
       "      <td>EAST ASIA AND PACIFIC</td>\n",
       "      <td>KR</td>\n",
       "      <td>Korea, Republic of</td>\n",
       "      <td>SCL</td>\n",
       "      <td>Fully Repaid</td>\n",
       "      <td>3.000000e+09</td>\n",
       "      <td>3.06</td>\n",
       "      <td>09/15/2003 12:00:00 AM</td>\n",
       "      <td>03/15/2008 12:00:00 AM</td>\n",
       "    </tr>\n",
       "    <tr>\n",
       "      <th>7053</th>\n",
       "      <td>IBRD44050</td>\n",
       "      <td>LATIN AMERICA AND CARIBBEAN</td>\n",
       "      <td>AR</td>\n",
       "      <td>Argentina</td>\n",
       "      <td>SCL</td>\n",
       "      <td>Fully Repaid</td>\n",
       "      <td>2.525250e+09</td>\n",
       "      <td>5.24</td>\n",
       "      <td>04/15/2002 12:00:00 AM</td>\n",
       "      <td>10/15/2003 12:00:00 AM</td>\n",
       "    </tr>\n",
       "    <tr>\n",
       "      <th>8197</th>\n",
       "      <td>IBRD76810</td>\n",
       "      <td>EUROPE AND CENTRAL ASIA</td>\n",
       "      <td>KZ</td>\n",
       "      <td>Kazakhstan</td>\n",
       "      <td>FSL</td>\n",
       "      <td>Disbursing&amp;Repaying</td>\n",
       "      <td>2.125000e+09</td>\n",
       "      <td>0.00</td>\n",
       "      <td>05/15/2014 12:00:00 AM</td>\n",
       "      <td>11/15/2033 12:00:00 AM</td>\n",
       "    </tr>\n",
       "    <tr>\n",
       "      <th>6948</th>\n",
       "      <td>IBRD43020</td>\n",
       "      <td>EAST ASIA AND PACIFIC</td>\n",
       "      <td>KR</td>\n",
       "      <td>Korea, Republic of</td>\n",
       "      <td>SCL</td>\n",
       "      <td>Fully Repaid</td>\n",
       "      <td>2.000000e+09</td>\n",
       "      <td>1.27</td>\n",
       "      <td>11/15/2003 12:00:00 AM</td>\n",
       "      <td>05/15/2013 12:00:00 AM</td>\n",
       "    </tr>\n",
       "  </tbody>\n",
       "</table>\n",
       "</div>"
      ],
      "text/plain": [
       "     Loan Number                       Region Country Code  \\\n",
       "8369   IBRD78620  EASTERN AND SOUTHERN AFRICA           ZA   \n",
       "6910   IBRD42670        EAST ASIA AND PACIFIC           KR   \n",
       "7053   IBRD44050  LATIN AMERICA AND CARIBBEAN           AR   \n",
       "8197   IBRD76810      EUROPE AND CENTRAL ASIA           KZ   \n",
       "6948   IBRD43020        EAST ASIA AND PACIFIC           KR   \n",
       "\n",
       "                 Country Loan Type          Loan Status  \\\n",
       "8369        South Africa       FSL             Repaying   \n",
       "6910  Korea, Republic of       SCL         Fully Repaid   \n",
       "7053           Argentina       SCL         Fully Repaid   \n",
       "8197          Kazakhstan       FSL  Disbursing&Repaying   \n",
       "6948  Korea, Republic of       SCL         Fully Repaid   \n",
       "\n",
       "      Original Principal Amount  Interest Rate    First Repayment Date  \\\n",
       "8369               3.750000e+09           0.00  05/01/2017 12:00:00 AM   \n",
       "6910               3.000000e+09           3.06  09/15/2003 12:00:00 AM   \n",
       "7053               2.525250e+09           5.24  04/15/2002 12:00:00 AM   \n",
       "8197               2.125000e+09           0.00  05/15/2014 12:00:00 AM   \n",
       "6948               2.000000e+09           1.27  11/15/2003 12:00:00 AM   \n",
       "\n",
       "         Last Repayment Date  \n",
       "8369  05/01/2038 12:00:00 AM  \n",
       "6910  03/15/2008 12:00:00 AM  \n",
       "7053  10/15/2003 12:00:00 AM  \n",
       "8197  11/15/2033 12:00:00 AM  \n",
       "6948  05/15/2013 12:00:00 AM  "
      ]
     },
     "execution_count": 31,
     "metadata": {},
     "output_type": "execute_result"
    }
   ],
   "source": [
    "df.nlargest(n=5, columns='Original Principal Amount') # ЛУЧШЕ"
   ]
  },
  {
   "cell_type": "markdown",
   "id": "24579c3d-2e2a-4106-b59d-05a5734ae6bb",
   "metadata": {},
   "source": [
    "### 7."
   ]
  },
  {
   "cell_type": "markdown",
   "id": "49c1a822-78ac-42e3-a072-376c4a5c49d1",
   "metadata": {},
   "source": [
    "#### 7.1 (1.5 балла)\n",
    "Для каждого региона (`Region`) посчитайте:\n",
    "* число кредитов;  \n",
    "* медианный размер кредита;  \n",
    "* среднюю процентную ставку.  "
   ]
  },
  {
   "cell_type": "code",
   "execution_count": 32,
   "id": "4c2c3588-698b-4194-9bfc-2060cc69df0f",
   "metadata": {},
   "outputs": [
    {
     "data": {
      "text/html": [
       "<div>\n",
       "<style scoped>\n",
       "    .dataframe tbody tr th:only-of-type {\n",
       "        vertical-align: middle;\n",
       "    }\n",
       "\n",
       "    .dataframe tbody tr th {\n",
       "        vertical-align: top;\n",
       "    }\n",
       "\n",
       "    .dataframe thead tr th {\n",
       "        text-align: left;\n",
       "    }\n",
       "\n",
       "    .dataframe thead tr:last-of-type th {\n",
       "        text-align: right;\n",
       "    }\n",
       "</style>\n",
       "<table border=\"1\" class=\"dataframe\">\n",
       "  <thead>\n",
       "    <tr>\n",
       "      <th></th>\n",
       "      <th colspan=\"2\" halign=\"left\">Original Principal Amount</th>\n",
       "      <th>Interest Rate</th>\n",
       "    </tr>\n",
       "    <tr>\n",
       "      <th></th>\n",
       "      <th>count</th>\n",
       "      <th>median</th>\n",
       "      <th>mean</th>\n",
       "    </tr>\n",
       "    <tr>\n",
       "      <th>Region</th>\n",
       "      <th></th>\n",
       "      <th></th>\n",
       "      <th></th>\n",
       "    </tr>\n",
       "  </thead>\n",
       "  <tbody>\n",
       "    <tr>\n",
       "      <th>AFRICA</th>\n",
       "      <td>188</td>\n",
       "      <td>8098150.0</td>\n",
       "      <td>6.3</td>\n",
       "    </tr>\n",
       "    <tr>\n",
       "      <th>EAST ASIA AND PACIFIC</th>\n",
       "      <td>2129</td>\n",
       "      <td>40000000.0</td>\n",
       "      <td>4.6</td>\n",
       "    </tr>\n",
       "    <tr>\n",
       "      <th>EASTERN AND SOUTHERN AFRICA</th>\n",
       "      <td>395</td>\n",
       "      <td>12400000.0</td>\n",
       "      <td>5.3</td>\n",
       "    </tr>\n",
       "    <tr>\n",
       "      <th>EUROPE AND CENTRAL ASIA</th>\n",
       "      <td>1957</td>\n",
       "      <td>36400000.0</td>\n",
       "      <td>3.6</td>\n",
       "    </tr>\n",
       "    <tr>\n",
       "      <th>LATIN AMERICA AND CARIBBEAN</th>\n",
       "      <td>3158</td>\n",
       "      <td>30000000.0</td>\n",
       "      <td>4.2</td>\n",
       "    </tr>\n",
       "    <tr>\n",
       "      <th>MIDDLE EAST AND NORTH AFRICA</th>\n",
       "      <td>1167</td>\n",
       "      <td>33000000.0</td>\n",
       "      <td>4.2</td>\n",
       "    </tr>\n",
       "    <tr>\n",
       "      <th>SOUTH ASIA</th>\n",
       "      <td>631</td>\n",
       "      <td>90000000.0</td>\n",
       "      <td>3.3</td>\n",
       "    </tr>\n",
       "    <tr>\n",
       "      <th>WESTERN AND CENTRAL AFRICA</th>\n",
       "      <td>393</td>\n",
       "      <td>16603879.6</td>\n",
       "      <td>6.2</td>\n",
       "    </tr>\n",
       "  </tbody>\n",
       "</table>\n",
       "</div>"
      ],
      "text/plain": [
       "                             Original Principal Amount              \\\n",
       "                                                 count      median   \n",
       "Region                                                               \n",
       "AFRICA                                             188   8098150.0   \n",
       "EAST ASIA AND PACIFIC                             2129  40000000.0   \n",
       "EASTERN AND SOUTHERN AFRICA                        395  12400000.0   \n",
       "EUROPE AND CENTRAL ASIA                           1957  36400000.0   \n",
       "LATIN AMERICA AND CARIBBEAN                       3158  30000000.0   \n",
       "MIDDLE EAST AND NORTH AFRICA                      1167  33000000.0   \n",
       "SOUTH ASIA                                         631  90000000.0   \n",
       "WESTERN AND CENTRAL AFRICA                         393  16603879.6   \n",
       "\n",
       "                             Interest Rate  \n",
       "                                      mean  \n",
       "Region                                      \n",
       "AFRICA                                 6.3  \n",
       "EAST ASIA AND PACIFIC                  4.6  \n",
       "EASTERN AND SOUTHERN AFRICA            5.3  \n",
       "EUROPE AND CENTRAL ASIA                3.6  \n",
       "LATIN AMERICA AND CARIBBEAN            4.2  \n",
       "MIDDLE EAST AND NORTH AFRICA           4.2  \n",
       "SOUTH ASIA                             3.3  \n",
       "WESTERN AND CENTRAL AFRICA             6.2  "
      ]
     },
     "execution_count": 32,
     "metadata": {},
     "output_type": "execute_result"
    }
   ],
   "source": [
    "df.groupby('Region').agg({\n",
    "    'Original Principal Amount': ['count', 'median'], \n",
    "    'Interest Rate': ['mean',]\n",
    "}).round(1)"
   ]
  },
  {
   "cell_type": "markdown",
   "id": "f36dde26-c507-468b-9f28-7e0e65c721c8",
   "metadata": {},
   "source": [
    "#### 7.2 (2 балла)\n",
    "Для каждого региона определите топ-3 страны по суммарному размеру кредитов."
   ]
  },
  {
   "cell_type": "code",
   "execution_count": 33,
   "id": "9d50e277-5e5a-4875-b1e8-59945fa07554",
   "metadata": {},
   "outputs": [
    {
     "data": {
      "text/html": [
       "<div>\n",
       "<style scoped>\n",
       "    .dataframe tbody tr th:only-of-type {\n",
       "        vertical-align: middle;\n",
       "    }\n",
       "\n",
       "    .dataframe tbody tr th {\n",
       "        vertical-align: top;\n",
       "    }\n",
       "\n",
       "    .dataframe thead th {\n",
       "        text-align: right;\n",
       "    }\n",
       "</style>\n",
       "<table border=\"1\" class=\"dataframe\">\n",
       "  <thead>\n",
       "    <tr style=\"text-align: right;\">\n",
       "      <th></th>\n",
       "      <th>Region</th>\n",
       "      <th>Country</th>\n",
       "      <th>Original Principal Amount</th>\n",
       "    </tr>\n",
       "  </thead>\n",
       "  <tbody>\n",
       "    <tr>\n",
       "      <th>0</th>\n",
       "      <td>AFRICA</td>\n",
       "      <td>Nigeria</td>\n",
       "      <td>5.674000e+08</td>\n",
       "    </tr>\n",
       "    <tr>\n",
       "      <th>1</th>\n",
       "      <td>AFRICA</td>\n",
       "      <td>Zambia</td>\n",
       "      <td>3.593000e+08</td>\n",
       "    </tr>\n",
       "    <tr>\n",
       "      <th>2</th>\n",
       "      <td>AFRICA</td>\n",
       "      <td>South Africa</td>\n",
       "      <td>2.418000e+08</td>\n",
       "    </tr>\n",
       "    <tr>\n",
       "      <th>3</th>\n",
       "      <td>EAST ASIA AND PACIFIC</td>\n",
       "      <td>Indonesia</td>\n",
       "      <td>6.431575e+10</td>\n",
       "    </tr>\n",
       "    <tr>\n",
       "      <th>4</th>\n",
       "      <td>EAST ASIA AND PACIFIC</td>\n",
       "      <td>China</td>\n",
       "      <td>5.798170e+10</td>\n",
       "    </tr>\n",
       "    <tr>\n",
       "      <th>5</th>\n",
       "      <td>EAST ASIA AND PACIFIC</td>\n",
       "      <td>Philippines</td>\n",
       "      <td>2.877748e+10</td>\n",
       "    </tr>\n",
       "    <tr>\n",
       "      <th>6</th>\n",
       "      <td>EASTERN AND SOUTHERN AFRICA</td>\n",
       "      <td>Angola</td>\n",
       "      <td>5.907000e+09</td>\n",
       "    </tr>\n",
       "    <tr>\n",
       "      <th>7</th>\n",
       "      <td>EASTERN AND SOUTHERN AFRICA</td>\n",
       "      <td>South Africa</td>\n",
       "      <td>5.815300e+09</td>\n",
       "    </tr>\n",
       "    <tr>\n",
       "      <th>8</th>\n",
       "      <td>EASTERN AND SOUTHERN AFRICA</td>\n",
       "      <td>Kenya</td>\n",
       "      <td>2.486215e+09</td>\n",
       "    </tr>\n",
       "    <tr>\n",
       "      <th>9</th>\n",
       "      <td>EUROPE AND CENTRAL ASIA</td>\n",
       "      <td>Turkiye</td>\n",
       "      <td>5.047677e+10</td>\n",
       "    </tr>\n",
       "    <tr>\n",
       "      <th>10</th>\n",
       "      <td>EUROPE AND CENTRAL ASIA</td>\n",
       "      <td>Ukraine</td>\n",
       "      <td>1.845690e+10</td>\n",
       "    </tr>\n",
       "    <tr>\n",
       "      <th>11</th>\n",
       "      <td>EUROPE AND CENTRAL ASIA</td>\n",
       "      <td>Romania</td>\n",
       "      <td>1.692685e+10</td>\n",
       "    </tr>\n",
       "    <tr>\n",
       "      <th>12</th>\n",
       "      <td>LATIN AMERICA AND CARIBBEAN</td>\n",
       "      <td>Brazil</td>\n",
       "      <td>6.613768e+10</td>\n",
       "    </tr>\n",
       "    <tr>\n",
       "      <th>13</th>\n",
       "      <td>LATIN AMERICA AND CARIBBEAN</td>\n",
       "      <td>Mexico</td>\n",
       "      <td>6.167601e+10</td>\n",
       "    </tr>\n",
       "    <tr>\n",
       "      <th>14</th>\n",
       "      <td>LATIN AMERICA AND CARIBBEAN</td>\n",
       "      <td>Argentina</td>\n",
       "      <td>4.131895e+10</td>\n",
       "    </tr>\n",
       "    <tr>\n",
       "      <th>15</th>\n",
       "      <td>MIDDLE EAST AND NORTH AFRICA</td>\n",
       "      <td>Morocco</td>\n",
       "      <td>2.497861e+10</td>\n",
       "    </tr>\n",
       "    <tr>\n",
       "      <th>16</th>\n",
       "      <td>MIDDLE EAST AND NORTH AFRICA</td>\n",
       "      <td>Egypt, Arab Republic of</td>\n",
       "      <td>2.390395e+10</td>\n",
       "    </tr>\n",
       "    <tr>\n",
       "      <th>17</th>\n",
       "      <td>MIDDLE EAST AND NORTH AFRICA</td>\n",
       "      <td>Tunisia</td>\n",
       "      <td>1.243503e+10</td>\n",
       "    </tr>\n",
       "    <tr>\n",
       "      <th>18</th>\n",
       "      <td>SOUTH ASIA</td>\n",
       "      <td>India</td>\n",
       "      <td>8.031097e+10</td>\n",
       "    </tr>\n",
       "    <tr>\n",
       "      <th>19</th>\n",
       "      <td>SOUTH ASIA</td>\n",
       "      <td>Pakistan</td>\n",
       "      <td>1.354870e+10</td>\n",
       "    </tr>\n",
       "    <tr>\n",
       "      <th>20</th>\n",
       "      <td>SOUTH ASIA</td>\n",
       "      <td>Sri Lanka</td>\n",
       "      <td>1.950620e+09</td>\n",
       "    </tr>\n",
       "    <tr>\n",
       "      <th>21</th>\n",
       "      <td>WESTERN AND CENTRAL AFRICA</td>\n",
       "      <td>Nigeria</td>\n",
       "      <td>7.697200e+09</td>\n",
       "    </tr>\n",
       "    <tr>\n",
       "      <th>22</th>\n",
       "      <td>WESTERN AND CENTRAL AFRICA</td>\n",
       "      <td>Cote d'Ivoire</td>\n",
       "      <td>3.054000e+09</td>\n",
       "    </tr>\n",
       "    <tr>\n",
       "      <th>23</th>\n",
       "      <td>WESTERN AND CENTRAL AFRICA</td>\n",
       "      <td>Cameroon</td>\n",
       "      <td>2.247100e+09</td>\n",
       "    </tr>\n",
       "  </tbody>\n",
       "</table>\n",
       "</div>"
      ],
      "text/plain": [
       "                          Region                  Country  \\\n",
       "0                         AFRICA                  Nigeria   \n",
       "1                         AFRICA                   Zambia   \n",
       "2                         AFRICA             South Africa   \n",
       "3          EAST ASIA AND PACIFIC                Indonesia   \n",
       "4          EAST ASIA AND PACIFIC                    China   \n",
       "5          EAST ASIA AND PACIFIC              Philippines   \n",
       "6    EASTERN AND SOUTHERN AFRICA                   Angola   \n",
       "7    EASTERN AND SOUTHERN AFRICA             South Africa   \n",
       "8    EASTERN AND SOUTHERN AFRICA                    Kenya   \n",
       "9        EUROPE AND CENTRAL ASIA                  Turkiye   \n",
       "10       EUROPE AND CENTRAL ASIA                  Ukraine   \n",
       "11       EUROPE AND CENTRAL ASIA                  Romania   \n",
       "12   LATIN AMERICA AND CARIBBEAN                   Brazil   \n",
       "13   LATIN AMERICA AND CARIBBEAN                   Mexico   \n",
       "14   LATIN AMERICA AND CARIBBEAN                Argentina   \n",
       "15  MIDDLE EAST AND NORTH AFRICA                  Morocco   \n",
       "16  MIDDLE EAST AND NORTH AFRICA  Egypt, Arab Republic of   \n",
       "17  MIDDLE EAST AND NORTH AFRICA                  Tunisia   \n",
       "18                    SOUTH ASIA                    India   \n",
       "19                    SOUTH ASIA                 Pakistan   \n",
       "20                    SOUTH ASIA                Sri Lanka   \n",
       "21    WESTERN AND CENTRAL AFRICA                  Nigeria   \n",
       "22    WESTERN AND CENTRAL AFRICA            Cote d'Ivoire   \n",
       "23    WESTERN AND CENTRAL AFRICA                 Cameroon   \n",
       "\n",
       "    Original Principal Amount  \n",
       "0                5.674000e+08  \n",
       "1                3.593000e+08  \n",
       "2                2.418000e+08  \n",
       "3                6.431575e+10  \n",
       "4                5.798170e+10  \n",
       "5                2.877748e+10  \n",
       "6                5.907000e+09  \n",
       "7                5.815300e+09  \n",
       "8                2.486215e+09  \n",
       "9                5.047677e+10  \n",
       "10               1.845690e+10  \n",
       "11               1.692685e+10  \n",
       "12               6.613768e+10  \n",
       "13               6.167601e+10  \n",
       "14               4.131895e+10  \n",
       "15               2.497861e+10  \n",
       "16               2.390395e+10  \n",
       "17               1.243503e+10  \n",
       "18               8.031097e+10  \n",
       "19               1.354870e+10  \n",
       "20               1.950620e+09  \n",
       "21               7.697200e+09  \n",
       "22               3.054000e+09  \n",
       "23               2.247100e+09  "
      ]
     },
     "execution_count": 33,
     "metadata": {},
     "output_type": "execute_result"
    }
   ],
   "source": [
    "# вот так без rank\n",
    "df.groupby(['Region', 'Country'])['Original Principal Amount'].sum()\\\n",
    "    .groupby('Region').nlargest(3).reset_index(allow_duplicates=True).iloc[:,1:]"
   ]
  },
  {
   "cell_type": "code",
   "execution_count": 34,
   "id": "98817460-3ce7-42fe-ac84-ada7ca1ff6a4",
   "metadata": {},
   "outputs": [
    {
     "name": "stderr",
     "output_type": "stream",
     "text": [
      "C:\\Users\\igumn\\AppData\\Local\\Temp\\ipykernel_6980\\781470256.py:2: DeprecationWarning: DataFrameGroupBy.apply operated on the grouping columns. This behavior is deprecated, and in a future version of pandas the grouping columns will be excluded from the operation. Either pass `include_groups=False` to exclude the groupings or explicitly select the grouping columns after groupby to silence this warning.\n",
      "  .groupby('Region', as_index=False).apply(lambda x: x.nlargest(3, 'Original Principal Amount')).reset_index(drop=True)\n"
     ]
    },
    {
     "data": {
      "text/html": [
       "<div>\n",
       "<style scoped>\n",
       "    .dataframe tbody tr th:only-of-type {\n",
       "        vertical-align: middle;\n",
       "    }\n",
       "\n",
       "    .dataframe tbody tr th {\n",
       "        vertical-align: top;\n",
       "    }\n",
       "\n",
       "    .dataframe thead th {\n",
       "        text-align: right;\n",
       "    }\n",
       "</style>\n",
       "<table border=\"1\" class=\"dataframe\">\n",
       "  <thead>\n",
       "    <tr style=\"text-align: right;\">\n",
       "      <th></th>\n",
       "      <th>Region</th>\n",
       "      <th>Country</th>\n",
       "      <th>Original Principal Amount</th>\n",
       "    </tr>\n",
       "  </thead>\n",
       "  <tbody>\n",
       "    <tr>\n",
       "      <th>0</th>\n",
       "      <td>AFRICA</td>\n",
       "      <td>Nigeria</td>\n",
       "      <td>5.674000e+08</td>\n",
       "    </tr>\n",
       "    <tr>\n",
       "      <th>1</th>\n",
       "      <td>AFRICA</td>\n",
       "      <td>Zambia</td>\n",
       "      <td>3.593000e+08</td>\n",
       "    </tr>\n",
       "    <tr>\n",
       "      <th>2</th>\n",
       "      <td>AFRICA</td>\n",
       "      <td>South Africa</td>\n",
       "      <td>2.418000e+08</td>\n",
       "    </tr>\n",
       "    <tr>\n",
       "      <th>3</th>\n",
       "      <td>EAST ASIA AND PACIFIC</td>\n",
       "      <td>Indonesia</td>\n",
       "      <td>6.431575e+10</td>\n",
       "    </tr>\n",
       "    <tr>\n",
       "      <th>4</th>\n",
       "      <td>EAST ASIA AND PACIFIC</td>\n",
       "      <td>China</td>\n",
       "      <td>5.798170e+10</td>\n",
       "    </tr>\n",
       "    <tr>\n",
       "      <th>5</th>\n",
       "      <td>EAST ASIA AND PACIFIC</td>\n",
       "      <td>Philippines</td>\n",
       "      <td>2.877748e+10</td>\n",
       "    </tr>\n",
       "    <tr>\n",
       "      <th>6</th>\n",
       "      <td>EASTERN AND SOUTHERN AFRICA</td>\n",
       "      <td>Angola</td>\n",
       "      <td>5.907000e+09</td>\n",
       "    </tr>\n",
       "    <tr>\n",
       "      <th>7</th>\n",
       "      <td>EASTERN AND SOUTHERN AFRICA</td>\n",
       "      <td>South Africa</td>\n",
       "      <td>5.815300e+09</td>\n",
       "    </tr>\n",
       "    <tr>\n",
       "      <th>8</th>\n",
       "      <td>EASTERN AND SOUTHERN AFRICA</td>\n",
       "      <td>Kenya</td>\n",
       "      <td>2.486215e+09</td>\n",
       "    </tr>\n",
       "    <tr>\n",
       "      <th>9</th>\n",
       "      <td>EUROPE AND CENTRAL ASIA</td>\n",
       "      <td>Turkiye</td>\n",
       "      <td>5.047677e+10</td>\n",
       "    </tr>\n",
       "    <tr>\n",
       "      <th>10</th>\n",
       "      <td>EUROPE AND CENTRAL ASIA</td>\n",
       "      <td>Ukraine</td>\n",
       "      <td>1.845690e+10</td>\n",
       "    </tr>\n",
       "    <tr>\n",
       "      <th>11</th>\n",
       "      <td>EUROPE AND CENTRAL ASIA</td>\n",
       "      <td>Romania</td>\n",
       "      <td>1.692685e+10</td>\n",
       "    </tr>\n",
       "    <tr>\n",
       "      <th>12</th>\n",
       "      <td>LATIN AMERICA AND CARIBBEAN</td>\n",
       "      <td>Brazil</td>\n",
       "      <td>6.613768e+10</td>\n",
       "    </tr>\n",
       "    <tr>\n",
       "      <th>13</th>\n",
       "      <td>LATIN AMERICA AND CARIBBEAN</td>\n",
       "      <td>Mexico</td>\n",
       "      <td>6.167601e+10</td>\n",
       "    </tr>\n",
       "    <tr>\n",
       "      <th>14</th>\n",
       "      <td>LATIN AMERICA AND CARIBBEAN</td>\n",
       "      <td>Argentina</td>\n",
       "      <td>4.131895e+10</td>\n",
       "    </tr>\n",
       "    <tr>\n",
       "      <th>15</th>\n",
       "      <td>MIDDLE EAST AND NORTH AFRICA</td>\n",
       "      <td>Morocco</td>\n",
       "      <td>2.497861e+10</td>\n",
       "    </tr>\n",
       "    <tr>\n",
       "      <th>16</th>\n",
       "      <td>MIDDLE EAST AND NORTH AFRICA</td>\n",
       "      <td>Egypt, Arab Republic of</td>\n",
       "      <td>2.390395e+10</td>\n",
       "    </tr>\n",
       "    <tr>\n",
       "      <th>17</th>\n",
       "      <td>MIDDLE EAST AND NORTH AFRICA</td>\n",
       "      <td>Tunisia</td>\n",
       "      <td>1.243503e+10</td>\n",
       "    </tr>\n",
       "    <tr>\n",
       "      <th>18</th>\n",
       "      <td>SOUTH ASIA</td>\n",
       "      <td>India</td>\n",
       "      <td>8.031097e+10</td>\n",
       "    </tr>\n",
       "    <tr>\n",
       "      <th>19</th>\n",
       "      <td>SOUTH ASIA</td>\n",
       "      <td>Pakistan</td>\n",
       "      <td>1.354870e+10</td>\n",
       "    </tr>\n",
       "    <tr>\n",
       "      <th>20</th>\n",
       "      <td>SOUTH ASIA</td>\n",
       "      <td>Sri Lanka</td>\n",
       "      <td>1.950620e+09</td>\n",
       "    </tr>\n",
       "    <tr>\n",
       "      <th>21</th>\n",
       "      <td>WESTERN AND CENTRAL AFRICA</td>\n",
       "      <td>Nigeria</td>\n",
       "      <td>7.697200e+09</td>\n",
       "    </tr>\n",
       "    <tr>\n",
       "      <th>22</th>\n",
       "      <td>WESTERN AND CENTRAL AFRICA</td>\n",
       "      <td>Cote d'Ivoire</td>\n",
       "      <td>3.054000e+09</td>\n",
       "    </tr>\n",
       "    <tr>\n",
       "      <th>23</th>\n",
       "      <td>WESTERN AND CENTRAL AFRICA</td>\n",
       "      <td>Cameroon</td>\n",
       "      <td>2.247100e+09</td>\n",
       "    </tr>\n",
       "  </tbody>\n",
       "</table>\n",
       "</div>"
      ],
      "text/plain": [
       "                          Region                  Country  \\\n",
       "0                         AFRICA                  Nigeria   \n",
       "1                         AFRICA                   Zambia   \n",
       "2                         AFRICA             South Africa   \n",
       "3          EAST ASIA AND PACIFIC                Indonesia   \n",
       "4          EAST ASIA AND PACIFIC                    China   \n",
       "5          EAST ASIA AND PACIFIC              Philippines   \n",
       "6    EASTERN AND SOUTHERN AFRICA                   Angola   \n",
       "7    EASTERN AND SOUTHERN AFRICA             South Africa   \n",
       "8    EASTERN AND SOUTHERN AFRICA                    Kenya   \n",
       "9        EUROPE AND CENTRAL ASIA                  Turkiye   \n",
       "10       EUROPE AND CENTRAL ASIA                  Ukraine   \n",
       "11       EUROPE AND CENTRAL ASIA                  Romania   \n",
       "12   LATIN AMERICA AND CARIBBEAN                   Brazil   \n",
       "13   LATIN AMERICA AND CARIBBEAN                   Mexico   \n",
       "14   LATIN AMERICA AND CARIBBEAN                Argentina   \n",
       "15  MIDDLE EAST AND NORTH AFRICA                  Morocco   \n",
       "16  MIDDLE EAST AND NORTH AFRICA  Egypt, Arab Republic of   \n",
       "17  MIDDLE EAST AND NORTH AFRICA                  Tunisia   \n",
       "18                    SOUTH ASIA                    India   \n",
       "19                    SOUTH ASIA                 Pakistan   \n",
       "20                    SOUTH ASIA                Sri Lanka   \n",
       "21    WESTERN AND CENTRAL AFRICA                  Nigeria   \n",
       "22    WESTERN AND CENTRAL AFRICA            Cote d'Ivoire   \n",
       "23    WESTERN AND CENTRAL AFRICA                 Cameroon   \n",
       "\n",
       "    Original Principal Amount  \n",
       "0                5.674000e+08  \n",
       "1                3.593000e+08  \n",
       "2                2.418000e+08  \n",
       "3                6.431575e+10  \n",
       "4                5.798170e+10  \n",
       "5                2.877748e+10  \n",
       "6                5.907000e+09  \n",
       "7                5.815300e+09  \n",
       "8                2.486215e+09  \n",
       "9                5.047677e+10  \n",
       "10               1.845690e+10  \n",
       "11               1.692685e+10  \n",
       "12               6.613768e+10  \n",
       "13               6.167601e+10  \n",
       "14               4.131895e+10  \n",
       "15               2.497861e+10  \n",
       "16               2.390395e+10  \n",
       "17               1.243503e+10  \n",
       "18               8.031097e+10  \n",
       "19               1.354870e+10  \n",
       "20               1.950620e+09  \n",
       "21               7.697200e+09  \n",
       "22               3.054000e+09  \n",
       "23               2.247100e+09  "
      ]
     },
     "execution_count": 34,
     "metadata": {},
     "output_type": "execute_result"
    }
   ],
   "source": [
    "df.groupby(['Region', 'Country'], as_index=False)['Original Principal Amount'].sum()\\\n",
    "    .groupby('Region', as_index=False).apply(lambda x: x.nlargest(3, 'Original Principal Amount')).reset_index(drop=True)"
   ]
  },
  {
   "cell_type": "code",
   "execution_count": 35,
   "id": "b99f9a86-d290-4794-a25e-90007419ce5e",
   "metadata": {
    "tags": []
   },
   "outputs": [
    {
     "data": {
      "text/html": [
       "<div>\n",
       "<style scoped>\n",
       "    .dataframe tbody tr th:only-of-type {\n",
       "        vertical-align: middle;\n",
       "    }\n",
       "\n",
       "    .dataframe tbody tr th {\n",
       "        vertical-align: top;\n",
       "    }\n",
       "\n",
       "    .dataframe thead th {\n",
       "        text-align: right;\n",
       "    }\n",
       "</style>\n",
       "<table border=\"1\" class=\"dataframe\">\n",
       "  <thead>\n",
       "    <tr style=\"text-align: right;\">\n",
       "      <th></th>\n",
       "      <th>Region</th>\n",
       "      <th>Country</th>\n",
       "      <th>Original Principal Amount</th>\n",
       "    </tr>\n",
       "  </thead>\n",
       "  <tbody>\n",
       "    <tr>\n",
       "      <th>0</th>\n",
       "      <td>AFRICA</td>\n",
       "      <td>Botswana</td>\n",
       "      <td>37500000.0</td>\n",
       "    </tr>\n",
       "    <tr>\n",
       "      <th>1</th>\n",
       "      <td>AFRICA</td>\n",
       "      <td>Burundi</td>\n",
       "      <td>4800000.0</td>\n",
       "    </tr>\n",
       "    <tr>\n",
       "      <th>2</th>\n",
       "      <td>AFRICA</td>\n",
       "      <td>Cameroon</td>\n",
       "      <td>75400000.0</td>\n",
       "    </tr>\n",
       "    <tr>\n",
       "      <th>3</th>\n",
       "      <td>AFRICA</td>\n",
       "      <td>Congo, Democratic Republic of</td>\n",
       "      <td>120000000.0</td>\n",
       "    </tr>\n",
       "    <tr>\n",
       "      <th>4</th>\n",
       "      <td>AFRICA</td>\n",
       "      <td>Congo, Republic of</td>\n",
       "      <td>30000000.0</td>\n",
       "    </tr>\n",
       "  </tbody>\n",
       "</table>\n",
       "</div>"
      ],
      "text/plain": [
       "   Region                        Country  Original Principal Amount\n",
       "0  AFRICA                       Botswana                 37500000.0\n",
       "1  AFRICA                        Burundi                  4800000.0\n",
       "2  AFRICA                       Cameroon                 75400000.0\n",
       "3  AFRICA  Congo, Democratic Republic of                120000000.0\n",
       "4  AFRICA             Congo, Republic of                 30000000.0"
      ]
     },
     "execution_count": 35,
     "metadata": {},
     "output_type": "execute_result"
    }
   ],
   "source": [
    "# вот так с rank\n",
    "tmp = df.groupby(['Region', 'Country'], as_index=False)['Original Principal Amount'].sum()\n",
    "tmp.head()"
   ]
  },
  {
   "cell_type": "code",
   "execution_count": 36,
   "id": "c7224365-fa24-4ef3-9ba1-4fd8498edd3d",
   "metadata": {
    "tags": []
   },
   "outputs": [],
   "source": [
    "tmp['rank'] = tmp.groupby('Region')['Original Principal Amount'].rank(ascending=False)"
   ]
  },
  {
   "cell_type": "code",
   "execution_count": 37,
   "id": "e82309f6-51c4-40e3-b299-6aa7dfc22cf5",
   "metadata": {
    "tags": []
   },
   "outputs": [
    {
     "data": {
      "text/html": [
       "<div>\n",
       "<style scoped>\n",
       "    .dataframe tbody tr th:only-of-type {\n",
       "        vertical-align: middle;\n",
       "    }\n",
       "\n",
       "    .dataframe tbody tr th {\n",
       "        vertical-align: top;\n",
       "    }\n",
       "\n",
       "    .dataframe thead th {\n",
       "        text-align: right;\n",
       "    }\n",
       "</style>\n",
       "<table border=\"1\" class=\"dataframe\">\n",
       "  <thead>\n",
       "    <tr style=\"text-align: right;\">\n",
       "      <th></th>\n",
       "      <th>Region</th>\n",
       "      <th>Country</th>\n",
       "      <th>Original Principal Amount</th>\n",
       "      <th>rank</th>\n",
       "    </tr>\n",
       "  </thead>\n",
       "  <tbody>\n",
       "    <tr>\n",
       "      <th>16</th>\n",
       "      <td>AFRICA</td>\n",
       "      <td>Nigeria</td>\n",
       "      <td>5.674000e+08</td>\n",
       "      <td>1.0</td>\n",
       "    </tr>\n",
       "    <tr>\n",
       "      <th>25</th>\n",
       "      <td>AFRICA</td>\n",
       "      <td>Zambia</td>\n",
       "      <td>3.593000e+08</td>\n",
       "      <td>2.0</td>\n",
       "    </tr>\n",
       "    <tr>\n",
       "      <th>19</th>\n",
       "      <td>AFRICA</td>\n",
       "      <td>South Africa</td>\n",
       "      <td>2.418000e+08</td>\n",
       "      <td>3.0</td>\n",
       "    </tr>\n",
       "    <tr>\n",
       "      <th>30</th>\n",
       "      <td>EAST ASIA AND PACIFIC</td>\n",
       "      <td>Indonesia</td>\n",
       "      <td>6.431575e+10</td>\n",
       "      <td>1.0</td>\n",
       "    </tr>\n",
       "    <tr>\n",
       "      <th>28</th>\n",
       "      <td>EAST ASIA AND PACIFIC</td>\n",
       "      <td>China</td>\n",
       "      <td>5.798170e+10</td>\n",
       "      <td>2.0</td>\n",
       "    </tr>\n",
       "    <tr>\n",
       "      <th>38</th>\n",
       "      <td>EAST ASIA AND PACIFIC</td>\n",
       "      <td>Philippines</td>\n",
       "      <td>2.877748e+10</td>\n",
       "      <td>3.0</td>\n",
       "    </tr>\n",
       "    <tr>\n",
       "      <th>44</th>\n",
       "      <td>EASTERN AND SOUTHERN AFRICA</td>\n",
       "      <td>Angola</td>\n",
       "      <td>5.907000e+09</td>\n",
       "      <td>1.0</td>\n",
       "    </tr>\n",
       "    <tr>\n",
       "      <th>57</th>\n",
       "      <td>EASTERN AND SOUTHERN AFRICA</td>\n",
       "      <td>South Africa</td>\n",
       "      <td>5.815300e+09</td>\n",
       "      <td>2.0</td>\n",
       "    </tr>\n",
       "    <tr>\n",
       "      <th>51</th>\n",
       "      <td>EASTERN AND SOUTHERN AFRICA</td>\n",
       "      <td>Kenya</td>\n",
       "      <td>2.486215e+09</td>\n",
       "      <td>3.0</td>\n",
       "    </tr>\n",
       "    <tr>\n",
       "      <th>105</th>\n",
       "      <td>EUROPE AND CENTRAL ASIA</td>\n",
       "      <td>Turkiye</td>\n",
       "      <td>5.047677e+10</td>\n",
       "      <td>1.0</td>\n",
       "    </tr>\n",
       "    <tr>\n",
       "      <th>107</th>\n",
       "      <td>EUROPE AND CENTRAL ASIA</td>\n",
       "      <td>Ukraine</td>\n",
       "      <td>1.845690e+10</td>\n",
       "      <td>2.0</td>\n",
       "    </tr>\n",
       "    <tr>\n",
       "      <th>98</th>\n",
       "      <td>EUROPE AND CENTRAL ASIA</td>\n",
       "      <td>Romania</td>\n",
       "      <td>1.692685e+10</td>\n",
       "      <td>3.0</td>\n",
       "    </tr>\n",
       "    <tr>\n",
       "      <th>116</th>\n",
       "      <td>LATIN AMERICA AND CARIBBEAN</td>\n",
       "      <td>Brazil</td>\n",
       "      <td>6.613768e+10</td>\n",
       "      <td>1.0</td>\n",
       "    </tr>\n",
       "    <tr>\n",
       "      <th>131</th>\n",
       "      <td>LATIN AMERICA AND CARIBBEAN</td>\n",
       "      <td>Mexico</td>\n",
       "      <td>6.167601e+10</td>\n",
       "      <td>2.0</td>\n",
       "    </tr>\n",
       "    <tr>\n",
       "      <th>111</th>\n",
       "      <td>LATIN AMERICA AND CARIBBEAN</td>\n",
       "      <td>Argentina</td>\n",
       "      <td>4.131895e+10</td>\n",
       "      <td>3.0</td>\n",
       "    </tr>\n",
       "    <tr>\n",
       "      <th>151</th>\n",
       "      <td>MIDDLE EAST AND NORTH AFRICA</td>\n",
       "      <td>Morocco</td>\n",
       "      <td>2.497861e+10</td>\n",
       "      <td>1.0</td>\n",
       "    </tr>\n",
       "    <tr>\n",
       "      <th>144</th>\n",
       "      <td>MIDDLE EAST AND NORTH AFRICA</td>\n",
       "      <td>Egypt, Arab Republic of</td>\n",
       "      <td>2.390395e+10</td>\n",
       "      <td>2.0</td>\n",
       "    </tr>\n",
       "    <tr>\n",
       "      <th>154</th>\n",
       "      <td>MIDDLE EAST AND NORTH AFRICA</td>\n",
       "      <td>Tunisia</td>\n",
       "      <td>1.243503e+10</td>\n",
       "      <td>3.0</td>\n",
       "    </tr>\n",
       "    <tr>\n",
       "      <th>156</th>\n",
       "      <td>SOUTH ASIA</td>\n",
       "      <td>India</td>\n",
       "      <td>8.031097e+10</td>\n",
       "      <td>1.0</td>\n",
       "    </tr>\n",
       "    <tr>\n",
       "      <th>157</th>\n",
       "      <td>SOUTH ASIA</td>\n",
       "      <td>Pakistan</td>\n",
       "      <td>1.354870e+10</td>\n",
       "      <td>2.0</td>\n",
       "    </tr>\n",
       "    <tr>\n",
       "      <th>158</th>\n",
       "      <td>SOUTH ASIA</td>\n",
       "      <td>Sri Lanka</td>\n",
       "      <td>1.950620e+09</td>\n",
       "      <td>3.0</td>\n",
       "    </tr>\n",
       "    <tr>\n",
       "      <th>169</th>\n",
       "      <td>WESTERN AND CENTRAL AFRICA</td>\n",
       "      <td>Nigeria</td>\n",
       "      <td>7.697200e+09</td>\n",
       "      <td>1.0</td>\n",
       "    </tr>\n",
       "    <tr>\n",
       "      <th>163</th>\n",
       "      <td>WESTERN AND CENTRAL AFRICA</td>\n",
       "      <td>Cote d'Ivoire</td>\n",
       "      <td>3.054000e+09</td>\n",
       "      <td>2.0</td>\n",
       "    </tr>\n",
       "    <tr>\n",
       "      <th>160</th>\n",
       "      <td>WESTERN AND CENTRAL AFRICA</td>\n",
       "      <td>Cameroon</td>\n",
       "      <td>2.247100e+09</td>\n",
       "      <td>3.0</td>\n",
       "    </tr>\n",
       "  </tbody>\n",
       "</table>\n",
       "</div>"
      ],
      "text/plain": [
       "                           Region                  Country  \\\n",
       "16                         AFRICA                  Nigeria   \n",
       "25                         AFRICA                   Zambia   \n",
       "19                         AFRICA             South Africa   \n",
       "30          EAST ASIA AND PACIFIC                Indonesia   \n",
       "28          EAST ASIA AND PACIFIC                    China   \n",
       "38          EAST ASIA AND PACIFIC              Philippines   \n",
       "44    EASTERN AND SOUTHERN AFRICA                   Angola   \n",
       "57    EASTERN AND SOUTHERN AFRICA             South Africa   \n",
       "51    EASTERN AND SOUTHERN AFRICA                    Kenya   \n",
       "105       EUROPE AND CENTRAL ASIA                  Turkiye   \n",
       "107       EUROPE AND CENTRAL ASIA                  Ukraine   \n",
       "98        EUROPE AND CENTRAL ASIA                  Romania   \n",
       "116   LATIN AMERICA AND CARIBBEAN                   Brazil   \n",
       "131   LATIN AMERICA AND CARIBBEAN                   Mexico   \n",
       "111   LATIN AMERICA AND CARIBBEAN                Argentina   \n",
       "151  MIDDLE EAST AND NORTH AFRICA                  Morocco   \n",
       "144  MIDDLE EAST AND NORTH AFRICA  Egypt, Arab Republic of   \n",
       "154  MIDDLE EAST AND NORTH AFRICA                  Tunisia   \n",
       "156                    SOUTH ASIA                    India   \n",
       "157                    SOUTH ASIA                 Pakistan   \n",
       "158                    SOUTH ASIA                Sri Lanka   \n",
       "169    WESTERN AND CENTRAL AFRICA                  Nigeria   \n",
       "163    WESTERN AND CENTRAL AFRICA            Cote d'Ivoire   \n",
       "160    WESTERN AND CENTRAL AFRICA                 Cameroon   \n",
       "\n",
       "     Original Principal Amount  rank  \n",
       "16                5.674000e+08   1.0  \n",
       "25                3.593000e+08   2.0  \n",
       "19                2.418000e+08   3.0  \n",
       "30                6.431575e+10   1.0  \n",
       "28                5.798170e+10   2.0  \n",
       "38                2.877748e+10   3.0  \n",
       "44                5.907000e+09   1.0  \n",
       "57                5.815300e+09   2.0  \n",
       "51                2.486215e+09   3.0  \n",
       "105               5.047677e+10   1.0  \n",
       "107               1.845690e+10   2.0  \n",
       "98                1.692685e+10   3.0  \n",
       "116               6.613768e+10   1.0  \n",
       "131               6.167601e+10   2.0  \n",
       "111               4.131895e+10   3.0  \n",
       "151               2.497861e+10   1.0  \n",
       "144               2.390395e+10   2.0  \n",
       "154               1.243503e+10   3.0  \n",
       "156               8.031097e+10   1.0  \n",
       "157               1.354870e+10   2.0  \n",
       "158               1.950620e+09   3.0  \n",
       "169               7.697200e+09   1.0  \n",
       "163               3.054000e+09   2.0  \n",
       "160               2.247100e+09   3.0  "
      ]
     },
     "execution_count": 37,
     "metadata": {},
     "output_type": "execute_result"
    }
   ],
   "source": [
    "tmp[tmp['rank'] <= 3].sort_values(by=['Region', 'rank'])"
   ]
  },
  {
   "cell_type": "markdown",
   "id": "830badff-4257-44e1-9e5f-0e7e314d4a65",
   "metadata": {},
   "source": [
    "### 8."
   ]
  },
  {
   "cell_type": "markdown",
   "id": "36c5d39d-b523-4df0-97e9-8fc791154d4c",
   "metadata": {},
   "source": [
    "#### 8.1\n",
    "Посчитайте, сколько было выдано кредитов размером больше 1 млрд. условных единиц."
   ]
  },
  {
   "cell_type": "code",
   "execution_count": 38,
   "id": "df15a549-fb27-4480-9d6b-b08480ad2c25",
   "metadata": {},
   "outputs": [
    {
     "data": {
      "text/plain": [
       "40"
      ]
     },
     "execution_count": 38,
     "metadata": {},
     "output_type": "execute_result"
    }
   ],
   "source": [
    "(df['Original Principal Amount'] > 1e9).sum()"
   ]
  },
  {
   "cell_type": "markdown",
   "id": "5d6a4f1b-312b-4448-a4a0-2288e27d57a7",
   "metadata": {},
   "source": [
    "#### 8.2\n",
    "Посчитайте, сколько было выдано кредитов следующих размеров (*возможно, стоит создать новый столбец, где будет написано, в какую категорию попадает кредит*):  \n",
    "* до 100 млн;  \n",
    "* от 100 до 200 млн;  \n",
    "* от 200 до 500 млн;\n",
    "* от 500 до 1000 млн;  \n",
    "* от 1 млрд."
   ]
  },
  {
   "cell_type": "code",
   "execution_count": 39,
   "id": "7d191de8-3216-4843-83e8-d4ec698058b8",
   "metadata": {},
   "outputs": [
    {
     "data": {
      "text/plain": [
       "Original Principal Amount\n",
       "(-inf, 100.0]      7811\n",
       "(100.0, 200.0]     1108\n",
       "(200.0, 500.0]      907\n",
       "(500.0, 1000.0]     152\n",
       "(1000.0, inf]        40\n",
       "Name: count, dtype: int64"
      ]
     },
     "execution_count": 39,
     "metadata": {},
     "output_type": "execute_result"
    }
   ],
   "source": [
    "(\n",
    "    pd.cut(\n",
    "        df['Original Principal Amount'] / 1e6,\n",
    "        bins = [-np.inf,  100, 200, 500, 1000, np.inf],\n",
    "    )\n",
    "    .value_counts()\n",
    ")"
   ]
  },
  {
   "cell_type": "markdown",
   "id": "be5c88ce-cb29-463e-8e80-46e4e877c697",
   "metadata": {},
   "source": [
    "#### 8.3\n",
    "На частотной гистограмме изобразите, сколько кредитов попало в каждый бин (группу) из пункта 8.2"
   ]
  },
  {
   "cell_type": "code",
   "execution_count": 40,
   "id": "6698d00b-66be-4cee-9a59-d3dca14ee552",
   "metadata": {},
   "outputs": [
    {
     "data": {
      "text/plain": [
       "<Axes: xlabel='Original Principal Amount'>"
      ]
     },
     "execution_count": 40,
     "metadata": {},
     "output_type": "execute_result"
    },
    {
     "data": {
      "image/png": "[encoded data removed]",
      "text/plain": [
       "<Figure size 640x480 with 1 Axes>"
      ]
     },
     "metadata": {},
     "output_type": "display_data"
    }
   ],
   "source": [
    "(\n",
    "    pd.cut(\n",
    "        df['Original Principal Amount'] / 1e6,\n",
    "        bins = [-np.inf,  100, 200, 500, 1000, np.inf],\n",
    "    )\n",
    "    .value_counts()\n",
    ").plot.bar()"
   ]
  },
  {
   "cell_type": "code",
   "execution_count": 41,
   "id": "7bfa9f27-2a99-418c-bf3f-fef2016439fc",
   "metadata": {},
   "outputs": [
    {
     "data": {
      "image/png": "[encoded data removed]",
      "text/plain": [
       "<Figure size 640x480 with 1 Axes>"
      ]
     },
     "metadata": {},
     "output_type": "display_data"
    }
   ],
   "source": [
    "# или так\n",
    "tmp = (\n",
    "    pd.cut(\n",
    "        df['Original Principal Amount'] / 1e6,\n",
    "        bins = [-np.inf,  100, 200, 500, 1000, np.inf],\n",
    "    )\n",
    "    .value_counts()\n",
    ")\n",
    "x = tmp.index.astype(str)\n",
    "y = tmp.values\n",
    "plt.bar(x=x, height=y)\n",
    "plt.xticks(rotation=45)\n",
    "plt.show()"
   ]
  },
  {
   "cell_type": "code",
   "execution_count": 42,
   "id": "2acaf145-d60e-4479-ab77-2997e4ed7be5",
   "metadata": {},
   "outputs": [
    {
     "data": {
      "image/png": "[encoded data removed]",
      "text/plain": [
       "<Figure size 640x480 with 1 Axes>"
      ]
     },
     "metadata": {},
     "output_type": "display_data"
    }
   ],
   "source": [
    "# или так\n",
    "sns.barplot(tmp)\n",
    "plt.xticks(rotation=45)\n",
    "plt.show()"
   ]
  },
  {
   "cell_type": "markdown",
   "id": "27a7d087-b881-481d-a81c-dcbb88ca8698",
   "metadata": {},
   "source": [
    "### 9.\n",
    "К сожалению, pandas автоматически не распарсил дату. Давайте исправим это."
   ]
  },
  {
   "cell_type": "markdown",
   "id": "4d519a62-d9f9-4ba7-9d30-f379cfafe1d0",
   "metadata": {},
   "source": [
    "#### 9.1\n",
    "Создайте новый столбец `lastPaymentYear`, где будет содержаться год последнего платежа по кредиту (год из `Last Repayment Date`)."
   ]
  },
  {
   "cell_type": "code",
   "execution_count": 43,
   "id": "c2cda103-ec58-48ee-abe9-02e748b52f31",
   "metadata": {},
   "outputs": [
    {
     "data": {
      "text/plain": [
       "0        07/15/1958 12:00:00 AM\n",
       "1        07/15/1958 12:00:00 AM\n",
       "2        07/15/1958 12:00:00 AM\n",
       "3        07/15/1958 12:00:00 AM\n",
       "4        07/15/1958 12:00:00 AM\n",
       "                  ...          \n",
       "10122    11/15/1989 12:00:00 AM\n",
       "10123    11/15/1989 12:00:00 AM\n",
       "10124    05/01/1997 12:00:00 AM\n",
       "10125    12/15/1990 12:00:00 AM\n",
       "10126    12/01/1990 12:00:00 AM\n",
       "Name: Last Repayment Date, Length: 10018, dtype: object"
      ]
     },
     "execution_count": 43,
     "metadata": {},
     "output_type": "execute_result"
    }
   ],
   "source": [
    "df['Last Repayment Date']"
   ]
  },
  {
   "cell_type": "code",
   "execution_count": 44,
   "id": "beae621b-67a1-4763-8ea2-295b0e961baf",
   "metadata": {},
   "outputs": [
    {
     "name": "stderr",
     "output_type": "stream",
     "text": [
      "C:\\Users\\igumn\\AppData\\Local\\Temp\\ipykernel_6980\\769127784.py:1: UserWarning: Could not infer format, so each element will be parsed individually, falling back to `dateutil`. To ensure parsing is consistent and as-expected, please specify a format.\n",
      "  df['lastPaymentYear'] = pd.to_datetime(df['Last Repayment Date'])\n"
     ]
    }
   ],
   "source": [
    "df['lastPaymentYear'] = pd.to_datetime(df['Last Repayment Date'])"
   ]
  },
  {
   "cell_type": "code",
   "execution_count": 45,
   "id": "2b6a71ae-8c1f-4af2-a906-445e5741e666",
   "metadata": {},
   "outputs": [],
   "source": [
    "df['lastPaymentYear'] = pd.to_datetime(\n",
    "    df['Last Repayment Date'].apply(lambda x: x.split()[0]), format=\"%m/%d/%Y\"\n",
    ")\n",
    "# df['Last Repayment Date'].str.slice(stop=10)"
   ]
  },
  {
   "cell_type": "code",
   "execution_count": 46,
   "id": "173cac55-44a3-47f8-994d-6e93634aaeb5",
   "metadata": {},
   "outputs": [],
   "source": [
    "df['lastPaymentYear'] = df['lastPaymentYear'].dt.year"
   ]
  },
  {
   "cell_type": "markdown",
   "id": "af55a044-b34a-4895-8a8c-4c7335e4ab26",
   "metadata": {},
   "source": [
    "#### 9.2\n",
    "Посчитайте, сколько \"закрывающих\" платежей было в каждый год (т.е. просто сколько последних платежей было сделано в каждом году)."
   ]
  },
  {
   "cell_type": "code",
   "execution_count": 47,
   "id": "56134221-8f0f-458d-8966-771ea61bd20b",
   "metadata": {},
   "outputs": [
    {
     "data": {
      "text/plain": [
       "lastPaymentYear\n",
       "1951     6\n",
       "1954     2\n",
       "1955     2\n",
       "1956     4\n",
       "1957     4\n",
       "        ..\n",
       "2054    21\n",
       "2055    13\n",
       "2056     4\n",
       "2057     9\n",
       "2058     4\n",
       "Name: count, Length: 106, dtype: int64"
      ]
     },
     "execution_count": 47,
     "metadata": {},
     "output_type": "execute_result"
    }
   ],
   "source": [
    "df.lastPaymentYear.value_counts().sort_index()"
   ]
  },
  {
   "cell_type": "markdown",
   "id": "a03b03b7-a7bd-432d-adaf-9f3079b3d41c",
   "metadata": {},
   "source": [
    "#### 9.3\n",
    "Нарисуйте диаграмму рассеяния (scatter plot) зависимости числа последних платежей от года. То есть по иксу -- год последнего платежа, по игреку -- число последних платежей по кредитам в этот год."
   ]
  },
  {
   "cell_type": "code",
   "execution_count": 48,
   "id": "fb1b83e9-1312-40ee-bfe0-88a001da775d",
   "metadata": {},
   "outputs": [
    {
     "data": {
      "text/plain": [
       "<Axes: xlabel='lastPaymentYear', ylabel='count'>"
      ]
     },
     "execution_count": 48,
     "metadata": {},
     "output_type": "execute_result"
    },
    {
     "data": {
      "image/png": "[encoded data removed]",
      "text/plain": [
       "<Figure size 640x480 with 1 Axes>"
      ]
     },
     "metadata": {},
     "output_type": "display_data"
    }
   ],
   "source": [
    "sns.scatterplot(data=df.lastPaymentYear.value_counts())"
   ]
  },
  {
   "cell_type": "markdown",
   "id": "db020a28-2fab-4c8f-8dbb-a81f4b8d636e",
   "metadata": {},
   "source": [
    "### 10.\n",
    "Нарисуйте диаграмму рассения (scatter plot) зависимости размера кредита **в миллионах** от процентной ставки."
   ]
  },
  {
   "cell_type": "code",
   "execution_count": 49,
   "id": "842c0f34-da7f-4420-9123-3ac82d072976",
   "metadata": {},
   "outputs": [
    {
     "data": {
      "image/png": "[encoded data removed]",
      "text/plain": [
       "<Figure size 640x480 with 1 Axes>"
      ]
     },
     "metadata": {},
     "output_type": "display_data"
    }
   ],
   "source": [
    "plt.scatter(x=df['Interest Rate'], y=df['Original Principal Amount'] / 1e6)\n",
    "plt.xlabel('Interest rate')\n",
    "plt.ylabel('Loan amount')\n",
    "plt.show()"
   ]
  },
  {
   "cell_type": "markdown",
   "id": "ef862110-5d7c-4312-b942-13f5c9788d3d",
   "metadata": {},
   "source": [
    "### 11.\n",
    "Нарисуйте боксплот для распределения **логарифмированных** размеров кредитов отдельно для каждого региона."
   ]
  },
  {
   "cell_type": "code",
   "execution_count": 50,
   "id": "b0965612-e6fd-4b65-a859-7bb334c52de1",
   "metadata": {},
   "outputs": [
    {
     "name": "stderr",
     "output_type": "stream",
     "text": [
      "C:\\Users\\igumn\\miniforge3\\envs\\hock\\Lib\\site-packages\\pandas\\core\\arraylike.py:399: RuntimeWarning: divide by zero encountered in log\n",
      "  result = getattr(ufunc, method)(*inputs, **kwargs)\n"
     ]
    },
    {
     "data": {
      "image/png": "[encoded data removed]",
      "text/plain": [
       "<Figure size 640x480 with 1 Axes>"
      ]
     },
     "metadata": {},
     "output_type": "display_data"
    }
   ],
   "source": [
    "sns.boxplot(data=df, x='Region', y=np.log(df['Original Principal Amount']))\n",
    "plt.xticks(rotation=30, ha='right')\n",
    "plt.show()"
   ]
  },
  {
   "cell_type": "markdown",
   "id": "375edde5-7a7e-4b67-8184-f9bdaa4b3103",
   "metadata": {},
   "source": [
    "### 12.\n",
    "Получите сводную таблицу, где в столбцах -- страны, в строках -- тип кредита (Loan Type), в пересечении -- сумма кредитов (в млн) для этой страны для этого типа кредита. Если для данной страны не выдавались кредиты такого типа, то в ячейке датафрейма должен быть ноль (не `NaN`)."
   ]
  },
  {
   "cell_type": "code",
   "execution_count": 51,
   "id": "86ff6bc1-a1c0-4108-aaa0-8f5d2b45f533",
   "metadata": {
    "tags": []
   },
   "outputs": [
    {
     "data": {
      "text/html": [
       "<div>\n",
       "<style scoped>\n",
       "    .dataframe tbody tr th:only-of-type {\n",
       "        vertical-align: middle;\n",
       "    }\n",
       "\n",
       "    .dataframe tbody tr th {\n",
       "        vertical-align: top;\n",
       "    }\n",
       "\n",
       "    .dataframe thead th {\n",
       "        text-align: right;\n",
       "    }\n",
       "</style>\n",
       "<table border=\"1\" class=\"dataframe\">\n",
       "  <thead>\n",
       "    <tr style=\"text-align: right;\">\n",
       "      <th></th>\n",
       "      <th>Loan Number</th>\n",
       "      <th>Region</th>\n",
       "      <th>Country Code</th>\n",
       "      <th>Country</th>\n",
       "      <th>Loan Type</th>\n",
       "      <th>Loan Status</th>\n",
       "      <th>Original Principal Amount</th>\n",
       "      <th>Interest Rate</th>\n",
       "      <th>First Repayment Date</th>\n",
       "      <th>Last Repayment Date</th>\n",
       "      <th>lastPaymentYear</th>\n",
       "    </tr>\n",
       "  </thead>\n",
       "  <tbody>\n",
       "    <tr>\n",
       "      <th>0</th>\n",
       "      <td>IBRD100</td>\n",
       "      <td>EUROPE AND CENTRAL ASIA</td>\n",
       "      <td>NL</td>\n",
       "      <td>Netherlands</td>\n",
       "      <td>NON POOL</td>\n",
       "      <td>Repaid</td>\n",
       "      <td>2000000.0</td>\n",
       "      <td>4.00</td>\n",
       "      <td>01/15/1949 12:00:00 AM</td>\n",
       "      <td>07/15/1958 12:00:00 AM</td>\n",
       "      <td>1958</td>\n",
       "    </tr>\n",
       "    <tr>\n",
       "      <th>1</th>\n",
       "      <td>IBRD101</td>\n",
       "      <td>EUROPE AND CENTRAL ASIA</td>\n",
       "      <td>NL</td>\n",
       "      <td>Netherlands</td>\n",
       "      <td>NON POOL</td>\n",
       "      <td>Repaid</td>\n",
       "      <td>2000000.0</td>\n",
       "      <td>4.00</td>\n",
       "      <td>01/15/1949 12:00:00 AM</td>\n",
       "      <td>07/15/1958 12:00:00 AM</td>\n",
       "      <td>1958</td>\n",
       "    </tr>\n",
       "    <tr>\n",
       "      <th>2</th>\n",
       "      <td>IBRD70</td>\n",
       "      <td>EUROPE AND CENTRAL ASIA</td>\n",
       "      <td>NL</td>\n",
       "      <td>Netherlands</td>\n",
       "      <td>NON POOL</td>\n",
       "      <td>Repaid</td>\n",
       "      <td>2000000.0</td>\n",
       "      <td>4.00</td>\n",
       "      <td>01/15/1949 12:00:00 AM</td>\n",
       "      <td>07/15/1958 12:00:00 AM</td>\n",
       "      <td>1958</td>\n",
       "    </tr>\n",
       "    <tr>\n",
       "      <th>3</th>\n",
       "      <td>IBRD71</td>\n",
       "      <td>EUROPE AND CENTRAL ASIA</td>\n",
       "      <td>NL</td>\n",
       "      <td>Netherlands</td>\n",
       "      <td>NON POOL</td>\n",
       "      <td>Repaid</td>\n",
       "      <td>2000000.0</td>\n",
       "      <td>4.00</td>\n",
       "      <td>01/15/1949 12:00:00 AM</td>\n",
       "      <td>07/15/1958 12:00:00 AM</td>\n",
       "      <td>1958</td>\n",
       "    </tr>\n",
       "    <tr>\n",
       "      <th>4</th>\n",
       "      <td>IBRD80</td>\n",
       "      <td>EUROPE AND CENTRAL ASIA</td>\n",
       "      <td>NL</td>\n",
       "      <td>Netherlands</td>\n",
       "      <td>NON POOL</td>\n",
       "      <td>Repaid</td>\n",
       "      <td>2000000.0</td>\n",
       "      <td>4.00</td>\n",
       "      <td>01/15/1949 12:00:00 AM</td>\n",
       "      <td>07/15/1958 12:00:00 AM</td>\n",
       "      <td>1958</td>\n",
       "    </tr>\n",
       "    <tr>\n",
       "      <th>...</th>\n",
       "      <td>...</td>\n",
       "      <td>...</td>\n",
       "      <td>...</td>\n",
       "      <td>...</td>\n",
       "      <td>...</td>\n",
       "      <td>...</td>\n",
       "      <td>...</td>\n",
       "      <td>...</td>\n",
       "      <td>...</td>\n",
       "      <td>...</td>\n",
       "      <td>...</td>\n",
       "    </tr>\n",
       "    <tr>\n",
       "      <th>10122</th>\n",
       "      <td>IBRDS0160</td>\n",
       "      <td>MIDDLE EAST AND NORTH AFRICA</td>\n",
       "      <td>DZ</td>\n",
       "      <td>Algeria</td>\n",
       "      <td>NPL</td>\n",
       "      <td>Fully Cancelled</td>\n",
       "      <td>20000000.0</td>\n",
       "      <td>0.00</td>\n",
       "      <td>05/15/1984 12:00:00 AM</td>\n",
       "      <td>11/15/1989 12:00:00 AM</td>\n",
       "      <td>1989</td>\n",
       "    </tr>\n",
       "    <tr>\n",
       "      <th>10123</th>\n",
       "      <td>IBRDS0170</td>\n",
       "      <td>MIDDLE EAST AND NORTH AFRICA</td>\n",
       "      <td>DZ</td>\n",
       "      <td>Algeria</td>\n",
       "      <td>NPL</td>\n",
       "      <td>Fully Repaid</td>\n",
       "      <td>5000000.0</td>\n",
       "      <td>7.95</td>\n",
       "      <td>11/15/1983 12:00:00 AM</td>\n",
       "      <td>11/15/1989 12:00:00 AM</td>\n",
       "      <td>1989</td>\n",
       "    </tr>\n",
       "    <tr>\n",
       "      <th>10124</th>\n",
       "      <td>IBRDS0180</td>\n",
       "      <td>MIDDLE EAST AND NORTH AFRICA</td>\n",
       "      <td>MA</td>\n",
       "      <td>Morocco</td>\n",
       "      <td>NPL</td>\n",
       "      <td>Fully Repaid</td>\n",
       "      <td>50000000.0</td>\n",
       "      <td>8.25</td>\n",
       "      <td>11/01/1984 12:00:00 AM</td>\n",
       "      <td>05/01/1997 12:00:00 AM</td>\n",
       "      <td>1997</td>\n",
       "    </tr>\n",
       "    <tr>\n",
       "      <th>10125</th>\n",
       "      <td>IBRDS0190</td>\n",
       "      <td>LATIN AMERICA AND CARIBBEAN</td>\n",
       "      <td>PE</td>\n",
       "      <td>Peru</td>\n",
       "      <td>NPL</td>\n",
       "      <td>Fully Repaid</td>\n",
       "      <td>5000000.0</td>\n",
       "      <td>8.25</td>\n",
       "      <td>12/15/1984 12:00:00 AM</td>\n",
       "      <td>12/15/1990 12:00:00 AM</td>\n",
       "      <td>1990</td>\n",
       "    </tr>\n",
       "    <tr>\n",
       "      <th>10126</th>\n",
       "      <td>IBRDS0200</td>\n",
       "      <td>LATIN AMERICA AND CARIBBEAN</td>\n",
       "      <td>AR</td>\n",
       "      <td>Argentina</td>\n",
       "      <td>CPL</td>\n",
       "      <td>Fully Repaid</td>\n",
       "      <td>10000000.0</td>\n",
       "      <td>9.25</td>\n",
       "      <td>06/01/1985 12:00:00 AM</td>\n",
       "      <td>12/01/1990 12:00:00 AM</td>\n",
       "      <td>1990</td>\n",
       "    </tr>\n",
       "  </tbody>\n",
       "</table>\n",
       "<p>10018 rows × 11 columns</p>\n",
       "</div>"
      ],
      "text/plain": [
       "      Loan Number                        Region Country Code      Country  \\\n",
       "0         IBRD100       EUROPE AND CENTRAL ASIA           NL  Netherlands   \n",
       "1         IBRD101       EUROPE AND CENTRAL ASIA           NL  Netherlands   \n",
       "2          IBRD70       EUROPE AND CENTRAL ASIA           NL  Netherlands   \n",
       "3          IBRD71       EUROPE AND CENTRAL ASIA           NL  Netherlands   \n",
       "4          IBRD80       EUROPE AND CENTRAL ASIA           NL  Netherlands   \n",
       "...           ...                           ...          ...          ...   \n",
       "10122   IBRDS0160  MIDDLE EAST AND NORTH AFRICA           DZ      Algeria   \n",
       "10123   IBRDS0170  MIDDLE EAST AND NORTH AFRICA           DZ      Algeria   \n",
       "10124   IBRDS0180  MIDDLE EAST AND NORTH AFRICA           MA      Morocco   \n",
       "10125   IBRDS0190   LATIN AMERICA AND CARIBBEAN           PE         Peru   \n",
       "10126   IBRDS0200   LATIN AMERICA AND CARIBBEAN           AR    Argentina   \n",
       "\n",
       "      Loan Type      Loan Status  Original Principal Amount  Interest Rate  \\\n",
       "0      NON POOL           Repaid                  2000000.0           4.00   \n",
       "1      NON POOL           Repaid                  2000000.0           4.00   \n",
       "2      NON POOL           Repaid                  2000000.0           4.00   \n",
       "3      NON POOL           Repaid                  2000000.0           4.00   \n",
       "4      NON POOL           Repaid                  2000000.0           4.00   \n",
       "...         ...              ...                        ...            ...   \n",
       "10122       NPL  Fully Cancelled                 20000000.0           0.00   \n",
       "10123       NPL     Fully Repaid                  5000000.0           7.95   \n",
       "10124       NPL     Fully Repaid                 50000000.0           8.25   \n",
       "10125       NPL     Fully Repaid                  5000000.0           8.25   \n",
       "10126       CPL     Fully Repaid                 10000000.0           9.25   \n",
       "\n",
       "         First Repayment Date     Last Repayment Date  lastPaymentYear  \n",
       "0      01/15/1949 12:00:00 AM  07/15/1958 12:00:00 AM             1958  \n",
       "1      01/15/1949 12:00:00 AM  07/15/1958 12:00:00 AM             1958  \n",
       "2      01/15/1949 12:00:00 AM  07/15/1958 12:00:00 AM             1958  \n",
       "3      01/15/1949 12:00:00 AM  07/15/1958 12:00:00 AM             1958  \n",
       "4      01/15/1949 12:00:00 AM  07/15/1958 12:00:00 AM             1958  \n",
       "...                       ...                     ...              ...  \n",
       "10122  05/15/1984 12:00:00 AM  11/15/1989 12:00:00 AM             1989  \n",
       "10123  11/15/1983 12:00:00 AM  11/15/1989 12:00:00 AM             1989  \n",
       "10124  11/01/1984 12:00:00 AM  05/01/1997 12:00:00 AM             1997  \n",
       "10125  12/15/1984 12:00:00 AM  12/15/1990 12:00:00 AM             1990  \n",
       "10126  06/01/1985 12:00:00 AM  12/01/1990 12:00:00 AM             1990  \n",
       "\n",
       "[10018 rows x 11 columns]"
      ]
     },
     "execution_count": 51,
     "metadata": {},
     "output_type": "execute_result"
    }
   ],
   "source": [
    "df"
   ]
  },
  {
   "cell_type": "code",
   "execution_count": 52,
   "id": "0289b248-78aa-469a-956a-80815301c089",
   "metadata": {
    "tags": []
   },
   "outputs": [],
   "source": [
    "# df.pivot_table(\n",
    "#     columns='Country', \n",
    "#     index='Loan Type', \n",
    "#     values='Original Principal Amount',\n",
    "#     aggfunc=lambda x: np.sum(x) / 1e6,\n",
    "#     fill_value=0\n",
    "# )"
   ]
  },
  {
   "cell_type": "code",
   "execution_count": 53,
   "id": "b151791e-7077-4df2-967a-1bbe1a536a46",
   "metadata": {},
   "outputs": [
    {
     "data": {
      "text/html": [
       "<div>\n",
       "<style scoped>\n",
       "    .dataframe tbody tr th:only-of-type {\n",
       "        vertical-align: middle;\n",
       "    }\n",
       "\n",
       "    .dataframe tbody tr th {\n",
       "        vertical-align: top;\n",
       "    }\n",
       "\n",
       "    .dataframe thead th {\n",
       "        text-align: right;\n",
       "    }\n",
       "</style>\n",
       "<table border=\"1\" class=\"dataframe\">\n",
       "  <thead>\n",
       "    <tr style=\"text-align: right;\">\n",
       "      <th>Country</th>\n",
       "      <th>Albania</th>\n",
       "      <th>Algeria</th>\n",
       "      <th>Angola</th>\n",
       "      <th>Antigua and Barbuda</th>\n",
       "      <th>Argentina</th>\n",
       "      <th>Armenia</th>\n",
       "      <th>Australia</th>\n",
       "      <th>Austria</th>\n",
       "      <th>Azerbaijan</th>\n",
       "      <th>Bahamas, The</th>\n",
       "      <th>...</th>\n",
       "      <th>Uganda</th>\n",
       "      <th>Ukraine</th>\n",
       "      <th>Uruguay</th>\n",
       "      <th>Uzbekistan</th>\n",
       "      <th>Venezuela, Republica Bolivariana de</th>\n",
       "      <th>Vietnam</th>\n",
       "      <th>Western and Central Africa</th>\n",
       "      <th>Yugoslavia, former</th>\n",
       "      <th>Zambia</th>\n",
       "      <th>Zimbabwe</th>\n",
       "    </tr>\n",
       "    <tr>\n",
       "      <th>Loan Type</th>\n",
       "      <th></th>\n",
       "      <th></th>\n",
       "      <th></th>\n",
       "      <th></th>\n",
       "      <th></th>\n",
       "      <th></th>\n",
       "      <th></th>\n",
       "      <th></th>\n",
       "      <th></th>\n",
       "      <th></th>\n",
       "      <th></th>\n",
       "      <th></th>\n",
       "      <th></th>\n",
       "      <th></th>\n",
       "      <th></th>\n",
       "      <th></th>\n",
       "      <th></th>\n",
       "      <th></th>\n",
       "      <th></th>\n",
       "      <th></th>\n",
       "      <th></th>\n",
       "    </tr>\n",
       "  </thead>\n",
       "  <tbody>\n",
       "    <tr>\n",
       "      <th>CPL</th>\n",
       "      <td>0.00</td>\n",
       "      <td>1806.079372</td>\n",
       "      <td>0.0</td>\n",
       "      <td>0.0</td>\n",
       "      <td>3544.566162</td>\n",
       "      <td>12.0</td>\n",
       "      <td>0.00</td>\n",
       "      <td>0.000000</td>\n",
       "      <td>0.0</td>\n",
       "      <td>32.8</td>\n",
       "      <td>...</td>\n",
       "      <td>0.0000</td>\n",
       "      <td>1018.410000</td>\n",
       "      <td>435.743907</td>\n",
       "      <td>252.00</td>\n",
       "      <td>1034.913295</td>\n",
       "      <td>0.00</td>\n",
       "      <td>21.1</td>\n",
       "      <td>989.894835</td>\n",
       "      <td>81.414024</td>\n",
       "      <td>896.2</td>\n",
       "    </tr>\n",
       "    <tr>\n",
       "      <th>FSL</th>\n",
       "      <td>1681.90</td>\n",
       "      <td>353.330000</td>\n",
       "      <td>5907.0</td>\n",
       "      <td>12.0</td>\n",
       "      <td>21989.260000</td>\n",
       "      <td>1212.9</td>\n",
       "      <td>0.00</td>\n",
       "      <td>0.000000</td>\n",
       "      <td>3479.3</td>\n",
       "      <td>100.0</td>\n",
       "      <td>...</td>\n",
       "      <td>0.0000</td>\n",
       "      <td>13144.271577</td>\n",
       "      <td>3127.760000</td>\n",
       "      <td>3676.29</td>\n",
       "      <td>30.300000</td>\n",
       "      <td>3457.79</td>\n",
       "      <td>0.0</td>\n",
       "      <td>0.000000</td>\n",
       "      <td>0.000000</td>\n",
       "      <td>0.0</td>\n",
       "    </tr>\n",
       "    <tr>\n",
       "      <th>NON POOL</th>\n",
       "      <td>0.00</td>\n",
       "      <td>262.500000</td>\n",
       "      <td>0.0</td>\n",
       "      <td>0.0</td>\n",
       "      <td>532.300000</td>\n",
       "      <td>0.0</td>\n",
       "      <td>417.73</td>\n",
       "      <td>106.336429</td>\n",
       "      <td>0.0</td>\n",
       "      <td>0.0</td>\n",
       "      <td>...</td>\n",
       "      <td>43.1997</td>\n",
       "      <td>0.000000</td>\n",
       "      <td>155.200000</td>\n",
       "      <td>0.00</td>\n",
       "      <td>383.300000</td>\n",
       "      <td>0.00</td>\n",
       "      <td>0.0</td>\n",
       "      <td>403.700000</td>\n",
       "      <td>359.300000</td>\n",
       "      <td>43.1</td>\n",
       "    </tr>\n",
       "    <tr>\n",
       "      <th>NPL</th>\n",
       "      <td>0.00</td>\n",
       "      <td>1201.000000</td>\n",
       "      <td>0.0</td>\n",
       "      <td>0.0</td>\n",
       "      <td>1140.300000</td>\n",
       "      <td>0.0</td>\n",
       "      <td>417.73</td>\n",
       "      <td>106.336429</td>\n",
       "      <td>0.0</td>\n",
       "      <td>10.0</td>\n",
       "      <td>...</td>\n",
       "      <td>43.1997</td>\n",
       "      <td>0.000000</td>\n",
       "      <td>341.400000</td>\n",
       "      <td>0.00</td>\n",
       "      <td>383.300000</td>\n",
       "      <td>0.00</td>\n",
       "      <td>72.5</td>\n",
       "      <td>636.048776</td>\n",
       "      <td>522.650000</td>\n",
       "      <td>43.1</td>\n",
       "    </tr>\n",
       "    <tr>\n",
       "      <th>POOL LOAN</th>\n",
       "      <td>0.00</td>\n",
       "      <td>0.000000</td>\n",
       "      <td>0.0</td>\n",
       "      <td>0.0</td>\n",
       "      <td>0.000000</td>\n",
       "      <td>0.0</td>\n",
       "      <td>0.00</td>\n",
       "      <td>0.000000</td>\n",
       "      <td>0.0</td>\n",
       "      <td>0.0</td>\n",
       "      <td>...</td>\n",
       "      <td>0.0000</td>\n",
       "      <td>0.000000</td>\n",
       "      <td>0.000000</td>\n",
       "      <td>0.00</td>\n",
       "      <td>0.000000</td>\n",
       "      <td>0.00</td>\n",
       "      <td>0.0</td>\n",
       "      <td>0.000000</td>\n",
       "      <td>0.000000</td>\n",
       "      <td>0.0</td>\n",
       "    </tr>\n",
       "    <tr>\n",
       "      <th>SCL</th>\n",
       "      <td>45.56</td>\n",
       "      <td>611.763408</td>\n",
       "      <td>0.0</td>\n",
       "      <td>0.0</td>\n",
       "      <td>9754.205998</td>\n",
       "      <td>0.0</td>\n",
       "      <td>0.00</td>\n",
       "      <td>0.000000</td>\n",
       "      <td>0.0</td>\n",
       "      <td>0.0</td>\n",
       "      <td>...</td>\n",
       "      <td>0.0000</td>\n",
       "      <td>4294.217000</td>\n",
       "      <td>590.842457</td>\n",
       "      <td>302.14</td>\n",
       "      <td>687.199435</td>\n",
       "      <td>0.00</td>\n",
       "      <td>0.0</td>\n",
       "      <td>0.000000</td>\n",
       "      <td>0.000000</td>\n",
       "      <td>0.0</td>\n",
       "    </tr>\n",
       "    <tr>\n",
       "      <th>SCPD</th>\n",
       "      <td>0.00</td>\n",
       "      <td>1919.657220</td>\n",
       "      <td>0.0</td>\n",
       "      <td>0.0</td>\n",
       "      <td>4358.320840</td>\n",
       "      <td>0.0</td>\n",
       "      <td>0.00</td>\n",
       "      <td>0.000000</td>\n",
       "      <td>0.0</td>\n",
       "      <td>0.0</td>\n",
       "      <td>...</td>\n",
       "      <td>0.0000</td>\n",
       "      <td>0.000000</td>\n",
       "      <td>386.613636</td>\n",
       "      <td>0.00</td>\n",
       "      <td>1192.687271</td>\n",
       "      <td>0.00</td>\n",
       "      <td>0.0</td>\n",
       "      <td>0.000000</td>\n",
       "      <td>31.285976</td>\n",
       "      <td>0.0</td>\n",
       "    </tr>\n",
       "    <tr>\n",
       "      <th>SCPM</th>\n",
       "      <td>0.00</td>\n",
       "      <td>0.000000</td>\n",
       "      <td>0.0</td>\n",
       "      <td>0.0</td>\n",
       "      <td>0.000000</td>\n",
       "      <td>0.0</td>\n",
       "      <td>0.00</td>\n",
       "      <td>0.000000</td>\n",
       "      <td>0.0</td>\n",
       "      <td>0.0</td>\n",
       "      <td>...</td>\n",
       "      <td>0.0000</td>\n",
       "      <td>0.000000</td>\n",
       "      <td>0.000000</td>\n",
       "      <td>0.00</td>\n",
       "      <td>0.000000</td>\n",
       "      <td>0.00</td>\n",
       "      <td>0.0</td>\n",
       "      <td>0.000000</td>\n",
       "      <td>0.000000</td>\n",
       "      <td>0.0</td>\n",
       "    </tr>\n",
       "    <tr>\n",
       "      <th>SCPY</th>\n",
       "      <td>0.00</td>\n",
       "      <td>0.000000</td>\n",
       "      <td>0.0</td>\n",
       "      <td>0.0</td>\n",
       "      <td>0.000000</td>\n",
       "      <td>0.0</td>\n",
       "      <td>0.00</td>\n",
       "      <td>0.000000</td>\n",
       "      <td>0.0</td>\n",
       "      <td>0.0</td>\n",
       "      <td>...</td>\n",
       "      <td>0.0000</td>\n",
       "      <td>0.000000</td>\n",
       "      <td>0.000000</td>\n",
       "      <td>0.00</td>\n",
       "      <td>0.000000</td>\n",
       "      <td>0.00</td>\n",
       "      <td>0.0</td>\n",
       "      <td>0.000000</td>\n",
       "      <td>0.000000</td>\n",
       "      <td>0.0</td>\n",
       "    </tr>\n",
       "  </tbody>\n",
       "</table>\n",
       "<p>9 rows × 149 columns</p>\n",
       "</div>"
      ],
      "text/plain": [
       "Country    Albania      Algeria  Angola  Antigua and Barbuda     Argentina  \\\n",
       "Loan Type                                                                    \n",
       "CPL           0.00  1806.079372     0.0                  0.0   3544.566162   \n",
       "FSL        1681.90   353.330000  5907.0                 12.0  21989.260000   \n",
       "NON POOL      0.00   262.500000     0.0                  0.0    532.300000   \n",
       "NPL           0.00  1201.000000     0.0                  0.0   1140.300000   \n",
       "POOL LOAN     0.00     0.000000     0.0                  0.0      0.000000   \n",
       "SCL          45.56   611.763408     0.0                  0.0   9754.205998   \n",
       "SCPD          0.00  1919.657220     0.0                  0.0   4358.320840   \n",
       "SCPM          0.00     0.000000     0.0                  0.0      0.000000   \n",
       "SCPY          0.00     0.000000     0.0                  0.0      0.000000   \n",
       "\n",
       "Country    Armenia  Australia     Austria  Azerbaijan  Bahamas, The  ...  \\\n",
       "Loan Type                                                            ...   \n",
       "CPL           12.0       0.00    0.000000         0.0          32.8  ...   \n",
       "FSL         1212.9       0.00    0.000000      3479.3         100.0  ...   \n",
       "NON POOL       0.0     417.73  106.336429         0.0           0.0  ...   \n",
       "NPL            0.0     417.73  106.336429         0.0          10.0  ...   \n",
       "POOL LOAN      0.0       0.00    0.000000         0.0           0.0  ...   \n",
       "SCL            0.0       0.00    0.000000         0.0           0.0  ...   \n",
       "SCPD           0.0       0.00    0.000000         0.0           0.0  ...   \n",
       "SCPM           0.0       0.00    0.000000         0.0           0.0  ...   \n",
       "SCPY           0.0       0.00    0.000000         0.0           0.0  ...   \n",
       "\n",
       "Country     Uganda       Ukraine      Uruguay  Uzbekistan  \\\n",
       "Loan Type                                                   \n",
       "CPL         0.0000   1018.410000   435.743907      252.00   \n",
       "FSL         0.0000  13144.271577  3127.760000     3676.29   \n",
       "NON POOL   43.1997      0.000000   155.200000        0.00   \n",
       "NPL        43.1997      0.000000   341.400000        0.00   \n",
       "POOL LOAN   0.0000      0.000000     0.000000        0.00   \n",
       "SCL         0.0000   4294.217000   590.842457      302.14   \n",
       "SCPD        0.0000      0.000000   386.613636        0.00   \n",
       "SCPM        0.0000      0.000000     0.000000        0.00   \n",
       "SCPY        0.0000      0.000000     0.000000        0.00   \n",
       "\n",
       "Country    Venezuela, Republica Bolivariana de  Vietnam  \\\n",
       "Loan Type                                                 \n",
       "CPL                                1034.913295     0.00   \n",
       "FSL                                  30.300000  3457.79   \n",
       "NON POOL                            383.300000     0.00   \n",
       "NPL                                 383.300000     0.00   \n",
       "POOL LOAN                             0.000000     0.00   \n",
       "SCL                                 687.199435     0.00   \n",
       "SCPD                               1192.687271     0.00   \n",
       "SCPM                                  0.000000     0.00   \n",
       "SCPY                                  0.000000     0.00   \n",
       "\n",
       "Country    Western and Central Africa  Yugoslavia, former      Zambia  \\\n",
       "Loan Type                                                               \n",
       "CPL                              21.1          989.894835   81.414024   \n",
       "FSL                               0.0            0.000000    0.000000   \n",
       "NON POOL                          0.0          403.700000  359.300000   \n",
       "NPL                              72.5          636.048776  522.650000   \n",
       "POOL LOAN                         0.0            0.000000    0.000000   \n",
       "SCL                               0.0            0.000000    0.000000   \n",
       "SCPD                              0.0            0.000000   31.285976   \n",
       "SCPM                              0.0            0.000000    0.000000   \n",
       "SCPY                              0.0            0.000000    0.000000   \n",
       "\n",
       "Country    Zimbabwe  \n",
       "Loan Type            \n",
       "CPL           896.2  \n",
       "FSL             0.0  \n",
       "NON POOL       43.1  \n",
       "NPL            43.1  \n",
       "POOL LOAN       0.0  \n",
       "SCL             0.0  \n",
       "SCPD            0.0  \n",
       "SCPM            0.0  \n",
       "SCPY            0.0  \n",
       "\n",
       "[9 rows x 149 columns]"
      ]
     },
     "execution_count": 53,
     "metadata": {},
     "output_type": "execute_result"
    }
   ],
   "source": [
    "df.pivot_table(\n",
    "    columns='Country', \n",
    "    index='Loan Type', \n",
    "    values='Original Principal Amount',\n",
    "    aggfunc='sum',\n",
    "    fill_value=0\n",
    ") / 1e6"
   ]
  },
  {
   "cell_type": "markdown",
   "id": "ef569773-a558-4924-b443-c00d469d8354",
   "metadata": {},
   "source": [
    "## C. Классическое машинное обучение\n",
    "Попробуем научиться различать нормальные купюры от поддельных по фотографиям.  \n",
    "Для получения признаков из фотографий было использовано <a href=\"https://habr.com/ru/articles/449646/\">вейвлет-преобразование</a> (можете потом почитать, если интересно, что это).\n",
    "\n",
    "В итоге были получены четыре признака:  \n",
    "\n",
    "1. variance of Wavelet Transformed image (continuous)  \n",
    "\n",
    "2. skewness of Wavelet Transformed image (continuous)  \n",
    "\n",
    "3. curtosis of Wavelet Transformed image (continuous)  \n",
    "\n",
    "4. entropy of image (continuous)  \n",
    "\n",
    "\n",
    "Данные находятся в `./Data/data_banknote_authentication_with_noise.txt`. В качестве разделителя использована запятая. Пропусков и дубликатов нет. Метка класса 0 -- нормальная купюра, 1 -- поддельная."
   ]
  },
  {
   "cell_type": "code",
   "execution_count": 54,
   "id": "d416d92e-2c10-48e9-92c3-103a84e6ccd8",
   "metadata": {
    "tags": []
   },
   "outputs": [
    {
     "data": {
      "text/html": [
       "<div>\n",
       "<style scoped>\n",
       "    .dataframe tbody tr th:only-of-type {\n",
       "        vertical-align: middle;\n",
       "    }\n",
       "\n",
       "    .dataframe tbody tr th {\n",
       "        vertical-align: top;\n",
       "    }\n",
       "\n",
       "    .dataframe thead th {\n",
       "        text-align: right;\n",
       "    }\n",
       "</style>\n",
       "<table border=\"1\" class=\"dataframe\">\n",
       "  <thead>\n",
       "    <tr style=\"text-align: right;\">\n",
       "      <th></th>\n",
       "      <th>variance</th>\n",
       "      <th>skewness</th>\n",
       "      <th>curtosis</th>\n",
       "      <th>entropy</th>\n",
       "      <th>class</th>\n",
       "    </tr>\n",
       "  </thead>\n",
       "  <tbody>\n",
       "    <tr>\n",
       "      <th>0</th>\n",
       "      <td>6.611742</td>\n",
       "      <td>10.974778</td>\n",
       "      <td>1.535766</td>\n",
       "      <td>4.122100</td>\n",
       "      <td>0</td>\n",
       "    </tr>\n",
       "    <tr>\n",
       "      <th>1</th>\n",
       "      <td>5.343440</td>\n",
       "      <td>9.996715</td>\n",
       "      <td>4.679038</td>\n",
       "      <td>0.840204</td>\n",
       "      <td>0</td>\n",
       "    </tr>\n",
       "    <tr>\n",
       "      <th>2</th>\n",
       "      <td>3.957577</td>\n",
       "      <td>3.074500</td>\n",
       "      <td>2.933947</td>\n",
       "      <td>-1.290739</td>\n",
       "      <td>0</td>\n",
       "    </tr>\n",
       "    <tr>\n",
       "      <th>3</th>\n",
       "      <td>5.682487</td>\n",
       "      <td>2.956399</td>\n",
       "      <td>-6.785953</td>\n",
       "      <td>-5.281263</td>\n",
       "      <td>0</td>\n",
       "    </tr>\n",
       "    <tr>\n",
       "      <th>4</th>\n",
       "      <td>-1.209253</td>\n",
       "      <td>0.116037</td>\n",
       "      <td>4.247728</td>\n",
       "      <td>-5.225711</td>\n",
       "      <td>0</td>\n",
       "    </tr>\n",
       "  </tbody>\n",
       "</table>\n",
       "</div>"
      ],
      "text/plain": [
       "   variance   skewness  curtosis   entropy  class\n",
       "0  6.611742  10.974778  1.535766  4.122100      0\n",
       "1  5.343440   9.996715  4.679038  0.840204      0\n",
       "2  3.957577   3.074500  2.933947 -1.290739      0\n",
       "3  5.682487   2.956399 -6.785953 -5.281263      0\n",
       "4 -1.209253   0.116037  4.247728 -5.225711      0"
      ]
     },
     "execution_count": 54,
     "metadata": {},
     "output_type": "execute_result"
    }
   ],
   "source": [
    "df = pd.read_csv(\"./Data/data_banknote_authentication_exam.zip\", sep=',')\n",
    "df.head()"
   ]
  },
  {
   "cell_type": "markdown",
   "id": "efd9f621-fcc2-4d99-81a0-b8b0902c616f",
   "metadata": {},
   "source": [
    "### 13.\n",
    "Прочитайте данные. Постройте боксплот для каждого признака на одной картинке отдельно для каждого класса."
   ]
  },
  {
   "cell_type": "markdown",
   "id": "2e31bbab-f471-474e-9d5f-5b6ba3281c4c",
   "metadata": {},
   "source": [
    "#### 13.1\n",
    "Для этого данные нужно сначала привести к длинному (long) формату."
   ]
  },
  {
   "cell_type": "code",
   "execution_count": 55,
   "id": "2d18eb70-d2de-44bd-9f39-6c4125fa2a84",
   "metadata": {
    "tags": []
   },
   "outputs": [
    {
     "data": {
      "text/html": [
       "<div>\n",
       "<style scoped>\n",
       "    .dataframe tbody tr th:only-of-type {\n",
       "        vertical-align: middle;\n",
       "    }\n",
       "\n",
       "    .dataframe tbody tr th {\n",
       "        vertical-align: top;\n",
       "    }\n",
       "\n",
       "    .dataframe thead th {\n",
       "        text-align: right;\n",
       "    }\n",
       "</style>\n",
       "<table border=\"1\" class=\"dataframe\">\n",
       "  <thead>\n",
       "    <tr style=\"text-align: right;\">\n",
       "      <th></th>\n",
       "      <th>class</th>\n",
       "      <th>variable</th>\n",
       "      <th>value</th>\n",
       "    </tr>\n",
       "  </thead>\n",
       "  <tbody>\n",
       "    <tr>\n",
       "      <th>0</th>\n",
       "      <td>0</td>\n",
       "      <td>variance</td>\n",
       "      <td>6.611742</td>\n",
       "    </tr>\n",
       "    <tr>\n",
       "      <th>1</th>\n",
       "      <td>0</td>\n",
       "      <td>variance</td>\n",
       "      <td>5.343440</td>\n",
       "    </tr>\n",
       "    <tr>\n",
       "      <th>2</th>\n",
       "      <td>0</td>\n",
       "      <td>variance</td>\n",
       "      <td>3.957577</td>\n",
       "    </tr>\n",
       "    <tr>\n",
       "      <th>3</th>\n",
       "      <td>0</td>\n",
       "      <td>variance</td>\n",
       "      <td>5.682487</td>\n",
       "    </tr>\n",
       "    <tr>\n",
       "      <th>4</th>\n",
       "      <td>0</td>\n",
       "      <td>variance</td>\n",
       "      <td>-1.209253</td>\n",
       "    </tr>\n",
       "  </tbody>\n",
       "</table>\n",
       "</div>"
      ],
      "text/plain": [
       "   class  variable     value\n",
       "0      0  variance  6.611742\n",
       "1      0  variance  5.343440\n",
       "2      0  variance  3.957577\n",
       "3      0  variance  5.682487\n",
       "4      0  variance -1.209253"
      ]
     },
     "execution_count": 55,
     "metadata": {},
     "output_type": "execute_result"
    }
   ],
   "source": [
    "dflong = df.melt(id_vars='class')\n",
    "dflong.head()"
   ]
  },
  {
   "cell_type": "markdown",
   "id": "f308b7f3-42b3-402a-a680-d4545e4d2eea",
   "metadata": {},
   "source": [
    "#### 13.2\n",
    "А теперь уже нарисуем картинку, использовав только что созданную длинную табличку."
   ]
  },
  {
   "cell_type": "code",
   "execution_count": 56,
   "id": "0fbedab7-c64f-4135-844a-d76e466c9e2d",
   "metadata": {
    "tags": []
   },
   "outputs": [
    {
     "data": {
      "image/png": "[encoded data removed]",
      "text/plain": [
       "<Figure size 640x480 with 1 Axes>"
      ]
     },
     "metadata": {},
     "output_type": "display_data"
    }
   ],
   "source": [
    "sns.boxplot(data=dflong, x='variable', y='value', hue='class')\n",
    "plt.show()"
   ]
  },
  {
   "cell_type": "markdown",
   "id": "5dbff770-2596-48c9-a34f-564b80853f91",
   "metadata": {},
   "source": [
    "#### 14.\n",
    "Попробуем обучить бинарный классификатор. В качестве модели будем использовать обычную логистическую регрессию."
   ]
  },
  {
   "cell_type": "markdown",
   "id": "e1071614-cb5b-4c44-9db0-54a8c4da7fbc",
   "metadata": {},
   "source": [
    "#### 14.1 (5 баллов)\n",
    "* Разделите данные на трейн и тест с использованием стратификации по классу. Для тестирования используйте 25% данных. Сид для случайной генерации 29072023.\n",
    "* Если посмотреть описательные статистики с помощью метода `describe`, то мы увидим, что все признаки в одном масштабе. Это же можно было понять и по картинке из пункта 13.2.  \n",
    "Тем не менее, **давайте проведем стандартизацию данных**, чтобы однозначно быть уверенными в одинаковм масштабе, а также для корректного интерпретирования коэффициентов в уравнении регрессии.\n",
    "* Обучите модель логистической регрессии с параметрами по-умолчанию.  \n",
    "* Посчитайе метрику F1 для предсказания модели на тестовых данных.\n",
    "* Посмотрите значения коэффициентов в уравнении лог.регрессии (атрибут `coef_`). Что можно сказать о влиянии каждого признака в предсказание?  \n"
   ]
  },
  {
   "cell_type": "code",
   "execution_count": 57,
   "id": "e66b47c5-13f7-425d-ae67-7d7ce5829509",
   "metadata": {
    "tags": []
   },
   "outputs": [],
   "source": [
    "from sklearn.model_selection import train_test_split\n",
    "\n",
    "X_train, X_test, y_train, y_test = train_test_split(df.drop('class', axis=1), df['class'], \n",
    "                                                    random_state=29072023, test_size=0.25,\n",
    "                                                    stratify=df['class'])"
   ]
  },
  {
   "cell_type": "code",
   "execution_count": 58,
   "id": "d2f11bd8-dfec-40c7-aae1-9c1fbbd1d1fd",
   "metadata": {
    "tags": []
   },
   "outputs": [],
   "source": [
    "from sklearn.preprocessing import StandardScaler\n",
    "\n",
    "scaler = StandardScaler()\n",
    "\n",
    "X_train = scaler.fit_transform(X_train)\n",
    "X_test = scaler.transform(X_test)"
   ]
  },
  {
   "cell_type": "code",
   "execution_count": 59,
   "id": "2bd4740e-e49f-4bd3-868c-937cd4b5ae99",
   "metadata": {
    "tags": []
   },
   "outputs": [],
   "source": [
    "from sklearn.linear_model import LogisticRegression"
   ]
  },
  {
   "cell_type": "code",
   "execution_count": 60,
   "id": "c4e1e950-f9a4-4f08-92e7-3e4d14b61871",
   "metadata": {
    "tags": []
   },
   "outputs": [],
   "source": [
    "model = LogisticRegression()\n",
    "\n",
    "model.fit(X_train, y_train)\n",
    "\n",
    "y_pred = model.predict(X_test)"
   ]
  },
  {
   "cell_type": "code",
   "execution_count": 61,
   "id": "55fe3708-412d-4cb1-8558-674cf9529c02",
   "metadata": {
    "tags": []
   },
   "outputs": [
    {
     "data": {
      "text/plain": [
       "0.7457627118644068"
      ]
     },
     "execution_count": 61,
     "metadata": {},
     "output_type": "execute_result"
    }
   ],
   "source": [
    "from sklearn.metrics import f1_score\n",
    "\n",
    "f1_score(y_test, y_pred)"
   ]
  },
  {
   "cell_type": "code",
   "execution_count": 62,
   "id": "066bcfc8-a649-4d8c-90be-3b66dc323da0",
   "metadata": {
    "tags": []
   },
   "outputs": [
    {
     "data": {
      "text/plain": [
       "array([[-1.41248573, -1.18012455, -0.54727456, -0.11994562]])"
      ]
     },
     "execution_count": 62,
     "metadata": {},
     "output_type": "execute_result"
    }
   ],
   "source": [
    "model.coef_"
   ]
  },
  {
   "cell_type": "markdown",
   "id": "208af4f3-abcd-4052-90f6-4612f074a06f",
   "metadata": {},
   "source": [
    "Первые три признака вносят похожий вклад в предсказание модели. Мы можем так интепретировать коэффициенты, потому что признаки точно в одном масштабе, мы их прошкалировали.  \n",
    "Что можно дальше сказать про коэффициенты? Целевой класс, фальшивая купюра, -- это лейбл 1. Чем больше сырое значение, которое выдаёт линейная модель, тем больше вероятность, что это целевой класс. Все признаки после стандартизации у нас имеют среднее ноль. Получается, что модель выдаёт положительные сырые значения тогда, когда признаки имеют отирцательные, то есть меньше среднего. \n",
    "\n",
    "То есть, если значение признака меньше среднего (отрицательное после стандартизации), то это вносит вклад в сторону единички (фальшивки), а если значение признака больше среднего, то это тогда вносит вклад уже в сторону нолика (нормально купюры). Вот мы и узнали больше о том, как работает наш классификатор, и получили возможные инсайты об устройстве данных."
   ]
  },
  {
   "cell_type": "markdown",
   "id": "46115056-aba0-41a5-8b86-e2274d5b9c8a",
   "metadata": {},
   "source": [
    "#### 14.2\n",
    "Предположим, что мы выпускает програмное обеспечение для банкоматов, которое должно определять по данным со сканера внутри банкомата, вставлена ли нормальная купюра или фальшивая. При этом нам не так страшно не принять нормальную купюру, как принять фальшивую.  \n",
    "В качестве нулевой гипотезы давайте считать, что купюра нормальная. Какую ошибку мы тогда хотим минимизировать? Первого рода или второго?\n",
    "\n",
    "Мы боимся не задетектировать фальшивку. То есть боимся ложноотрицательных результатов (боимся пропустить беременность, если она есть). Тогда мы хотим минимизировать ошибку второго рода. Это равносильно максимизации метрики Recall (полнота, т.е. какую долю из всех фальшивых купюр нам удалось опознать). При этом и про точность не хотим до конца забывать.\n",
    "\n",
    "Давайте использовать метрику $F_{\\beta}$. Посчитайте качество предсказания модели с помощью $F_\\beta$, сделав Recall в пять раз важнее, чем Precision.  \n",
    "\n",
    "*Можете отдельно посчитать полноту и точность и убедиться, что $F_\\beta$ стала \"ближе\" к полноте, чем $F_1$."
   ]
  },
  {
   "cell_type": "code",
   "execution_count": 63,
   "id": "23d22c41-07a8-4ae0-9c45-8634ff25c7ee",
   "metadata": {
    "tags": []
   },
   "outputs": [
    {
     "data": {
      "text/plain": [
       "0.7209478195109654"
      ]
     },
     "execution_count": 63,
     "metadata": {},
     "output_type": "execute_result"
    }
   ],
   "source": [
    "from sklearn.metrics import fbeta_score\n",
    "fbeta_score(y_test, y_pred, beta=5)"
   ]
  },
  {
   "cell_type": "markdown",
   "id": "08dcfc11-f858-4a95-b535-110a50cf0830",
   "metadata": {},
   "source": [
    "#### 14.3 (4 балла)\n",
    "Логистическая регрессия продуцирует нам вероятности принадлежности целевому классу. По-умолчанию, чтобы считать, что объект целевому классу принадлежит, порог равен 0.5, или 50%. Давайте переберем все пороги с шагом 0.05 (от 0 до 1) и определим оптимальные порог по метрике $F_\\beta$ (полнота в пять раз важнее точности). \n",
    "\n",
    "* Получите вероятности, а не метки классов;  \n",
    "* Для каждого порога от 0 до 1, включая концы, определите метки классов и посчитайте $F_\\beta$;  \n",
    "* Постройте график зависимости метрики от порога (диаграмму рассеяния, scatter plot);\n",
    "* Определите оптимальное значение порога (можно просто на глаз)."
   ]
  },
  {
   "cell_type": "code",
   "execution_count": 64,
   "id": "c0531a17-c0e7-4966-b636-62445184f30b",
   "metadata": {
    "tags": []
   },
   "outputs": [],
   "source": [
    "# более понятный вариант"
   ]
  },
  {
   "cell_type": "code",
   "execution_count": 65,
   "id": "5cfec66d-56bb-49f7-a369-07704b51585f",
   "metadata": {
    "tags": []
   },
   "outputs": [],
   "source": [
    "y_pred_prob = model.predict_proba(X_test)[:, 1]\n",
    "thresholds = np.arange(0, 1.01, 0.05)"
   ]
  },
  {
   "cell_type": "code",
   "execution_count": 66,
   "id": "e4dbce9d-31a7-46c8-a37b-3da746f4bda0",
   "metadata": {
    "tags": []
   },
   "outputs": [],
   "source": [
    "fbetas = []\n",
    "for thr in thresholds:\n",
    "    y_pred = (y_pred_prob > thr) #.astype(int)\n",
    "    fbetas.append(fbeta_score(y_test, y_pred, beta=5))"
   ]
  },
  {
   "cell_type": "code",
   "execution_count": 67,
   "id": "e0293772-e95b-495b-b5eb-4fcb0f77a17e",
   "metadata": {
    "tags": []
   },
   "outputs": [
    {
     "data": {
      "text/plain": [
       "[0.9544145873320538,\n",
       " 0.9606375271673508,\n",
       " 0.9549987837509122,\n",
       " 0.9476516634050881,\n",
       " 0.9442944785276074,\n",
       " 0.923304562268804,\n",
       " 0.9072011878247959,\n",
       " 0.8545816733067729,\n",
       " 0.8001000750562922,\n",
       " 0.7700803212851406,\n",
       " 0.7209478195109654,\n",
       " 0.6644736842105263,\n",
       " 0.6273812547625095,\n",
       " 0.5760122230710466,\n",
       " 0.5377936670071501,\n",
       " 0.4991041719989762,\n",
       " 0.4141829393627955,\n",
       " 0.28888888888888886,\n",
       " 0.17544770308850247,\n",
       " 0.09479166666666666,\n",
       " 0.0]"
      ]
     },
     "execution_count": 67,
     "metadata": {},
     "output_type": "execute_result"
    }
   ],
   "source": [
    "fbetas"
   ]
  },
  {
   "cell_type": "code",
   "execution_count": 69,
   "id": "952144b5-4817-4922-8207-38ef54a0ff9f",
   "metadata": {
    "tags": []
   },
   "outputs": [
    {
     "name": "stdout",
     "output_type": "stream",
     "text": [
      "Лучший порог 0.05 | Лучшая метрика 0.9606375271673508\n"
     ]
    },
    {
     "data": {
      "image/png": "[encoded data removed]",
      "text/plain": [
       "<Figure size 640x480 with 1 Axes>"
      ]
     },
     "metadata": {},
     "output_type": "display_data"
    }
   ],
   "source": [
    "maxi = np.argmax(fbetas)\n",
    "plt.scatter(thresholds, fbetas, label='metrics')\n",
    "\n",
    "plt.scatter(thresholds[maxi], fbetas[maxi], c='red', label='max val')\n",
    "print('Лучший порог', thresholds[maxi], '| Лучшая метрика', fbetas[maxi])\n",
    "\n",
    "plt.axvline(thresholds[maxi], linestyle='--', alpha=0.5)\n",
    "plt.text(0.06, thresholds[maxi], 0.05)\n",
    "\n",
    "plt.xticks(np.linspace(0, 1, 11))\n",
    "plt.yticks(np.linspace(0, 1, 11))\n",
    "\n",
    "plt.xlabel('Порог')\n",
    "plt.ylabel(r'$F_\\beta$')\n",
    "\n",
    "plt.axis('scaled')\n",
    "\n",
    "plt.grid(alpha=0.2)\n",
    "plt.legend()\n",
    "\n",
    "plt.show()"
   ]
  },
  {
   "cell_type": "code",
   "execution_count": 70,
   "id": "f617ffad-e538-4520-b8f0-2177b96d7f99",
   "metadata": {},
   "outputs": [
    {
     "data": {
      "image/png": "[encoded data removed]",
      "text/plain": [
       "<Figure size 640x480 with 1 Axes>"
      ]
     },
     "metadata": {},
     "output_type": "display_data"
    }
   ],
   "source": [
    "from sklearn.metrics import precision_score, recall_score, precision_recall_curve\n",
    "p, r, t = precision_recall_curve(y_test, y_pred_prob)\n",
    "plt.plot(r, p)\n",
    "plt.fill_between(r, 0, p, alpha=0.2)\n",
    "plt.grid(alpha=0.3)\n",
    "plt.xlabel('Recall')\n",
    "plt.ylabel('Precision')\n",
    "\n",
    "plt.axvline(0.9)\n",
    "plt.axhline(0.66)\n",
    "\n",
    "plt.show()"
   ]
  },
  {
   "cell_type": "markdown",
   "id": "e7fd18ff-f0d2-47a1-b331-c95886508a57",
   "metadata": {},
   "source": [
    "<left>\n",
    "    <img src=\"Data/pics/cat.gif\"/>\n",
    "</left>"
   ]
  },
  {
   "cell_type": "code",
   "execution_count": null,
   "id": "72975764-7348-43f7-b2a8-71e2d34d708a",
   "metadata": {},
   "outputs": [],
   "source": []
  }
 ],
 "metadata": {
  "kernelspec": {
   "display_name": "hock",
   "language": "python",
   "name": "hock"
  },
  "language_info": {
   "codemirror_mode": {
    "name": "ipython",
    "version": 3
   },
   "file_extension": ".py",
   "mimetype": "text/x-python",
   "name": "python",
   "nbconvert_exporter": "python",
   "pygments_lexer": "ipython3",
   "version": "3.11.7"
  }
 },
 "nbformat": 4,
 "nbformat_minor": 5
}
