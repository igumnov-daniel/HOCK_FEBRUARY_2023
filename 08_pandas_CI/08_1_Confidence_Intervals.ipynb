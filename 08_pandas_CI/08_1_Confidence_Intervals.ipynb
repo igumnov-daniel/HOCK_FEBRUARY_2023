{
 "cells": [
  {
   "cell_type": "code",
   "execution_count": 1,
   "id": "89ba5edf-404a-45ff-86d0-04db7dad7a53",
   "metadata": {},
   "outputs": [],
   "source": [
    "import matplotlib.pyplot as plt\n",
    "import numpy as np\n",
    "from scipy import stats"
   ]
  },
  {
   "cell_type": "markdown",
   "id": "987c3934-464d-40b5-af12-4edb06466910",
   "metadata": {},
   "source": [
    "# Теория"
   ]
  },
  {
   "cell_type": "markdown",
   "id": "0782b766-1243-4b36-9140-1cc73ebae406",
   "metadata": {},
   "source": [
    "## Мотивация\n",
    "Для некоторой выборочный совокупности (выборки) мы предполагаем модель, по которой она устроена, то есть генеральную совокупность.<br>\n",
    "По выборке мы может оценить параметры генеральной совокупнсости. То есть, если мы знаем/полагаем, что генеральная совокупность $\\mathcal{N}(\\mu, \\sigma^2)$, то по выборке может получить оценку для среднего $\\hat{\\mu}$ и дисперсии $\\hat{\\sigma}^2$ (крышечка означает, что это не реальный параметр, а наша оценка этого параметра).\n",
    "\n"
   ]
  },
  {
   "cell_type": "markdown",
   "id": "60b5b897-cd07-405d-a590-0a9f8f965f7e",
   "metadata": {},
   "source": [
    "Окей, предположим, что мы пытаемся оценить шансы некоторого кандидата на победу в выборках. Предположим, что наша выборка максимально репрезентативна, то есть мы прозвонили разные слои населения и тд. Получилось, что доля людей, которые проголосовали бы за нашего кандидата, равна 25%. Это наша оценка доли. Чтобы получить реальный параметр надо опрсить всё население, а не какую-то небольшую выборку.<br>\n",
    "Вроде круто. Но хочется понять, насколько мы можем быть уверены в этой оценке? \n",
    "\n",
    "Хочется иметь не точечную оценку параметра, а иметь какой-то интервал, который бы с определенной долей вероятности покрывал бы истинное значение параметра. Например, мы хотим интервал, который бы с вероятностью 95% содержал в себе истинной значение параметра. Это сделает наши выводы более состоятельными.<br>\n",
    "Таким образом, для вместо двух точечных оценок в 0.25 мы могли бы получить интервалы. И если интервал, с верояностью 95% содержащахи истинный параметр генеральной совокупности, составит от 0.1 до 0.4 в одном случае, а в другом от 0.2 до 0.3, то это даст нам больше информации для дальнейшего принятия решений, чем две точечные оценки в 0.25."
   ]
  },
  {
   "cell_type": "markdown",
   "id": "6d078515-d328-416a-8ac6-5f240d6d6800",
   "metadata": {},
   "source": [
    "## Формулировка"
   ]
  },
  {
   "cell_type": "markdown",
   "id": "211a27dd-4115-4900-8b01-e87cb7ffbf7b",
   "metadata": {},
   "source": [
    "**Точечной оценкой** называется число, используемое для оценки параметра генеральной совокупности.<br>\n",
    "**Доверительным интервалом** называется интервал, покрывающий истинное значение параметра генеральной совокупности с заданной вероятность.\n",
    "<br><br>\n",
    "**Уровнем значимости** $\\alpha$ назовём вероятность, с которой интервал не покрывается истинное значение параметра.<br>\n",
    "Таким образом, **уровнем доверия** $\\beta=1-\\alpha$ назовём вероятность, с которой интервал покрывает истинное значение параметра."
   ]
  },
  {
   "cell_type": "markdown",
   "id": "23321ec1-5978-4714-a91e-3658ad841c2e",
   "metadata": {},
   "source": [
    "Если мы оцениваем некоторый параметр $\\theta$ генеральной совокупности,<br>\n",
    "то интервал для оценки $\\hat{\\theta}$ с концами $(\\theta_1;\\theta_2)$ на уровне значимости $\\alpha$ (или с уровнем доверия $\\beta=1-\\alpha$) называется доверительным,<br>\n",
    "если $\\large \\mathbb{P}(\\theta_1 < \\theta < \\theta_2) \\ge \\beta$."
   ]
  },
  {
   "cell_type": "markdown",
   "id": "a79e8751-acdb-4366-b4a2-3d658838a444",
   "metadata": {},
   "source": [
    "Если мы строим интервал, пользуясь знанием о точном распределении параметра, то интервал называется **точным**.<br>\n",
    "Если для построения интервала мы пользуемся асимптотикой распределение параметра, например из-за ЦПТ, то интервал называется **асимптотическим**."
   ]
  },
  {
   "cell_type": "markdown",
   "id": "c857759f-df6a-41e0-923a-5b0c8e9ad79f",
   "metadata": {},
   "source": [
    "## Доверительный интервал для среднего\n",
    "### Случай с известной дисперсией\n",
    "* **Известна дисперсия генеральной совокупности** $\\sigma^2$;\n",
    "* имеется выборка размера $n$.\n",
    "\n",
    "Построим асимптотический доверителньый интервал для среднего (*мы знаем, что распределение выборочного среднего по ЦПТ сходится к $\\mathcal{N}(\\mu; \\frac{\\sigma^2}{n})$.<br><br>\n",
    "Стандартное отклонение распределения выборочной оценки называется **стандартной ошибкой** (то есть это не стандартное отклонение генеральной совокупности или выборочной совокупности, а стадартное отклонение нашей оценки истинного параметра). Мы хотим оценить среднее генереальной совокупности.<br>\n",
    "Мы оцениваем среднее ген.совокупности по выборочному среднему. Выборочное среднее имеет распределение. Стадартное отклонение этого распределения и есть стандартная ошибка.<br>\n",
    "Мы знаем, что выборочное среднее асимптотически распределено по $\\mathcal{N}(\\mu; \\frac{\\sigma^2}{n})$, значит стадартная ошибка это $SE=\\sqrt{Var}=\\large\\sqrt{ \\frac{\\sigma^2}{n}}=\\frac{\\sigma}{\\sqrt{n}}$."
   ]
  },
  {
   "cell_type": "markdown",
   "id": "00cdd3e2-c7e8-49b4-8764-196cae82d312",
   "metadata": {},
   "source": [
    "Фиксируем уровень значимости $\\alpha$ (то есть уровень доверия $\\beta=1-\\alpha$). Тогда мы строим интервал, который с вероятностью 90% покрывает параметр генеральной совокупности.<br>\n",
    "То есть мы должны захватить $\\beta$ вероятноcтной массы нашей случайной величины. Сделать это можно немного по-разному.<br>\n",
    "Обычно берут точечную оценку и отступают от неё симметрично влево и вправо.\n",
    "\n",
    "* Считаем выборочное среднее $\\bar{x}$. Эта оценка среднего ген.совокупности $\\mu$, которая распределена как см.выше;\n",
    "* От $\\bar{x}$ отступаем на какое-то расстояние влево и вправо, чтобы покрыть $\\beta$ процентов распределения. \n",
    "* Мы можем посчитать $\\large z_{1-\\frac{\\alpha}{2}}$ -- квантиль стандартного нормального распределения уровня $1-\\alpha/2$ (для простоты буду писать $z_\\alpha$, имея в виду $z_{1-\\alpha/2}$).<br>\n",
    "\n",
    "Зачем нам этот квантиль? Пример. Пусть уровень значимости $\\alpha=0.1$. Мы хотим оставить %5 вероятность массы с левого края и 5% с правого. Найдем квантиль уровня 0.95 (это как раз $1-\\alpha/2$). Этот квантиль стандартного распределения говорит, сколько стандартный отклонений надо отступить от среднего вправо, чтобы оказаться в точке, меньше которой 95% распределения и больше которой 5%. Среднее у стандартного нормального распределение -- ноль. Оно симметрично. Чтобы от нуля попасть в квантиль 0.95 надо отступить 1.96 стадартных отклонений право. Таким образом, для построение интервала мы должны шагнуть на 1.96 стандартных отклонений право и на 1.96 влево ($\\mu+\\pm 1.96\\sigma$). Сигма (стад.отклон) равна 1, так как распределение стандартное нормальное, а $\\mu=0$. \n",
    "\n",
    "В нашем случаее у нас неизвестное среднее ген.совокупности, но мы используем выборочное среднее как оценку.\n",
    "<br>Получили интервал для  $\\large(\\bar{x}\\pm \\frac{\\sigma}{\\sqrt{n}} z_\\alpha)$.\n",
    "<br><br>\n",
    "$\\large \\mathbb{P}(\\bar{x} -\\frac{\\sigma}{\\sqrt{n}} z_\\alpha< \\mu < \\bar{x} +\\frac{\\sigma}{\\sqrt{n}} z_\\alpha)= \\beta$."
   ]
  },
  {
   "cell_type": "code",
   "execution_count": null,
   "id": "ed57d3ac-be18-42a4-91db-4489342a1766",
   "metadata": {},
   "outputs": [],
   "source": []
  },
  {
   "cell_type": "markdown",
   "id": "0fd9a499-9f0f-42c0-85c5-b11eb5bbd5bd",
   "metadata": {},
   "source": [
    "##### Задачка 1.\n",
    "Дана выборка 8, 7, 6, 7, 4, 10, дисперсия $\\sigma^2$ = 1. Постройте 99% доверительный интервал."
   ]
  },
  {
   "cell_type": "code",
   "execution_count": 3,
   "id": "57d4973f-29f4-4aaf-b54d-1972333255c3",
   "metadata": {},
   "outputs": [],
   "source": [
    "# code"
   ]
  },
  {
   "cell_type": "markdown",
   "id": "d1248c6f-b43e-42d0-ad42-4c5b149ee9f5",
   "metadata": {},
   "source": [
    "##### Задачка 2.\n",
    "Дана выборка размера $n=28$, но самих значений нам предоставить не могут.<br>\n",
    "Выборочное среднее $\\bar{x}=120$, а также исторически известно стандартное отклонение $\\sigma^2=11$.\n",
    "\n",
    "Постройте 95% доверительный интервал для среднего значения."
   ]
  },
  {
   "cell_type": "code",
   "execution_count": null,
   "id": "bada990e-8169-4e82-9449-e45bb784800f",
   "metadata": {},
   "outputs": [],
   "source": [
    "# code"
   ]
  },
  {
   "cell_type": "markdown",
   "id": "942b3a32-281f-47e6-8806-c758e1739275",
   "metadata": {},
   "source": [
    "### Случай с неизвестной дисперсией\n",
    "#### Если размер выборки больше 30 (лучше больше 40)\n",
    "* **Неизвестна дисперсия генеральной совокупности**, но мы вводим оценку этой дисперсии по выборке!<br>\n",
    "Назовём её $\\large s = \\sqrt{\\frac{1}{n-1}\\cdot\\sum\\limits_{i=1}^n (x_i - \\bar{x})^2}$;\n",
    "* имеется выборка размера $n \\ge 30$.\n",
    "\n",
    "Тогда доверительный интервал для среднего:  $\\large(\\bar{x}\\pm \\frac{s}{\\sqrt{n}} z_\\alpha)$"
   ]
  },
  {
   "cell_type": "code",
   "execution_count": null,
   "id": "d4637c3e-4bbe-4068-aba0-13fe4287b90f",
   "metadata": {},
   "outputs": [],
   "source": []
  },
  {
   "cell_type": "markdown",
   "id": "e584c16b-1d61-43ae-a7c9-3dd9fca99291",
   "metadata": {},
   "source": [
    "#### Если размер выборки меньше 30\n",
    "* **Неизвестна дисперсия генеральной совокупности**, но мы вводим оценку этой дисперсии по выборке!<br>\n",
    "Назовём её $\\large s = \\sqrt{\\frac{1}{n-1}\\cdot\\sum\\limits_{i=1}^n (x_i - \\bar{x})^2}$;\n",
    "* имеется выборка размера $n \\lt 30$.\n",
    "* Берем не $\\large z_{1-\\frac{\\alpha}{2}}$, а $\\large t_{1-\\frac{\\alpha}{2}}(n-1)$, то есть квантиль уровня $1-\\alpha/2$ из распределения Стьюдента (t-распределения) c $n-1$ степенью свободы (n-1, потому что для подсчёта $s$ мы использовали посчитанное по выборке $\\bar{x}$).\n",
    "  \n",
    "Тогда доверительный интервал для среднего:  $\\large(\\bar{x}\\pm \\frac{s}{\\sqrt{n}} t_\\alpha^{(n-1)})$"
   ]
  },
  {
   "cell_type": "markdown",
   "id": "abcb6d8a-1056-4e2a-b8b3-8a70a435f868",
   "metadata": {},
   "source": [
    "##### Задачка 3.\n",
    "Пусть дана выборка 8, 7, 6, 7, 4, 10, но ни среднее, ни дисперсия генеральной совокупности неизвестны.<br>\n",
    "Постройте 99% доверительный интервал для среднего.<br><br>\n",
    "Как сильно он отличается от интервала из задачи 1?"
   ]
  },
  {
   "cell_type": "code",
   "execution_count": 5,
   "id": "c233d579-dea7-442a-9df0-23da6d7e6669",
   "metadata": {},
   "outputs": [],
   "source": [
    "# code"
   ]
  },
  {
   "cell_type": "markdown",
   "id": "3df9f41a-378d-4f8e-8053-c4767f18106d",
   "metadata": {},
   "source": [
    "## Размер выборки для определенной точности\n",
    "Если отступ от среднего  $\\text{margin}=\\frac{\\sigma}{\\sqrt{n}} z_\\alpha$, то нам остаётся выразить $n$.\n",
    "\n",
    "Отступ от среднего (margin) при подсчёте необходимого размера выборки называется **Minimum Detectable Effect** (MDE)."
   ]
  },
  {
   "cell_type": "markdown",
   "id": "084d6443-fb69-4100-a6c3-cc80918c9e6f",
   "metadata": {},
   "source": [
    "##### Задачка 4.\n",
    "Найдите минимально необходимый объем выборки для построения интервальной оценки среднего с MDE (точность/margin) $5$, дисперсией $\\sigma^2=169$ и уровнем доверия $\\beta=0.95$."
   ]
  },
  {
   "cell_type": "code",
   "execution_count": 6,
   "id": "0a1d35cd-4d6e-45d5-853f-b87823bd8f6d",
   "metadata": {},
   "outputs": [],
   "source": [
    "# code"
   ]
  },
  {
   "cell_type": "markdown",
   "id": "d568abd8-2f29-473f-baa9-ed3b4ceace80",
   "metadata": {},
   "source": [
    "## Доверительный интервал для доли (асимптотический)\n",
    "Вывести от суммы бернуллиевских случайных величин, если $E(X)=p$, а $D(X)=pq$ для $ X \\sim \\text{Bern}(p) $."
   ]
  },
  {
   "cell_type": "code",
   "execution_count": null,
   "id": "1a86f7fe-e7e2-4f33-bcd6-4fbbf005df5f",
   "metadata": {},
   "outputs": [],
   "source": []
  },
  {
   "cell_type": "markdown",
   "id": "860155c5-6662-43c4-8376-32e53d3cd70d",
   "metadata": {},
   "source": [
    "# Ещё задачки"
   ]
  },
  {
   "cell_type": "markdown",
   "id": "c9cabbed-1b2b-4852-ae2f-322a9f194ca9",
   "metadata": {},
   "source": [
    "##### Задачка 5\n",
    "Among various ethnic groups, the standard deviation of heights is known to be approximately three inches. We wish to construct a 95% confidence interval for the mean height of male Swedes. Forty-eight male Swedes are surveyed. The sample mean is 71 inches. The sample standard deviation is 2.8 inches."
   ]
  },
  {
   "cell_type": "code",
   "execution_count": null,
   "id": "26929dcd-63f8-4013-8c8e-0f4b86d238c3",
   "metadata": {},
   "outputs": [],
   "source": []
  },
  {
   "cell_type": "markdown",
   "id": "e7806aa3-aaba-4035-8fac-524e5002da08",
   "metadata": {},
   "source": [
    "##### Задачка 6\n",
    "Announcements for 84 upcoming engineering conferences were randomly picked from a stack of IEEE Spectrum magazines. The mean length of the conferences was 3.94 days, with a standard deviation of 1.28 days. Assume the underlying population is normal."
   ]
  },
  {
   "cell_type": "code",
   "execution_count": null,
   "id": "a25be194-fbb2-43a4-84c4-79f27879c013",
   "metadata": {},
   "outputs": [],
   "source": []
  },
  {
   "cell_type": "markdown",
   "id": "cbfbc342-98a4-47b4-b617-b0bb9df70a5f",
   "metadata": {},
   "source": [
    "##### Задачка 7\n",
    "Suppose that an accounting firm does a study to determine the time needed to complete one person’s tax forms. It randomly surveys 100 people. The sample mean is 23.6 hours. There is a known standard deviation of 7.0 hours. The population distribution is assumed to be normal."
   ]
  },
  {
   "cell_type": "code",
   "execution_count": null,
   "id": "9809ac4d-00f5-4008-a0c4-f40f1f223ef4",
   "metadata": {},
   "outputs": [],
   "source": []
  },
  {
   "cell_type": "markdown",
   "id": "850972f9-7b2a-49a3-8605-f80f4ff402d9",
   "metadata": {},
   "source": [
    "##### Задачка 8 \n",
    "A random survey of enrollment at 35 community colleges across the United States yielded the following figures: 6,414; 1,550; 2,109; 9,350; 21,828; 4,300; 5,944; 5,722; 2,825; 2,044; 5,481; 5,200; 5,853; 2,750; 10,012; 6,357; 27,000; 9,414; 7,681; 3,200; 17,500; 9,200; 7,380; 18,314; 6,557; 13,713; 17,768; 7,493; 2,771; 2,861; 1,263; 7,285; 28,165; 5,080; 11,622. Assume the underlying population is normal."
   ]
  },
  {
   "cell_type": "code",
   "execution_count": null,
   "id": "70b9e17f-deb4-4fb1-8259-e3251a469f38",
   "metadata": {},
   "outputs": [],
   "source": []
  },
  {
   "cell_type": "markdown",
   "id": "a61c1dec-2bb1-4493-bdd5-1885b44b0b92",
   "metadata": {},
   "source": [
    "##### Задачка 9\n",
    "A pharmaceutical company makes tranquilizers. It is assumed that the distribution for the length of time they last is approximately normal. Researchers in a hospital used the drug on a random sample of nine patients. The effective period of the tranquilizer for each patient (in hours) was as follows: 2.7; 2.8; 3.0; 2.3; 2.3; 2.2; 2.8; 2.1; and 2.4."
   ]
  },
  {
   "cell_type": "code",
   "execution_count": null,
   "id": "2e77a4da-74cd-4f00-95ec-03ad37359f24",
   "metadata": {},
   "outputs": [],
   "source": []
  },
  {
   "cell_type": "markdown",
   "id": "1a74917e-ede0-4423-a65c-95feb7114197",
   "metadata": {},
   "source": [
    "##### Задачка 10\n",
    "A sample of 16 small bags of the same brand of candies was selected. Assume that the population distribution of bag weights is normal. The weight of each bag was then recorded. The mean weight was two ounces with a standard deviation of 0.12 ounces. The population standard deviation is known to be 0.1 ounce."
   ]
  },
  {
   "cell_type": "code",
   "execution_count": null,
   "id": "ea4d8c5b-c24c-42b8-95a9-5a76aac3eb5e",
   "metadata": {},
   "outputs": [],
   "source": [
    " "
   ]
  },
  {
   "cell_type": "markdown",
   "id": "1d70c748-3772-47cc-bd3a-8eb627310f20",
   "metadata": {},
   "source": [
    "##### Задачка 11\n",
    "A real estate agent wishes to estimate, to within $2.50, the mean retail cost per square foot of newly built homes, with 80% confidence. He estimates the standard deviation of such costs at $5.00. Estimate the minimum size sample required."
   ]
  },
  {
   "cell_type": "code",
   "execution_count": null,
   "id": "099945b2-402f-43e2-afd2-e08d40c8326a",
   "metadata": {},
   "outputs": [],
   "source": []
  },
  {
   "cell_type": "markdown",
   "id": "7aa0decd-6dd4-43a3-b0f5-684b264f87ae",
   "metadata": {},
   "source": [
    "##### Задачка 12\n",
    "A retailer wishes to estimate, to within 15 seconds, the mean duration of telephone orders taken at its call center, with 99.5% confidence. In the past the standard deviation of call length has been about 1.25 minutes. Estimate the minimum size sample required. (Be careful to express all the information in the same units.)"
   ]
  },
  {
   "cell_type": "code",
   "execution_count": null,
   "id": "ca329f88-e460-495f-8fd5-e52b17b00699",
   "metadata": {},
   "outputs": [],
   "source": []
  }
 ],
 "metadata": {
  "kernelspec": {
   "display_name": "Python [conda env:hock]",
   "language": "python",
   "name": "conda-env-hock-py"
  },
  "language_info": {
   "codemirror_mode": {
    "name": "ipython",
    "version": 3
   },
   "file_extension": ".py",
   "mimetype": "text/x-python",
   "name": "python",
   "nbconvert_exporter": "python",
   "pygments_lexer": "ipython3",
   "version": "3.11.7"
  }
 },
 "nbformat": 4,
 "nbformat_minor": 5
}
