{
 "cells": [
  {
   "cell_type": "markdown",
   "id": "23d7d4b2-b623-4307-99d4-301b3dc4323b",
   "metadata": {},
   "source": [
    "# СЛОВАРИ"
   ]
  },
  {
   "cell_type": "markdown",
   "id": "d6464633-83e5-4fbd-8029-a840c1d3816e",
   "metadata": {},
   "source": [
    "## Краткая теория\n",
    "<a href=\"https://contest.yandex.ru/contest/54480/problems/\">Задачи тут.</a>"
   ]
  },
  {
   "cell_type": "markdown",
   "id": "8d5fec31-ca92-4050-b9cc-31d1540ca87e",
   "metadata": {},
   "source": [
    "### Словари"
   ]
  },
  {
   "cell_type": "code",
   "execution_count": 8,
   "id": "84e89cce-4115-44db-8590-4d9e44bb9a92",
   "metadata": {},
   "outputs": [
    {
     "name": "stdout",
     "output_type": "stream",
     "text": [
      "{'one': 1, 'two': 2}\n"
     ]
    }
   ],
   "source": [
    "# создание\n",
    "d = {} \n",
    "# d = dict()\n",
    "\n",
    "# добавление\n",
    "d['one'] = 1  # (1,2,3,4)\n",
    "d['two'] = 2\n",
    "\n",
    "print(d)"
   ]
  },
  {
   "cell_type": "code",
   "execution_count": 2,
   "id": "3d083a33-d0fb-446a-a4d1-50e5f945d8da",
   "metadata": {},
   "outputs": [
    {
     "name": "stdout",
     "output_type": "stream",
     "text": [
      "{'one': 1, 'two': 'два'}\n"
     ]
    }
   ],
   "source": [
    "# изменение\n",
    "d['two'] = 'два'\n",
    "print(d)"
   ]
  },
  {
   "cell_type": "markdown",
   "id": "75d307c8-68a3-44af-b63a-6affa7416c91",
   "metadata": {},
   "source": [
    "#### ЗАДАЧА 1"
   ]
  },
  {
   "cell_type": "markdown",
   "id": "06b192ee-c6ea-4f49-b383-ea1f5393c53c",
   "metadata": {},
   "source": [
    "#### ЗАДАЧА 2"
   ]
  },
  {
   "cell_type": "code",
   "execution_count": 16,
   "id": "ed860a6b-c164-4d17-9714-58e54d150e81",
   "metadata": {
    "tags": []
   },
   "outputs": [
    {
     "name": "stdout",
     "output_type": "stream",
     "text": [
      "{'one': 1, 'two': 2, 'three': 3, 'ten': 10}\n"
     ]
    }
   ],
   "source": [
    "d['three'] = 3\n",
    "d['ten'] = 10\n",
    "\n",
    "print(d)"
   ]
  },
  {
   "cell_type": "code",
   "execution_count": 17,
   "id": "b3245ddc-19d3-4a68-a58d-4e1bdf1323a6",
   "metadata": {},
   "outputs": [
    {
     "name": "stdout",
     "output_type": "stream",
     "text": [
      "Словарь:\n",
      "{'one': 1, 'two': 2, 'three': 3, 'ten': 10}\n",
      "--------------------------------------------------------------------------------\n"
     ]
    }
   ],
   "source": [
    "# итерация\n",
    "print('Словарь:')\n",
    "print(d)\n",
    "print('-' * 80)"
   ]
  },
  {
   "cell_type": "code",
   "execution_count": 23,
   "id": "495dd5cb-ee45-49e9-8fc3-fa96d14e5f5d",
   "metadata": {
    "tags": []
   },
   "outputs": [
    {
     "data": {
      "text/plain": [
       "dict_keys(['one', 'two', 'three', 'ten'])"
      ]
     },
     "execution_count": 23,
     "metadata": {},
     "output_type": "execute_result"
    }
   ],
   "source": [
    "d.keys()"
   ]
  },
  {
   "cell_type": "code",
   "execution_count": 28,
   "id": "440bf197-4bf3-4a7a-92a3-30ab13425f03",
   "metadata": {
    "tags": []
   },
   "outputs": [
    {
     "name": "stdout",
     "output_type": "stream",
     "text": [
      "По ключам:\n",
      "one\n",
      "two\n",
      "three\n",
      "ten\n",
      "--------------------------------------------------------------------------------\n"
     ]
    }
   ],
   "source": [
    "print('По ключам:')\n",
    "\n",
    "for k in d.keys():\n",
    "    print(k)\n",
    "    \n",
    "print('-' * 80)"
   ]
  },
  {
   "cell_type": "code",
   "execution_count": 29,
   "id": "4b13141d-4a74-407a-be6c-1776f750f477",
   "metadata": {
    "tags": []
   },
   "outputs": [
    {
     "name": "stdout",
     "output_type": "stream",
     "text": [
      "По значениям:\n",
      "1\n",
      "2\n",
      "3\n",
      "10\n",
      "--------------------------------------------------------------------------------\n"
     ]
    }
   ],
   "source": [
    "print('По значениям:')\n",
    "for v in d.values():\n",
    "    print(v)\n",
    "print('-' * 80)"
   ]
  },
  {
   "cell_type": "code",
   "execution_count": 30,
   "id": "f3052da3-5835-4a6f-8d65-b63563f76b1f",
   "metadata": {
    "tags": []
   },
   "outputs": [
    {
     "data": {
      "text/plain": [
       "dict_items([('one', 1), ('two', 2), ('three', 3), ('ten', 10)])"
      ]
     },
     "execution_count": 30,
     "metadata": {},
     "output_type": "execute_result"
    }
   ],
   "source": [
    "d.items()"
   ]
  },
  {
   "cell_type": "code",
   "execution_count": 39,
   "id": "cbbd3953-ad9d-459c-a755-08d184009159",
   "metadata": {
    "tags": []
   },
   "outputs": [
    {
     "name": "stdout",
     "output_type": "stream",
     "text": [
      "('one', 1)\n",
      "('two', 2)\n",
      "('three', 3)\n",
      "('ten', 10)\n"
     ]
    }
   ],
   "source": [
    "for i in d.items():\n",
    "    print(i)"
   ]
  },
  {
   "cell_type": "code",
   "execution_count": 40,
   "id": "bba3ae16-a155-4a67-9ae4-4e7ef525e372",
   "metadata": {
    "tags": []
   },
   "outputs": [
    {
     "name": "stdout",
     "output_type": "stream",
     "text": [
      "По парам (ключ, значение):\n",
      "Key: one | value: 1\n",
      "Key: two | value: 2\n",
      "Key: three | value: 3\n",
      "Key: ten | value: 10\n"
     ]
    }
   ],
   "source": [
    "print('По парам (ключ, значение):')\n",
    "\n",
    "for k, v in d.items():\n",
    "    print(f\"Key: {k} | value: {v}\")"
   ]
  },
  {
   "cell_type": "code",
   "execution_count": 42,
   "id": "a19ff92d-a571-499f-99fd-0735fcb2d74b",
   "metadata": {
    "tags": []
   },
   "outputs": [
    {
     "name": "stdout",
     "output_type": "stream",
     "text": [
      "one 1\n",
      "ten 10\n",
      "three 3\n",
      "two 2\n"
     ]
    }
   ],
   "source": [
    "for k in sorted(d.keys()):\n",
    "    print(k, d[k])"
   ]
  },
  {
   "cell_type": "markdown",
   "id": "36d8fadd-efba-4ce8-957a-c45522171b50",
   "metadata": {},
   "source": [
    "### get"
   ]
  },
  {
   "cell_type": "code",
   "execution_count": 44,
   "id": "b5403a34-67da-4ccd-87a5-d1dea8545739",
   "metadata": {
    "tags": []
   },
   "outputs": [
    {
     "ename": "KeyError",
     "evalue": "'five'",
     "output_type": "error",
     "traceback": [
      "\u001b[1;31m---------------------------------------------------------------------------\u001b[0m",
      "\u001b[1;31mKeyError\u001b[0m                                  Traceback (most recent call last)",
      "Cell \u001b[1;32mIn [44], line 1\u001b[0m\n\u001b[1;32m----> 1\u001b[0m \u001b[43md\u001b[49m\u001b[43m[\u001b[49m\u001b[38;5;124;43m'\u001b[39;49m\u001b[38;5;124;43mfive\u001b[39;49m\u001b[38;5;124;43m'\u001b[39;49m\u001b[43m]\u001b[49m\n",
      "\u001b[1;31mKeyError\u001b[0m: 'five'"
     ]
    }
   ],
   "source": [
    "d['five']"
   ]
  },
  {
   "cell_type": "code",
   "execution_count": 46,
   "id": "81e59dc9-5935-41be-8e92-680e2b195d24",
   "metadata": {
    "tags": []
   },
   "outputs": [
    {
     "data": {
      "text/plain": [
       "1"
      ]
     },
     "execution_count": 46,
     "metadata": {},
     "output_type": "execute_result"
    }
   ],
   "source": [
    "d.get('one')"
   ]
  },
  {
   "cell_type": "code",
   "execution_count": 47,
   "id": "89837d6f-37bb-432e-ac3d-9149e4c9034b",
   "metadata": {
    "tags": []
   },
   "outputs": [],
   "source": [
    "d.get('ключ, которого нет')"
   ]
  },
  {
   "cell_type": "code",
   "execution_count": 55,
   "id": "9c85024e-60d6-49da-9cce-97116727686b",
   "metadata": {
    "tags": []
   },
   "outputs": [
    {
     "data": {
      "text/plain": [
       "'ОШИБКА'"
      ]
     },
     "execution_count": 55,
     "metadata": {},
     "output_type": "execute_result"
    }
   ],
   "source": [
    "d.get('ключ, которого нет', 'ОШИБКА')"
   ]
  },
  {
   "cell_type": "code",
   "execution_count": 53,
   "id": "6efcbc26-30c0-42bc-997c-e988ad3a9f8b",
   "metadata": {
    "tags": []
   },
   "outputs": [
    {
     "data": {
      "text/plain": [
       "10"
      ]
     },
     "execution_count": 53,
     "metadata": {},
     "output_type": "execute_result"
    }
   ],
   "source": [
    "d.get('ten', 'ОШИБКА')"
   ]
  },
  {
   "cell_type": "markdown",
   "id": "75d7f128-5b80-432c-9f36-b9bd2595e55f",
   "metadata": {},
   "source": [
    "# ЗАДАЧА 3"
   ]
  },
  {
   "cell_type": "code",
   "execution_count": 59,
   "id": "612b7341-9a22-4613-a444-e4f3b14b2110",
   "metadata": {},
   "outputs": [
    {
     "name": "stdin",
     "output_type": "stream",
     "text": [
      " stationer timidity timidity mechanicalist timidity timidity mechanicalist stationer mechanicalist\n"
     ]
    },
    {
     "name": "stdout",
     "output_type": "stream",
     "text": [
      "mechanicalist 3\n",
      "stationer 2\n",
      "timidity 4\n"
     ]
    }
   ],
   "source": []
  },
  {
   "cell_type": "code",
   "execution_count": null,
   "id": "62f44125-7df7-4cc0-947c-8cf8a31073a4",
   "metadata": {},
   "outputs": [],
   "source": []
  },
  {
   "cell_type": "markdown",
   "id": "7be249f6-7253-43df-89e9-e6388e39cac9",
   "metadata": {},
   "source": [
    "## I/O json и pickle"
   ]
  },
  {
   "cell_type": "markdown",
   "id": "6ad43447-3cd4-42d4-87c5-478a2f021557",
   "metadata": {},
   "source": [
    "Для чтение и записи словарей можно использовать формат json (это просто правила оформления текстового докмента).<br>\n",
    "Пример того, как выглядит содержимое json файла, можно найти <a href=\"https://json.org/example.html\">тут</a>."
   ]
  },
  {
   "cell_type": "markdown",
   "id": "1d56c36f-1653-44f9-8e9f-5c6f0b11b4de",
   "metadata": {},
   "source": [
    "### Запись в json"
   ]
  },
  {
   "cell_type": "code",
   "execution_count": 4,
   "id": "308aa2ec-31ac-40fc-ae7c-024bf8a890dc",
   "metadata": {},
   "outputs": [],
   "source": [
    "# чтение и запись в json\n",
    "# нужно импортировать соответсвующую библиотеку\n",
    "# она поставляется вместе с питоном (то есть она у вас уже есть)\n",
    "\n",
    "import json\n",
    "\n",
    "# создаём словарь\n",
    "# для красоты я перенос строки, чтобы каждая пара была на отдельной строке\n",
    "\n",
    "data = {'name': 'Tom', \n",
    "        'Surname': 'Sawyer', \n",
    "        'age': 12,\n",
    "        'two words': {1: 'bla', 2:'bla2'}\n",
    "       }\n",
    "\n",
    "# открываем текстовый файл test.json в режиме записи\n",
    "# и из модуля json используем функциб out\n",
    "# она принимаем словарь (у нас он в переменной data)\n",
    "# и второй аргумент -- файл (мы открыли файл в переменную out)\n",
    "\n",
    "with open('test.json', 'w', encoding='utf8') as out: # запись\n",
    "    json.dump(data, out)\n",
    "    \n",
    "# теперь вы увидите у себя в папке с ноутбуком файлик test.json\n",
    "# откройте его с помощью блоконота и убедитесь, что там действительно сохранены те значения,\n",
    "# что были созданы выше"
   ]
  },
  {
   "cell_type": "code",
   "execution_count": 60,
   "id": "ad3e0997-3282-4933-8357-807bfba62b95",
   "metadata": {},
   "outputs": [
    {
     "name": "stdout",
     "output_type": "stream",
     "text": [
      "{\"name\": \"Tom\", \"Surname\": \"Sawyer\", \"age\": 12, \"two words\": {\"1\": \"bla\", \"2\": \"bla2\"}}\n"
     ]
    }
   ],
   "source": [
    "# откроем созданный файл в режиме чтение\n",
    "# и просто прочитаем из него одну строку\n",
    "\n",
    "with open('test.json', 'r', encoding='utf8') as inpf: # файл выглядит так\n",
    "    for line in inpf: # по-умолчанию dump в 1 строку пишется\n",
    "        print(line) \n",
    "        \n",
    "        \n",
    "# видим, чт это наша исходную строка"
   ]
  },
  {
   "cell_type": "markdown",
   "id": "8363c350-4c87-490e-9eb7-7f931a2688f3",
   "metadata": {},
   "source": [
    "Но проблема в том, что мы просто прочитали сохраненные данные как строку. А можно прочитать json файл **СРАЗУ В СЛОВАРЬ**.<br>\n",
    "Для этого откроем файл в режиме чтения и воспользуемся функцией `load` из библиотеки `json`."
   ]
  },
  {
   "cell_type": "code",
   "execution_count": 62,
   "id": "750e7b92-b9b3-421f-a13d-d4cb27d948e4",
   "metadata": {
    "tags": []
   },
   "outputs": [
    {
     "name": "stdout",
     "output_type": "stream",
     "text": [
      "{'name': 'Tom', 'Surname': 'Sawyer', 'age': 12, 'two words': {'1': 'bla', '2': 'bla2'}}\n",
      "<class 'dict'>\n",
      "Tom\n"
     ]
    }
   ],
   "source": [
    "# открываем файл в режиме чтение\n",
    "with open('test.json', 'r', encoding='utf8') as inpf:\n",
    "    data_loaded = json.load(inpf) # с помощью функции load \"прочитываем\" содержимое файла в словарь\n",
    "    \n",
    "print(data_loaded) # выведем созданный словарь\n",
    "print(type(data_loaded))\n",
    "print(data_loaded['name'])"
   ]
  },
  {
   "cell_type": "markdown",
   "id": "32eba9e0-fad9-475f-85a0-28c3166e8fad",
   "metadata": {},
   "source": [
    "Как видите, мы прочитали файл в формате json сразу же в питоновский словарь.<br>\n",
    "Видим, что тип переменной в самом деле dict и что с ней можно работать как со словарем (мы обратились к элементу по ключу)."
   ]
  },
  {
   "cell_type": "markdown",
   "id": "cd420ea0-3752-4a7a-8bf4-409b18a4a65a",
   "metadata": {},
   "source": [
    "NOTE: **Обратите внимание, типы данных сохраняются: числа остаются числами.**<br>\n",
    "Например, ключу 'age' соотетствует не строка 12, а число 12. То есть, если бы `dump` было сохранено число, то `load` восстановит нужный тип (число)."
   ]
  },
  {
   "cell_type": "markdown",
   "id": "8f0b8be8-d8ae-4804-ad6a-92ab127c7070",
   "metadata": {},
   "source": [
    "### pickle\n",
    "Еще один вариант -- пикл. Им мы пользоваться почти не будем. Но **ЛЮБЫЕ** объекты можно сохранть в пикл формат с помощью функции `dump` из библиотеки pickle. И прочитать с помощью `load`.<br>\n",
    "Pikcle позволяет сохранить **ЛЮБОЙ** объект, то есть и список, и число, и словарь, и что угодно. И, что важно, типы не теряются. Что было числом, останется числом при чтении."
   ]
  },
  {
   "cell_type": "markdown",
   "id": "0ea89e56-2448-4def-95c5-226960ac00c6",
   "metadata": {},
   "source": [
    "**NB: режимы чтения и записи не 'r' и 'w', а 'rb' и 'wb' соответственно.**"
   ]
  },
  {
   "cell_type": "code",
   "execution_count": 65,
   "id": "2954c2d9-df8c-4a4a-9e75-e8251601ca54",
   "metadata": {},
   "outputs": [
    {
     "name": "stdout",
     "output_type": "stream",
     "text": [
      "[[0, '0', 0], [0, '0', 1], [0, '0', 4], [0, '1', 0], [0, '1', 1], [0, '1', 4], [0, '2', 0], [0, '2', 1], [0, '2', 4], [1, '0', 0], [1, '0', 1], [1, '0', 4], [1, '1', 0], [1, '1', 1], [1, '1', 4], [1, '2', 0], [1, '2', 1], [1, '2', 4], [2, '0', 0], [2, '0', 1], [2, '0', 4], [2, '1', 0], [2, '1', 1], [2, '1', 4], [2, '2', 0], [2, '2', 1], [2, '2', 4]]\n"
     ]
    }
   ],
   "source": [
    "import pickle\n",
    "\n",
    "\n",
    "triples = []\n",
    "for i in range(3):\n",
    "    for j in range(3):\n",
    "        for k in range(3):\n",
    "            triples.append([i, str(j), k ** 2])\n",
    "    \n",
    "print(triples) # как видите, это список со спискам.\n",
    "\n",
    "with open('triples.pickle', 'wb') as outfb: # режим открытия для записи не w, а wb\n",
    "    pickle.dump(triples, outfb) # записали в файл"
   ]
  },
  {
   "cell_type": "code",
   "execution_count": 67,
   "id": "4cc4f17b-901b-4ffd-8246-47cbd2131c29",
   "metadata": {},
   "outputs": [
    {
     "name": "stdout",
     "output_type": "stream",
     "text": [
      "27\n",
      "[[0, '0', 0], [0, '0', 1], [0, '0', 4], [0, '1', 0], [0, '1', 1], [0, '1', 4], [0, '2', 0], [0, '2', 1], [0, '2', 4], [1, '0', 0], [1, '0', 1], [1, '0', 4], [1, '1', 0], [1, '1', 1], [1, '1', 4], [1, '2', 0], [1, '2', 1], [1, '2', 4], [2, '0', 0], [2, '0', 1], [2, '0', 4], [2, '1', 0], [2, '1', 1], [2, '1', 4], [2, '2', 0], [2, '2', 1], [2, '2', 4]]\n"
     ]
    }
   ],
   "source": [
    "with open('triples.pickle', 'rb') as inpfb:\n",
    "    triples_from_file = pickle.load(inpfb) # читаем из файла\n",
    "    \n",
    "print(len(triples_from_file)) # всего эементов внутри большого списка\n",
    "print(triples_from_file) # все типы восстановлены. что было числом, прочиталось как число"
   ]
  },
  {
   "cell_type": "markdown",
   "id": "35bd6b99-13ff-4903-8a97-3498031a4ba2",
   "metadata": {},
   "source": [
    "# Практика"
   ]
  },
  {
   "cell_type": "markdown",
   "id": "2730e0f7-aa97-4602-9732-794fba28e768",
   "metadata": {},
   "source": [
    "### 1. Скука 1.0\n",
    "Напишите функцию `squares100`, которая создаёт и возвращает словарь, где ключи -- числа от 1 до 100, а значения -- квадраты этих чисел.\n",
    "\n",
    "Т.е. пример выхода:   \n",
    "`{1: 1, 2: 4, 3:9, ...}`"
   ]
  },
  {
   "cell_type": "code",
   "execution_count": null,
   "id": "95111993-1801-45ce-962a-3ae3f4a695ee",
   "metadata": {},
   "outputs": [],
   "source": []
  },
  {
   "cell_type": "markdown",
   "id": "c52f6fef-18fd-4bb3-8c46-51998fafe929",
   "metadata": {},
   "source": [
    "### 2. Скука 2.0\n",
    "Напишите функцию `lists2dict`, которая принимает два списка: список с ключами и список со значениями. Функция должна возвращать, где ключи -- значения первого списка, а значения -- значения второго списка.\n",
    "\n",
    "То есть из списков `['aa', 'bb']` и `['val1', 'val2']` функция должна сделать и вернуть словарь `{'aa': 'val1', 'bb': 'val2'}`.\n"
   ]
  },
  {
   "cell_type": "code",
   "execution_count": null,
   "id": "cf20b4a2-603b-4c69-83d1-2f188bf4f081",
   "metadata": {},
   "outputs": [],
   "source": []
  },
  {
   "cell_type": "markdown",
   "id": "92a4fabc-4bc0-43db-954f-ea948fdae0b6",
   "metadata": {},
   "source": [
    "### 3. cakes\n",
    "Дан файл `cakes.json` с описанием кулинарных изделий.  \n",
    "Необходимо написать функцию `get_unique_cakes()`, которая возвращает список уникальных названий куланирных позиций.\n",
    "\n",
    "Указания:  \n",
    "1. Откройте файл в отдельным окне. После открытий вы можете открыть его во втором, то есть разделить экран на две части. Для этого потяните за открывшуюся вкладку и перетащите её, например, вправо.\n",
    "2. Название позиции лежит по ключу `name`. Посмотрите, как можно добраться до каждого названия"
   ]
  },
  {
   "cell_type": "code",
   "execution_count": null,
   "id": "cd93e716-3d70-4433-824e-bbc237e52ff2",
   "metadata": {},
   "outputs": [],
   "source": []
  },
  {
   "cell_type": "markdown",
   "id": "a154c6a4-22b3-4e3c-bd71-d09b3a0c3aee",
   "metadata": {},
   "source": [
    "### 4. movies\n",
    "Дан файл `movies.csv`.  \n",
    "Необходимо написать функцию `movies2dict`, которая читает файл и создаёт и возвращает словарь, где ключ -- название фильма, значение -- словарь, где ключи -- колонки `Genre` и `Year`, а значения -- соответствующие им значения.\n",
    "\n",
    "Пример выдачи:\n",
    "```\n",
    "{\"Zack and Miri Make a Porno\": \n",
    "    {\"Genre\": \"Romance\",\n",
    "    \"Year\": 2008},\n",
    " \"Youth in Revolt\": \n",
    "    {\"Genre\": \"Comedy\",\n",
    "    \"Year\": 2010},\n",
    "   ...\n",
    "}\n",
    "```"
   ]
  },
  {
   "cell_type": "code",
   "execution_count": null,
   "id": "dbbc4c79-40e8-4969-a114-2bb169673170",
   "metadata": {},
   "outputs": [],
   "source": []
  },
  {
   "cell_type": "markdown",
   "id": "eec89483-36ae-4b2b-b015-dc7052164088",
   "metadata": {},
   "source": [
    "### 5. movies 2.0\n",
    "Напишите функцию `most_recent`, которая принимает либо ключ `Genre`, либо `Year` и определяет наиболее популярный жанр или год выпуска в словаре, полученном с помощью `movie2dict`.\n",
    "\n",
    "Указание. Для определния моды наборы воспользуйтесь словарём:  \n",
    "1. Ключ -- жанр или год  \n",
    "2. Значение -- счетчик для этого жанра или года\n",
    "3. Затем возьмите массив пар ключ-значение с помощью метода `items` и определите моду с помощью функции `max` указав ей `key` для определния макимального элемента (иначе `max` будет искать максимум не так, как нам надо) "
   ]
  }
 ],
 "metadata": {
  "kernelspec": {
   "display_name": "hock",
   "language": "python",
   "name": "hock"
  },
  "language_info": {
   "codemirror_mode": {
    "name": "ipython",
    "version": 3
   },
   "file_extension": ".py",
   "mimetype": "text/x-python",
   "name": "python",
   "nbconvert_exporter": "python",
   "pygments_lexer": "ipython3",
   "version": "3.11.7"
  }
 },
 "nbformat": 4,
 "nbformat_minor": 5
}
