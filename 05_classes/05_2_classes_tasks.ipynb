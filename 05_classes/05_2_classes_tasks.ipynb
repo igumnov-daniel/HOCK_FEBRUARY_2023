{
 "cells": [
  {
   "cell_type": "markdown",
   "id": "758f5554-e03c-4f5c-be47-f74ddf5e4f17",
   "metadata": {},
   "source": [
    "# A."
   ]
  },
  {
   "cell_type": "markdown",
   "id": "6a221d42-08b7-4180-ae6c-2790e60d0c61",
   "metadata": {},
   "source": [
    "### 7.\n",
    "Ниже представлен конструктор класса `Item`.  \n",
    "Требования к классу просты: объект класса при инициализации должен принимать название предмета и его цену, сохранять эти значения в атрибут. А при строков представлении экземпляра класса, например печати, должно быть выведено название объекта, двуеточие, пробел, а затем цена объекта.  \n",
    "\n",
    "В конструкторе класса ниже была допущена ошибка.  В **новой ячейке** напишите корректную реализацию класса."
   ]
  },
  {
   "cell_type": "code",
   "execution_count": 4,
   "id": "49d3e73f-3c38-466e-acd2-97001bbacb1b",
   "metadata": {
    "tags": []
   },
   "outputs": [
    {
     "name": "stdout",
     "output_type": "stream",
     "text": [
      "MyItem: 42\n"
     ]
    }
   ],
   "source": [
    "# your code\n",
    "# initial code\n",
    "obj = Item('MyItem', 42)\n",
    "print(obj)\n"
   ]
  },
  {
   "cell_type": "markdown",
   "id": "3784bac3-2cfb-4201-ad7c-ae0399e1666e",
   "metadata": {},
   "source": [
    "### 8. (3 балла)\n",
    "Напишите класс `BankAccount`, который имеет всего 1 атрибут: _balance_ (текущая сумма на балансе).  \n",
    "Реализуйте методы:  \n",
    "- \\_\\_init\\_\\_ (при инициализации экземпляр класса может принмать целое число -- начальное значение баланса. Значение баланаса по-умолчанию равно 0.)\n",
    "- _take_ (метод принимает в качестве аргумента целое положительное число -- сколько денег должно быть списано с баланса. Если на балансе недостаточно средств или был введён некорректный аргумент, то метод возвращает False. Если снятие произведено успешно, то метод возвращает True);  \n",
    "- _add_ (метод принимает в качестве аргумента целое положительное число -- сколько денег внести на баланс. Если был введён некорректный аргумент, то метод должен возвращать False, иначе -- True);  \n",
    "- \\_\\_repr\\_\\_ (при строковом представлении экземпляр класса должен возвращать текущий баланс).\n"
   ]
  },
  {
   "cell_type": "code",
   "execution_count": null,
   "id": "c713d34a-43ca-46bc-af7a-91bd7cac475c",
   "metadata": {},
   "outputs": [],
   "source": []
  },
  {
   "cell_type": "code",
   "execution_count": 25,
   "id": "dcfafd92-c6fe-42a1-a992-b54e3ce542f5",
   "metadata": {
    "tags": []
   },
   "outputs": [
    {
     "name": "stdout",
     "output_type": "stream",
     "text": [
      "50\n",
      "1050\n"
     ]
    }
   ],
   "source": [
    "\n",
    "account = BankAccount()\n",
    "account2 = BankAccount(1000)\n",
    "\n",
    "account.add(100)\n",
    "account2.add(100)\n",
    "\n",
    "account.take(50)\n",
    "account2.take(50)\n",
    "\n",
    "print(account)\n",
    "print(account2)"
   ]
  },
  {
   "cell_type": "code",
   "execution_count": 26,
   "id": "770e224c-1002-4428-b970-70e7ed98bcd6",
   "metadata": {
    "tags": []
   },
   "outputs": [
    {
     "data": {
      "text/plain": [
       "False"
      ]
     },
     "execution_count": 26,
     "metadata": {},
     "output_type": "execute_result"
    }
   ],
   "source": [
    "account.add(-1)"
   ]
  },
  {
   "cell_type": "code",
   "execution_count": 27,
   "id": "a18d751e-d5a5-4814-a31c-64f7357cf2d0",
   "metadata": {
    "tags": []
   },
   "outputs": [
    {
     "data": {
      "text/plain": [
       "False"
      ]
     },
     "execution_count": 27,
     "metadata": {},
     "output_type": "execute_result"
    }
   ],
   "source": [
    "account.take(-1)"
   ]
  },
  {
   "cell_type": "code",
   "execution_count": 28,
   "id": "cc0b9651-bb7b-4805-b479-82bbc2ac6c3e",
   "metadata": {
    "tags": []
   },
   "outputs": [
    {
     "data": {
      "text/plain": [
       "False"
      ]
     },
     "execution_count": 28,
     "metadata": {},
     "output_type": "execute_result"
    }
   ],
   "source": [
    "account.take(1000000)"
   ]
  },
  {
   "cell_type": "code",
   "execution_count": 29,
   "id": "7c00e7ff-b3ea-46ad-b0a3-f1299768f7f1",
   "metadata": {
    "tags": []
   },
   "outputs": [
    {
     "name": "stdout",
     "output_type": "stream",
     "text": [
      "50\n"
     ]
    }
   ],
   "source": [
    "print(account)"
   ]
  },
  {
   "cell_type": "markdown",
   "id": "33a48f24-da22-4612-8017-a99621c151fc",
   "metadata": {},
   "source": [
    "# B."
   ]
  },
  {
   "cell_type": "markdown",
   "id": "c6c303db-b6a4-4e98-a00a-087e0217fbed",
   "metadata": {},
   "source": [
    "### 4."
   ]
  },
  {
   "cell_type": "markdown",
   "id": "c64bf08d-07c6-4882-8067-6604cbcc9310",
   "metadata": {},
   "source": [
    "Описание классовой структуры\n",
    "\n",
    "Есть Помидор со следующими характеристиками:\n",
    "\n",
    "    Индекс\n",
    "    Стадия зрелости(стадии: Отсутствует, Цветение, Зеленый, Красный)\n",
    "\n",
    "Помидор может:\n",
    "\n",
    "    Расти (переходить на следующую стадию созревания)\n",
    "    Предоставлять информацию о своей зрелости\n",
    "\n",
    "Есть Куст с помидорами, который:\n",
    "\n",
    "    Содержит список томатов, которые на нем растут\n",
    "\n",
    "И может:\n",
    "\n",
    "    Расти вместе с томатами\n",
    "    Предоставлять информацию о зрелости всех томатов\n",
    "    Предоставлять урожай"
   ]
  },
  {
   "cell_type": "markdown",
   "id": "5f72d6ad-865c-4fb3-a05f-c907641fa735",
   "metadata": {},
   "source": [
    "#### 4.1 (3 балла)\n",
    "\n",
    "Класс Tomato\n",
    "\n",
    "Создайте класс Tomato  \n",
    "* Создайте <a href='https://metanit.com/python/tutorial/7.6.php'>статический атрибут</a> states, который будет содержать все стадии созревания помидора (список);  \n",
    "* Создайте метод \\_\\_init\\_\\_(), внутри которого происходит созадние двух атрибутов: index (номер индекса текущего состояния из списка states), state (принимает первое значение из массива состояний зрелости states);  \n",
    "* Создайте метод grow(), который будет переводить томат на следующую стадию созревания. Если томат созрел, то стадия не повышается;  \n",
    "* Создайте метод is_ripe(), который будет проверять, что томат созрел (достиг последней стадии созревания).  \n",
    "\n",
    "\n",
    "PS. Пример со стат.атрибутом:  \n",
    "\n",
    "```\n",
    "class Dog:\n",
    "    default_name = 'Бобик' # создание статического атрибута\n",
    "    \n",
    "    def __init__(self, name='NONAME'):\n",
    "        if name == 'NONAME':\n",
    "            self.name = Dog.default_name # использование статического атрибута\n",
    "        else:\n",
    "            self.name = name\n",
    "```"
   ]
  },
  {
   "cell_type": "code",
   "execution_count": 9,
   "id": "e5378619-c0b4-4345-9197-60321a5b0d4b",
   "metadata": {
    "tags": []
   },
   "outputs": [],
   "source": []
  },
  {
   "cell_type": "code",
   "execution_count": 10,
   "id": "72a4a975-64eb-4651-9e1e-bc6392ded805",
   "metadata": {
    "tags": []
   },
   "outputs": [
    {
     "name": "stdout",
     "output_type": "stream",
     "text": [
      "0 Отсутствует False\n",
      "3 Красный True\n",
      "3 Красный True\n"
     ]
    }
   ],
   "source": [
    "t = Tomato()\n",
    "assert all([t.index == 0, t.state == 'Отсутствует', not t.is_ripe()])\n",
    "print(t.index, t.state, t.is_ripe())\n",
    "\n",
    "t.grow()\n",
    "t.grow()\n",
    "t.grow()\n",
    "\n",
    "assert all([t.index == 3, t.state == 'Красный', t.is_ripe()])\n",
    "print(t.index, t.state, t.is_ripe())\n",
    "\n",
    "t.grow()\n",
    "t.grow()\n",
    "t.grow()\n",
    "\n",
    "assert all([t.index == 3, t.state == 'Красный', t.is_ripe()])\n",
    "print(t.index, t.state, t.is_ripe())"
   ]
  },
  {
   "cell_type": "markdown",
   "id": "9726c26e-748b-45bf-8a0d-5dd587463cf1",
   "metadata": {},
   "source": [
    "#### 4.2 (3 балла)\n",
    "\n",
    "Класс TomatoBush\n",
    "\n",
    "Создайте класс TomatoBush  \n",
    "* Определите метод \\_\\_init\\_\\_(), который будет принимать в качестве параметра количество томатов и на его основе будет создавать список объектов класса Tomato. Данный список будет храниться внутри атрибута tomatoes;\n",
    "* Создайте метод grow_all(), который будет переводить все объекты из списка томатов на следующий этап созревания;  \n",
    "* Создайте метод all_are_ripe(), который будет возвращать True, если все томаты из списка стали спелыми;  \n",
    "* Создайте метод give_away_all(), который будет чистить список томатов после сбора урожая.  "
   ]
  },
  {
   "cell_type": "code",
   "execution_count": 11,
   "id": "b84ad2f0-1afd-4daa-ba11-5b310566d37d",
   "metadata": {
    "tags": []
   },
   "outputs": [],
   "source": []
  },
  {
   "cell_type": "code",
   "execution_count": 12,
   "id": "52976f8f-da5d-481e-9542-1d68d2c67ccc",
   "metadata": {
    "tags": []
   },
   "outputs": [],
   "source": [
    "tb = TomatoBush(3)\n",
    "\n",
    "assert len(tb.tomatoes) == 3\n",
    "assert not tb.all_are_ripe()\n",
    "\n",
    "tb.grow_all()\n",
    "assert not tb.all_are_ripe()\n",
    "\n",
    "tb.grow_all()\n",
    "assert not tb.all_are_ripe()\n",
    "\n",
    "tb.grow_all()\n",
    "assert tb.all_are_ripe()\n",
    "tb.give_away_all()\n",
    "\n",
    "assert len(tb.tomatoes) == 0"
   ]
  },
  {
   "cell_type": "markdown",
   "id": "5ec84de7-a7e3-4383-8b68-e3a67a868984",
   "metadata": {},
   "source": [
    "# C."
   ]
  },
  {
   "cell_type": "markdown",
   "id": "46a721b0-7770-4989-96f4-8f48e027ed86",
   "metadata": {},
   "source": [
    "### 4."
   ]
  },
  {
   "cell_type": "markdown",
   "id": "6023692e-c8ac-4a57-9533-5b207ec3d27d",
   "metadata": {},
   "source": [
    "#### 4.1 (2 балла)\n",
    "Создайте конструктор класса `Vehicle`, который при создании принимает три аргумента: наименование (строка), максимальная скорость (целое число), пробег (целое число) -- значения которых сохраняются в атрибуты `name`, `max_speed` и `mileage` соответственно.\n",
    "\n",
    "Реализуйте метод `__repr__` для выведения информации об экземпляре класса в произвольном формате."
   ]
  },
  {
   "cell_type": "code",
   "execution_count": 10,
   "id": "96da6e9b-1504-4afc-b5cb-1a4ac660495e",
   "metadata": {
    "tags": []
   },
   "outputs": [],
   "source": []
  },
  {
   "cell_type": "code",
   "execution_count": 11,
   "id": "857f6901-f207-4704-90ca-b4df66e63158",
   "metadata": {
    "tags": []
   },
   "outputs": [
    {
     "name": "stdout",
     "output_type": "stream",
     "text": [
      "vvv\n",
      "Max speed=100, Mileage=10\n"
     ]
    }
   ],
   "source": [
    "v = Vehicle('vvv', 100, 10)\n",
    "assert all([v.name == 'vvv', v.max_speed == 100, v.mileage == 10])\n",
    "print(v)"
   ]
  },
  {
   "cell_type": "markdown",
   "id": "1fdc8e06-d426-4790-a26d-b47e7f777b8a",
   "metadata": {},
   "source": [
    "#### 4.2 (3 балла)\n",
    "Создайте конструктор класса `Bus`, который является наследником класса `Vehicle`.\n",
    "При инициализации экземпляры класса принимают один дополнительный агумент -- максимальное число пассажиров. Сохраните его в атрибут `capacity`. А также создайте атрибут `passengers_num`, который изначально равен нулю.\n",
    "\n",
    "Класса `Bus` должен повторять инициализацию класса `Vehicle`, например через <a href='https://www.programiz.com/python-programming/methods/built-in/super'>super()</a>, а затем дополнять её созданием новых атрибутов.  \n",
    "*(Если этот пункт непонятен, то реализуйте так, как понятно.)\n",
    "\n",
    "Реализуйте метод `add_passengers`, который принимает целое число пассажиров, которые садятся в автобус. Значение атрибута `passengers_num` должно изменяться соответствующим образом.  \n",
    "В обществе царит солидарность, поэтому, если места для всех новых пассажиров недостаточно, то никто из них не будет садиться. Например, если осталось 5 мест, а хотят зайти 10 человек, то никто не садится. И 5 свободных мест так и остаётся.\n",
    "\n",
    "Реализуйте метод `delete_passengers`, который принимает целое число пассажиров, которые выходят из автобуа. Значение атрибута `passengers_num` должно изменяться соответствующим образом.  \n",
    "Если введено число большее, чем количество пассажиров, то никто не выходит.\n",
    "\n"
   ]
  },
  {
   "cell_type": "code",
   "execution_count": 12,
   "id": "cd000676-b277-4932-8767-fd2e0409aef0",
   "metadata": {
    "tags": []
   },
   "outputs": [],
   "source": []
  },
  {
   "cell_type": "code",
   "execution_count": 13,
   "id": "ec806134-09e1-4ab4-ae53-3b308c452ae0",
   "metadata": {
    "tags": []
   },
   "outputs": [],
   "source": [
    "v = Bus('vvv', 100, 10, 20)\n",
    "assert all([v.name == 'vvv', v.max_speed == 100, v.mileage == 10, v.capacity==20])"
   ]
  },
  {
   "cell_type": "code",
   "execution_count": 14,
   "id": "72e4cd4d-62a1-4233-9fa0-b8b38567ef5e",
   "metadata": {
    "tags": []
   },
   "outputs": [],
   "source": [
    "v.add_passengers(10)\n",
    "assert v.passengers_num == 10\n",
    "v.add_passengers(15)\n",
    "assert v.passengers_num == 10\n",
    "v.add_passengers(10)\n",
    "assert v.passengers_num == 20\n",
    "v.delete_passengers(19)\n",
    "assert v.passengers_num == 1\n",
    "v.delete_passengers(2)\n",
    "assert v.passengers_num == 1\n",
    "v.delete_passengers(1)\n",
    "assert v.passengers_num == 0\n",
    "v.delete_passengers(1)\n",
    "assert v.passengers_num == 0"
   ]
  },
  {
   "cell_type": "markdown",
   "id": "8e658809-f396-479c-ac55-54e1da089255",
   "metadata": {},
   "source": [
    "# D."
   ]
  },
  {
   "cell_type": "markdown",
   "id": "58785c02-63d3-41f2-bfb7-e4e904fdd587",
   "metadata": {},
   "source": [
    "### 3.4 (1.5 балла)\n",
    "Реализуйте метод `discount`, который принимает размер скидки (число процентов). Соотвутствующая скидка применяется к стоимости квартиры. Значения атрибутов, зависящих от стоимости, также пересчитываются.  \n",
    "Стоимость квартиры округлять до 2 знаков после запятой. Всех остальных атрибутов -- до 1 знака.\n",
    "\n",
    "Скидка не может быть больше 100. Если введено недопустимое число, то метод должен возвращать булевое `False`."
   ]
  },
  {
   "cell_type": "code",
   "execution_count": 62,
   "id": "04678619-f28e-441a-865f-fb3500ee25cd",
   "metadata": {
    "tags": []
   },
   "outputs": [],
   "source": []
  },
  {
   "cell_type": "code",
   "execution_count": 64,
   "id": "2616f03c-583e-44b8-96b2-68817e273fe5",
   "metadata": {
    "tags": []
   },
   "outputs": [],
   "source": [
    "f = Flat(9.5, 99.55, 2)\n",
    "assert all([f.area == 9.5, f.price == 99.55, f.rooms == 2, f.meanRoomArea == 4.8, f.meter_price == 10.5]) \n",
    "f.discount(0)\n",
    "assert all([f.area == 9.5, f.price == 99.55, f.rooms == 2, f.meanRoomArea == 4.8, f.meter_price == 10.5]) \n",
    "f.discount(50)\n",
    "assert all([f.area == 9.5, f.price ==  49.77, f.rooms == 2, f.meanRoomArea == 4.8, f.meter_price == 5.2]) \n",
    "assert f.discount(101) is False"
   ]
  },
  {
   "cell_type": "markdown",
   "id": "73040efe-f3b3-48e6-adce-197d103e1689",
   "metadata": {},
   "source": [
    "# E."
   ]
  },
  {
   "cell_type": "markdown",
   "id": "306c938b-5825-4f70-aa2b-c43bd1a75595",
   "metadata": {},
   "source": [
    "### 7. (3 балла)\n",
    "\n",
    "Создайте конструктор класса Loaner, экземпляры класса которого при создании принимают:  \n",
    "- имя заёмщника;  \n",
    "- размер кредита;  \n",
    "- процентная ставка (месячная);  \n",
    "- продолжительность кредитования (в месяцах).\n",
    "\n",
    "Принимаемые значение должны сохраняться в атрибуты.\n",
    "\n",
    "Реализуйте методы:  \n",
    "1. `calculate_payment` (определяет и возвращает сумму аннуитетного платежа по кредиту, округлённую до ближайшего целого числа вниз);  \n",
    "2. `calculate_payments_total` (определяет и возвращает сумму выплат по кредиту);  \n",
    "3. `calculate_overpayment` (определяет и возвращает сумму переплат);\n",
    "4. `__repr__` (строкове представление экземпляра класса в произвольном формате)"
   ]
  },
  {
   "cell_type": "code",
   "execution_count": 15,
   "id": "250fe4b7-8569-4b93-b35a-98c8170bf887",
   "metadata": {
    "tags": []
   },
   "outputs": [],
   "source": []
  },
  {
   "cell_type": "code",
   "execution_count": 16,
   "id": "8dd1003e-334e-4b84-8c2e-559281532e40",
   "metadata": {
    "tags": []
   },
   "outputs": [
    {
     "name": "stdout",
     "output_type": "stream",
     "text": [
      "5287\n",
      "126888\n",
      "Loaner: Bob, S: 100000, r: 2, n: 24\n",
      "Payment: 5287; Total payment: 126888\n",
      "Overpay: 26888\n",
      "       \n"
     ]
    }
   ],
   "source": [
    "bob = Loaner('Bob', 100_000, 2, 24)\n",
    "print(bob.calculate_payment())\n",
    "print(bob.calculate_payments_total())\n",
    "print(bob)"
   ]
  },
  {
   "cell_type": "markdown",
   "id": "0c8e588a-3ccc-4198-81cd-4c08c2d6d535",
   "metadata": {},
   "source": [
    "### 8.\n",
    "Модифициуйте класс из предыдущей задачи таким образом, чтобы метода \"`calculate_...`\" не считали значения каждый раз, а как-то сохраняли его. И чтобы при повторном вызове метода возвращалось ранее посчитанное значение, а не считалось заново."
   ]
  },
  {
   "cell_type": "code",
   "execution_count": 20,
   "id": "91e83c73-f2b9-45c4-96cb-4600a465aab6",
   "metadata": {
    "tags": []
   },
   "outputs": [
    {
     "name": "stdout",
     "output_type": "stream",
     "text": [
      "0\n",
      "0\n",
      "Loaner: Bob, S: 100000, r: 2, n: 24\n"
     ]
    }
   ],
   "source": [
    "bob = Loaner('Bob', 100_000, 2, 24)\n",
    "print(bob.calculate_payment())\n",
    "print(bob.calculate_payments_total())\n",
    "print(bob)"
   ]
  }
 ],
 "metadata": {
  "kernelspec": {
   "display_name": "Python 3 (ipykernel)",
   "language": "python",
   "name": "python3"
  },
  "language_info": {
   "codemirror_mode": {
    "name": "ipython",
    "version": 3
   },
   "file_extension": ".py",
   "mimetype": "text/x-python",
   "name": "python",
   "nbconvert_exporter": "python",
   "pygments_lexer": "ipython3",
   "version": "3.10.12"
  }
 },
 "nbformat": 4,
 "nbformat_minor": 5
}
