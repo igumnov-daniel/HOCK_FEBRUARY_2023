{
 "cells": [
  {
   "cell_type": "markdown",
   "id": "36c782aa-3051-48ef-b16b-469d3d38af07",
   "metadata": {},
   "source": [
    "# Задачи из вариантов экзамена"
   ]
  },
  {
   "cell_type": "markdown",
   "id": "c8cb67b5-8347-481a-ba6e-4ed7984cf7a1",
   "metadata": {},
   "source": [
    "## A."
   ]
  },
  {
   "cell_type": "markdown",
   "id": "d84895b5-bfe3-4f70-a161-927936441f00",
   "metadata": {},
   "source": [
    "### 1. \n",
    "Напишите функцию `MApred`, которая принимает в качестве аргументов список из float-чисел с информацией о том, сколько газа было прокачано через некоторый пункт (в кубометрах).  \n",
    "\n",
    "В списке может быть любое количество чисел от 7 и до плюс бесконечности.\n",
    "\n",
    "Функция должна возвращать предсказание о том, сколько газа будет прокачано завтра. \n",
    "\n",
    "**Реализуйте наивный предсказатель, который в качестве предсказания просто возвращает среднее за последние 7 дней.**\n"
   ]
  },
  {
   "cell_type": "code",
   "execution_count": 1,
   "id": "1fb21780-07ec-4e55-bfdf-8d8597cdfc7c",
   "metadata": {
    "tags": []
   },
   "outputs": [],
   "source": [
    "# ваш код"
   ]
  },
  {
   "cell_type": "code",
   "execution_count": 2,
   "id": "bedb17fb-49de-4ef8-8620-1a748a65bd50",
   "metadata": {
    "tags": []
   },
   "outputs": [],
   "source": [
    "assert MApred([10] * 10) == 10"
   ]
  },
  {
   "cell_type": "code",
   "execution_count": 3,
   "id": "1e9ba689-1b5b-4b55-8787-29c88d98e512",
   "metadata": {
    "tags": []
   },
   "outputs": [],
   "source": [
    "assert MApred(list(range(100, 200, 7))) == 177"
   ]
  },
  {
   "cell_type": "code",
   "execution_count": 4,
   "id": "5e5a3392-e95a-42a0-900b-cb16ede6c3a9",
   "metadata": {
    "tags": []
   },
   "outputs": [],
   "source": [
    "assert MApred([30.97, 33.3 , 35.63, \n",
    "               37.96, 40.29, 42.62, \n",
    "               44.95, 47.28, 49.61]) == 42.62"
   ]
  },
  {
   "cell_type": "markdown",
   "id": "8abef1ab-a87c-44ee-945b-84fcf1143d10",
   "metadata": {},
   "source": [
    "## B."
   ]
  },
  {
   "cell_type": "markdown",
   "id": "8adffd7a-6ac6-4aa6-ba2c-39c22d9deb7a",
   "metadata": {},
   "source": [
    "### 1. (1.5 балла)\n",
    "Таможенный сбор — это плата за обработку документов. Рассчитывается на основе цены авто, указанной в таможенной декларации (не путать с пошлиной).  \n",
    "Размер сбора в зависимости от стоимости автомобиля представлен в таблице ниже."
   ]
  },
  {
   "cell_type": "markdown",
   "id": "9947942b-fe0b-40f2-817c-927120cd33c0",
   "metadata": {},
   "source": [
    "<table style=\"width:50%;\"><caption>&nbsp;</caption>\n",
    "<tbody>\n",
    "<tr>\n",
    "<td style=\"text-align:center; width:51.1077%;\">\n",
    "<p><strong>Стоимость автомобиля, руб.</strong></p>\n",
    "</td>\n",
    "<td style=\"text-align:center; width:48.3575%;\">\n",
    "<p><strong>Таможенный сбор, руб.</strong></p>\n",
    "</td>\n",
    "</tr>\n",
    "<tr>\n",
    "<td style=\"width:51.1077%;\">\n",
    "<p><span style=\"font-weight:400;\">До 200 000</span></p>\n",
    "</td>\n",
    "<td style=\"width:48.3575%;\">\n",
    "<p><span style=\"font-weight:400;\">775</span></p>\n",
    "</td>\n",
    "</tr>\n",
    "<tr>\n",
    "<td style=\"width:51.1077%;\">\n",
    "<p><span style=\"font-weight:400;\">До 450 000</span></p>\n",
    "</td>\n",
    "<td style=\"width:48.3575%;\">\n",
    "<p><span style=\"font-weight:400;\">1550</span></p>\n",
    "</td>\n",
    "</tr>\n",
    "<tr>\n",
    "<td style=\"width:51.1077%;\">\n",
    "<p><span style=\"font-weight:400;\">До 1 200 000</span></p>\n",
    "</td>\n",
    "<td style=\"width:48.3575%;\">\n",
    "<p><span style=\"font-weight:400;\">3100</span></p>\n",
    "</td>\n",
    "</tr>\n",
    "<tr>\n",
    "<td style=\"width:51.1077%;\">\n",
    "<p><span style=\"font-weight:400;\">До 2 700 000</span></p>\n",
    "</td>\n",
    "<td style=\"width:48.3575%;\">\n",
    "<p><span style=\"font-weight:400;\">8530</span></p>\n",
    "</td>\n",
    "</tr>\n",
    "<tr>\n",
    "<td style=\"width:51.1077%;\">\n",
    "<p><span style=\"font-weight:400;\">До 4 200 000</span></p>\n",
    "</td>\n",
    "<td style=\"width:48.3575%;\">\n",
    "<p><span style=\"font-weight:400;\">12 000</span></p>\n",
    "</td>\n",
    "</tr>\n",
    "<tr>\n",
    "<td style=\"width:51.1077%;\">\n",
    "<p><span style=\"font-weight:400;\">До 5 500 000</span></p>\n",
    "</td>\n",
    "<td style=\"width:48.3575%;\">\n",
    "<p><span style=\"font-weight:400;\">15 500</span></p>\n",
    "</td>\n",
    "    </tr>\n",
    "<tr>\n",
    "<td style=\"width:51.1077%;\">\n",
    "<p><span style=\"font-weight:400;\">От 5 500 000</span></p>\n",
    "</td>\n",
    "<td style=\"width:48.3575%;\">\n",
    "<p><span style=\"font-weight:400;\">20 000</span></p>\n",
    "</td>\n",
    "    </tr>\n",
    "</tbody>\n",
    "</table>"
   ]
  },
  {
   "cell_type": "markdown",
   "id": "031bf94e-013a-421a-8c4e-e9924c96a3d7",
   "metadata": {},
   "source": [
    "Напишите функцию `customsDuty`, которая принимаем стоимость автомобиля и возвращает размер таможенного сбора в сооветствии с табличным значением.  \n",
    "В случае ввода неположительного значения функция должна возвращать строку \"ОШИБКА\"."
   ]
  },
  {
   "cell_type": "code",
   "execution_count": 2,
   "id": "d2342376-1ad6-479b-84d6-69ed693b31a7",
   "metadata": {},
   "outputs": [],
   "source": [
    "# ваш код\n"
   ]
  },
  {
   "cell_type": "code",
   "execution_count": 2,
   "id": "cbf38a7a-4821-4dd9-bee3-49c9ddd716fb",
   "metadata": {
    "tags": []
   },
   "outputs": [],
   "source": [
    "# проверка\n",
    "assert all([customsDuty(100_000) == 775, customsDuty(200_000) == 1550,\n",
    "           customsDuty(250_000) == 1550, customsDuty(450_000) == 3100,\n",
    "           customsDuty(1e10) == 20_000,\n",
    "           customsDuty(0) == 'ОШИБКА', customsDuty(-1) == 'ОШИБКА'])"
   ]
  },
  {
   "cell_type": "markdown",
   "id": "831263aa-9d95-49d2-bd3d-3adaf18dd6d4",
   "metadata": {},
   "source": [
    "### 2."
   ]
  },
  {
   "cell_type": "markdown",
   "id": "31b0f8d8-c533-4fc4-841e-19cd32a79044",
   "metadata": {},
   "source": [
    "Обязательный к уплате косвенный налог (акциз). При его расчете за основу берется количество «лошадей» под капотом. Чем их больше, тем дороже обойдется каждая.  \n",
    "Размер акциза за 1 лошадиную силу в зависимости от мощности двигателя представлен в таблице ниже."
   ]
  },
  {
   "cell_type": "markdown",
   "id": "759bdff6-69c4-4d79-884f-6bba6280ff6c",
   "metadata": {},
   "source": [
    "<table style=\"width:50%;\"><caption>&nbsp;</caption>\n",
    "<tbody>\n",
    "<tr>\n",
    "<td style=\"text-align:center;\">\n",
    "<p><strong>Мощность двигателя (в лошадиных силах)</strong></p>\n",
    "</td>\n",
    "<td style=\"text-align:center;\">\n",
    "<p><strong>Ставка акциза за 1 лошадиную силу, руб.</strong></p>\n",
    "</td>\n",
    "</tr>\n",
    "<tr>\n",
    "<td>\n",
    "<p><span style=\"font-weight:400;\">До 90</span></p>\n",
    "</td>\n",
    "<td>\n",
    "<p><span style=\"font-weight:400;\">0</span></p>\n",
    "</td>\n",
    "</tr>\n",
    "<tr>\n",
    "<td>\n",
    "<p><span style=\"font-weight:400;\">91-150</span></p>\n",
    "</td>\n",
    "<td>\n",
    "<p><span style=\"font-weight:400;\">51</span></p>\n",
    "</td>\n",
    "</tr>\n",
    "<tr>\n",
    "<td>\n",
    "<p><span style=\"font-weight:400;\">151-200</span></p>\n",
    "</td>\n",
    "<td>\n",
    "<p><span style=\"font-weight:400;\">491</span></p>\n",
    "</td>\n",
    "</tr>\n",
    "<tr>\n",
    "<td>\n",
    "<p><span style=\"font-weight:400;\">201-300</span></p>\n",
    "</td>\n",
    "<td>\n",
    "<p><span style=\"font-weight:400;\">804</span></p>\n",
    "</td>\n",
    "</tr>\n",
    "<tr>\n",
    "<td>\n",
    "<p><span style=\"font-weight:400;\">От 301</span></p>\n",
    "</td>\n",
    "<td>\n",
    "<p><span style=\"font-weight:400;\">1370</span></p>\n",
    "</td>\n",
    "</tr>\n",
    "</tbody>\n",
    "</table>"
   ]
  },
  {
   "cell_type": "markdown",
   "id": "67f45e78-2c5f-44b9-9b99-d6d38e49bb5b",
   "metadata": {},
   "source": [
    "#### 2.1 (1 балл)"
   ]
  },
  {
   "cell_type": "markdown",
   "id": "b7c846c6-1de4-45b0-973d-0e2acf3fa6d9",
   "metadata": {},
   "source": [
    "Напишите функцию `hpExciseRate`, которая принимает в качестве аргумента мощность двигателя (целое число) и возвращает ставку акциза за 1 лошадиную силу.  \n",
    "В случае ввода неположительного значения функция должна возвращать строку \"ОШИБКА\"."
   ]
  },
  {
   "cell_type": "code",
   "execution_count": 3,
   "id": "3350012b-5557-4c38-8aba-af217f6afd40",
   "metadata": {
    "tags": []
   },
   "outputs": [],
   "source": [
    "# ваш код\n"
   ]
  },
  {
   "cell_type": "code",
   "execution_count": 4,
   "id": "5f1ed4af-3d92-4298-afc8-d0c2adbf2788",
   "metadata": {
    "tags": []
   },
   "outputs": [],
   "source": [
    "assert all([\n",
    "    hpExciseRate(0) == 'ОШИБКА',\n",
    "    hpExciseRate(-1) == 'ОШИБКА',\n",
    "    hpExciseRate(10) == 0,\n",
    "    hpExciseRate(90) == 51,\n",
    "    hpExciseRate(130) == 51,\n",
    "    hpExciseRate(250) == 804,\n",
    "    hpExciseRate(1000) == 1370,\n",
    "])"
   ]
  },
  {
   "cell_type": "markdown",
   "id": "38a4094f-9350-4118-9dcf-cfa1dc34f67c",
   "metadata": {},
   "source": [
    "#### 2.2 (1 балл)\n",
    "Напишите функцию `hpExcise`, которая  принимает мощность двигателя и, используя фунцкию `hpExciseRate` для получения ставки акциза, считает размер акциза для автомобиля. То есть не возвращает ставку акциза, а возвращает итоговую сумму, сколько нужно заплатить.  \n",
    "В случае ввода неположительного значения функция должна возвращать строку \"ОШИБКА\"."
   ]
  },
  {
   "cell_type": "code",
   "execution_count": 4,
   "id": "843dec00-41b6-407e-b0fd-c6522fa3db6a",
   "metadata": {
    "tags": []
   },
   "outputs": [],
   "source": [
    "# ваш код\n"
   ]
  },
  {
   "cell_type": "code",
   "execution_count": 6,
   "id": "6ad23241-5003-443a-8129-75c4b65a8d33",
   "metadata": {
    "tags": []
   },
   "outputs": [],
   "source": [
    "assert all([\n",
    "    hpExcise(0) == 'ОШИБКА',\n",
    "    hpExcise(-1) == 'ОШИБКА',\n",
    "    hpExcise(50) == 0,\n",
    "    hpExcise(90) == 4590,\n",
    "    hpExcise(100) == 5100,\n",
    "    hpExcise(200) == 160800,\n",
    "    hpExcise(300) == 411000,\n",
    "    hpExcise(500) == 685000,\n",
    "])"
   ]
  },
  {
   "cell_type": "markdown",
   "id": "c3bfef98-a2e9-40d1-b7ca-3f0f753058c1",
   "metadata": {},
   "source": [
    "### 3.\n",
    "Вова и Дима решили определить, кто круче. Решать они это буду по-мужски, то есть играя в \"Камень, ножницы, бумага\"."
   ]
  },
  {
   "cell_type": "markdown",
   "id": "391a3c9e-1227-40b0-ab2f-a869c5d51679",
   "metadata": {},
   "source": [
    "#### 3.1 (1 балл)\n",
    "Напишите функцию `RPS`, которая принимает в качестве аргумента две строки: фигура, показанная первым и вторым игроками соответственно. Например `RPS('камень', 'ножницы')`.\n",
    "\n",
    "Аргументы передаются строго в нижнем регистре, без пробелов, на кирилице. Возможно три значения: камень, ножницы, бумага.\n",
    "\n",
    "Функция должна возвращать строку \"P1\", если побеждает первый игрок, и \"P2\", если побеждает второй (латинская 'P').  \n",
    "В случае ничьей возвращается 'D'.\n",
    "\n",
    "*<a href='https://ru.wikipedia.org/wiki/%D0%9A%D0%B0%D0%BC%D0%B5%D0%BD%D1%8C,_%D0%BD%D0%BE%D0%B6%D0%BD%D0%B8%D1%86%D1%8B,_%D0%B1%D1%83%D0%BC%D0%B0%D0%B3%D0%B0'>правила игры</a> для тех, кто в танке"
   ]
  },
  {
   "cell_type": "code",
   "execution_count": 5,
   "id": "1245bb54-fc2a-4fe5-9189-54b2dda50bb2",
   "metadata": {
    "tags": []
   },
   "outputs": [],
   "source": [
    "# ваш код\n"
   ]
  },
  {
   "cell_type": "code",
   "execution_count": 3,
   "id": "460c5570-05c4-4e36-b8f2-a640d6d1bb6f",
   "metadata": {
    "tags": []
   },
   "outputs": [],
   "source": [
    "assert all([\n",
    "    RPS('камень', 'камень') == 'D',\n",
    "    RPS('ножницы', 'ножницы') == 'D',\n",
    "    RPS('бумага', 'бумага') == 'D',\n",
    "    RPS('камень', 'ножницы') == 'P1',\n",
    "    RPS('ножницы', 'камень') == 'P2',\n",
    "    RPS('камень', 'бумага') == 'P2',\n",
    "    RPS('бумага', 'камень') == 'P1',\n",
    "    RPS('бумага', 'ножницы') == 'P2',\n",
    "    RPS('ножницы', 'бумага') == 'P1',\n",
    "])"
   ]
  },
  {
   "cell_type": "markdown",
   "id": "5b258111-f99e-43ad-8cb2-82d266499613",
   "metadata": {},
   "source": [
    "## C."
   ]
  },
  {
   "cell_type": "markdown",
   "id": "4e84fd13-039d-4c90-af83-73f988dbd81d",
   "metadata": {},
   "source": [
    "### 1.1 (1 балл)\n",
    "В некоторой стране ввели налог на воздух, сумма которого вычисляется по следующей формуле \n",
    "$$ T = V_{см^3} * k + base $$\n",
    ",\n",
    "где $T$ -- размер налога, $V$ -- суммарный объём вдохнутоо воздуха, $k$ -- некоторый коэффициент, $base$ -- базовая надбавка.\n",
    "\n",
    "> Реализуйте функцию `breath_tax`, которая принимает в качестве аргументов объём вдохнутого воздуха и значения для $k$ и $base$ и возвращает сумму налога. Возвращаемое значение округлить до 2 знаков после запятой."
   ]
  },
  {
   "cell_type": "code",
   "execution_count": 6,
   "id": "37a6b73d-e384-406f-8119-2a7f4996fe0b",
   "metadata": {
    "tags": []
   },
   "outputs": [],
   "source": [
    "# ваш код\n"
   ]
  },
  {
   "cell_type": "code",
   "execution_count": 9,
   "id": "25dc24a2-15c0-408b-81a3-7c6d14e5fb93",
   "metadata": {
    "tags": []
   },
   "outputs": [
    {
     "data": {
      "text/plain": [
       "4941.18"
      ]
     },
     "execution_count": 9,
     "metadata": {},
     "output_type": "execute_result"
    }
   ],
   "source": [
    "breath_tax(3333, 1.475, 25)"
   ]
  },
  {
   "cell_type": "code",
   "execution_count": 10,
   "id": "37a74bfa-5696-4640-ba3b-d3954785ff0d",
   "metadata": {
    "tags": []
   },
   "outputs": [],
   "source": [
    "assert breath_tax(3333, 1.475, 25) == 4941.18"
   ]
  },
  {
   "cell_type": "markdown",
   "id": "61ed3107-373f-4796-86ee-131aa326a6ff",
   "metadata": {},
   "source": [
    "### 1.2 (1 балл)  \n",
    "\n",
    "Сделайте $k$ и $base$ keyword аргументами со значениями по-умолчанию 1.5 и 100 соответственно."
   ]
  },
  {
   "cell_type": "code",
   "execution_count": 7,
   "id": "03f58f86-967e-4008-a816-9750fafecd4f",
   "metadata": {
    "tags": []
   },
   "outputs": [],
   "source": [
    "# ваш код\n"
   ]
  },
  {
   "cell_type": "code",
   "execution_count": 8,
   "id": "2baceb4a-127e-4972-9e16-6e040575e759",
   "metadata": {
    "tags": []
   },
   "outputs": [],
   "source": [
    "# ваш код\n"
   ]
  },
  {
   "cell_type": "code",
   "execution_count": 13,
   "id": "8bda2723-6c6c-4482-87e5-ca0b41d766b9",
   "metadata": {
    "tags": []
   },
   "outputs": [],
   "source": [
    "assert breath_tax(3333) == 5099.5"
   ]
  },
  {
   "cell_type": "markdown",
   "id": "ab1b3d3b-9deb-498c-85eb-d7f172d407aa",
   "metadata": {},
   "source": [
    "### 3.  \n",
    "Сумма платежа по кредиту с аннуитетный способом погашения вычисляется по следующей формуле:  \n",
    "<center><img src='https://credistory.ru/blog/images/raschet-annuitetnogo-platezha.jpg'/></center>"
   ]
  },
  {
   "cell_type": "markdown",
   "id": "b3d695bf-8e42-4609-9c5b-89af6587aea8",
   "metadata": {},
   "source": [
    "Напишите программу, которая принимает сумму кредиты, процентную ставку (r%), количество месяцев, на которое берется кредит, и выводит сумму ежемесячного платежа.\n",
    "\n",
    "Ввод:  \n",
    "Три числа на трёх строках:\n",
    "- сумма кредита (целое число у.е.);    \n",
    "- месячная процентная ставка (в процентах, а не долях единицы. Т.е. для кредита под 24% годовых для r будет введено 2, а не 0.02);  \n",
    "- n (целое число месяцев).  \n",
    "\n",
    "Вывод:  \n",
    "Платёж по кредиту округлённый до ближайшего целого числа **вниз**."
   ]
  },
  {
   "cell_type": "code",
   "execution_count": 4,
   "id": "f40ce9e7-6aa9-4ac9-a979-47f094654cda",
   "metadata": {
    "execution": {
     "iopub.execute_input": "2023-04-13T10:54:51.158125Z",
     "iopub.status.busy": "2023-04-13T10:54:51.158125Z",
     "iopub.status.idle": "2023-04-13T10:54:54.239396Z",
     "shell.execute_reply": "2023-04-13T10:54:54.239396Z",
     "shell.execute_reply.started": "2023-04-13T10:54:51.158125Z"
    },
    "tags": []
   },
   "outputs": [
    {
     "name": "stdin",
     "output_type": "stream",
     "text": [
      "S:  100000\n",
      "r:  2\n",
      "n:  24\n"
     ]
    },
    {
     "name": "stdout",
     "output_type": "stream",
     "text": [
      "5287\n"
     ]
    }
   ],
   "source": [
    "# ваш код\n"
   ]
  },
  {
   "cell_type": "markdown",
   "id": "ff83aa1d-b839-431b-9bf0-a78817a12a7b",
   "metadata": {},
   "source": [
    "### 4.  \n",
    "Соберите Ваше решение предыдущей задачи в функцию, которая принимает **S**, **r**, **n** в качестве аргументов.  \n",
    "\n",
    "- Используйте говорящее название для функции;  \n",
    "- используйте осмысленные названия локальных переменных функции;  \n",
    "- функция должна **возвращать** значение платежа, а не печатать его."
   ]
  },
  {
   "cell_type": "code",
   "execution_count": 5,
   "id": "36adce0a-77e9-4063-baac-90ba05e65f9f",
   "metadata": {
    "execution": {
     "iopub.execute_input": "2023-04-13T10:54:58.486042Z",
     "iopub.status.busy": "2023-04-13T10:54:58.486042Z",
     "iopub.status.idle": "2023-04-13T10:54:58.501704Z",
     "shell.execute_reply": "2023-04-13T10:54:58.501704Z",
     "shell.execute_reply.started": "2023-04-13T10:54:58.486042Z"
    },
    "tags": []
   },
   "outputs": [
    {
     "name": "stdout",
     "output_type": "stream",
     "text": [
      "5287\n"
     ]
    }
   ],
   "source": [
    "# ваш код\n"
   ]
  },
  {
   "cell_type": "markdown",
   "id": "8db9a89d-1535-4022-9260-1f8535503ad5",
   "metadata": {},
   "source": [
    "### 5. \n",
    "Напишите функцию, которая принимает сумму кредита, процентную ставку, целое число месяцев, на которое берётся кредит, и печатает (выводит на экран) информационное сообщение следующего типа:  \n",
    "```\n",
    "Сумма кредита: S\n",
    "Сумма выплат: XXX\n",
    "Переплата:  YYY\n",
    "Переплата (%): ZZZ\n",
    "```\n",
    "\n",
    "Т.е. внутри функции надо определить сумму выплат, сумму переплаты и значение переплаты в % от исходной суммы кредита.\n",
    "\n",
    "Указание:  \n",
    "Функция должна использовать функцию из задания 4."
   ]
  },
  {
   "cell_type": "code",
   "execution_count": 7,
   "id": "8e5b9142-ebcc-44b8-982a-fbc6d62ed92d",
   "metadata": {
    "execution": {
     "iopub.execute_input": "2023-04-13T10:57:43.966160Z",
     "iopub.status.busy": "2023-04-13T10:57:43.966160Z",
     "iopub.status.idle": "2023-04-13T10:57:43.981839Z",
     "shell.execute_reply": "2023-04-13T10:57:43.981839Z",
     "shell.execute_reply.started": "2023-04-13T10:57:43.966160Z"
    },
    "tags": []
   },
   "outputs": [
    {
     "name": "stdout",
     "output_type": "stream",
     "text": [
      "Сумма кредита: 100000\n",
      "Сумма выплат: 126888\n",
      "Переплата: 26888\n",
      "Переплата (%): 26.888\n"
     ]
    }
   ],
   "source": [
    "# ваш код\n"
   ]
  }
 ],
 "metadata": {
  "kernelspec": {
   "display_name": "hock",
   "language": "python",
   "name": "hock"
  },
  "language_info": {
   "codemirror_mode": {
    "name": "ipython",
    "version": 3
   },
   "file_extension": ".py",
   "mimetype": "text/x-python",
   "name": "python",
   "nbconvert_exporter": "python",
   "pygments_lexer": "ipython3",
   "version": "3.11.7"
  }
 },
 "nbformat": 4,
 "nbformat_minor": 5
}
