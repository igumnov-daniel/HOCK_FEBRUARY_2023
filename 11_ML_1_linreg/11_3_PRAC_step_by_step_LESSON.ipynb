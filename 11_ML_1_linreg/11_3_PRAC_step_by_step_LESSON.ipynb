{
 "cells": [
  {
   "cell_type": "code",
   "execution_count": 1,
   "id": "781b5488-5558-4f83-a406-f555706996f1",
   "metadata": {},
   "outputs": [],
   "source": [
    "import pandas as pd\n",
    "import numpy as np\n",
    "\n",
    "import matplotlib.pyplot as plt\n",
    "import seaborn as sns"
   ]
  },
  {
   "cell_type": "markdown",
   "id": "3a437692-0749-49e8-85d0-e35e0e92c32e",
   "metadata": {},
   "source": [
    "# Дисклеймер"
   ]
  },
  {
   "cell_type": "markdown",
   "id": "4020b463-6b44-419d-bb09-282e2c805bb2",
   "metadata": {},
   "source": [
    "Если кажется, что Вы выпали из повествования об основах классического машинного обучения, то эти два ноутбука проведут Вас за ручку от начала до текущего уровня, до которого мы успели дойти к концу 13-го занятия курса."
   ]
  },
  {
   "cell_type": "markdown",
   "id": "b96ee33a-99d5-48ea-a735-0d272630b846",
   "metadata": {},
   "source": [
    "# Содержание"
   ]
  },
  {
   "cell_type": "markdown",
   "id": "57ea69d9-97ee-462d-b867-3198273d3d95",
   "metadata": {},
   "source": [
    "**А. Тренировочная задача** (этот ноутбук)<br>\n",
    "1. Построим модель линейной регрессии на игрушечных данных \"глазами\";<br>\n",
    "2. Посчитаем метрики качества модели;<br>\n",
    "3. Построим модель линейной регрессии с помощью минимизации MSE;<br>\n",
    "4. Посчитаем метрики качества и сравним с качеством первой модели, которую мы построили глазами.\n",
    "<br><br>\n",
    "\n",
    "**Б. Реальная задача** (второй ноутбук)<br>\n",
    "1. Построим и оценим модель линейной регрессии для предсказания стоимости жилья только на числовых признаках;<br>\n",
    "2. Добавим шкалирование числовых признаков и сравним метрики качества модели без шкалирования и с шкалированием;<br>\n",
    "3. Добавим в лучшую из двух предыдущих моделей некоторые категориальные признаки;<br>\n",
    "4. Добавим регуляризацию;<br>\n",
    "5. Определим лучшие гиперпараметры с помощью K-fold кросс-валидации;<br>\n",
    "6. Попробуем логарифмировать целевую переменную, заново обучим лучшую модель и сравним качество предсказания.<br>"
   ]
  },
  {
   "cell_type": "markdown",
   "id": "99f1db06-391a-4062-8134-7d9adebd8811",
   "metadata": {},
   "source": [
    "# A. Тренировочная задача"
   ]
  },
  {
   "cell_type": "markdown",
   "id": "4a51bffc-e824-4917-ab1e-356cef8d8dae",
   "metadata": {},
   "source": [
    "## 0. Данные\n",
    "Ученикам седьмого \"Ж\" класса пришёл в голову занятный вопрос: \"сколько нужно смотреть в окно, чтобы увидеть тысячу жёлтых машин?\".<br>\n",
    "\n",
    "Ребята догадались, что можно просто посмотреть в окно и засечь, за сколько минут проедет 10 жёлтых машин, а потом умножить результат на 100. Но потом им пришла более продвинутая идея: каждый будет смотреть в окно столько времени, сколько захочет, и посчитаем количество проехавших жёлтых машин. А затем они попробуют найти линейное уравнение зависимости числа проехавших машин от времени, которое ученик смотрел в окно.<br>\n",
    "Как?<br>\n",
    "Да просто отметят точки на графике, возьмут линейку, приложат её наиболее удачным образом. Всё, уравнение готово.\n",
    "\n",
    "Попробуем сделать то же самое :)"
   ]
  },
  {
   "cell_type": "markdown",
   "id": "5947bf5b-44b7-409d-90c4-27519a309755",
   "metadata": {},
   "source": [
    "### 0.1\n",
    "* Прочитайте данные из `data/task1.tsv` (разделитель -- знак табуляции).<br>\n",
    "\n",
    "Аннотация стольцов:<br>\n",
    "**x** -- время, в течение которого ученик смотрел в окно и считал машины;<br>\n",
    "**target** -- число проехавших жёлтых машин за **x** минут.<br>\n",
    "\n",
    "* Выведите первые 5 строк прочитанной таблицы."
   ]
  },
  {
   "cell_type": "code",
   "execution_count": null,
   "id": "090db71d-b9f8-4401-bddf-0117bc71d1a8",
   "metadata": {},
   "outputs": [],
   "source": [
    "# ваш код "
   ]
  },
  {
   "cell_type": "code",
   "execution_count": 9,
   "id": "c2dae21b-4dc9-4eb9-a3a1-c1e6db71ea24",
   "metadata": {},
   "outputs": [
    {
     "data": {
      "text/html": [
       "<div>\n",
       "<style scoped>\n",
       "    .dataframe tbody tr th:only-of-type {\n",
       "        vertical-align: middle;\n",
       "    }\n",
       "\n",
       "    .dataframe tbody tr th {\n",
       "        vertical-align: top;\n",
       "    }\n",
       "\n",
       "    .dataframe thead th {\n",
       "        text-align: right;\n",
       "    }\n",
       "</style>\n",
       "<table border=\"1\" class=\"dataframe\">\n",
       "  <thead>\n",
       "    <tr style=\"text-align: right;\">\n",
       "      <th></th>\n",
       "      <th>x</th>\n",
       "      <th>target</th>\n",
       "    </tr>\n",
       "  </thead>\n",
       "  <tbody>\n",
       "    <tr>\n",
       "      <th>0</th>\n",
       "      <td>4.4</td>\n",
       "      <td>5</td>\n",
       "    </tr>\n",
       "    <tr>\n",
       "      <th>1</th>\n",
       "      <td>4.3</td>\n",
       "      <td>20</td>\n",
       "    </tr>\n",
       "  </tbody>\n",
       "</table>\n",
       "</div>"
      ],
      "text/plain": [
       "     x  target\n",
       "0  4.4       5\n",
       "1  4.3      20"
      ]
     },
     "execution_count": 9,
     "metadata": {},
     "output_type": "execute_result"
    }
   ],
   "source": [
    "df = pd.read_csv(\"./data/task1.tsv\", sep='\\t')\n",
    "df.head(2)"
   ]
  },
  {
   "cell_type": "code",
   "execution_count": 2,
   "id": "3ebe5449-20ce-4b1a-ae0f-cfd1fde4aefb",
   "metadata": {},
   "outputs": [
    {
     "data": {
      "text/html": [
       "<div>\n",
       "<style scoped>\n",
       "    .dataframe tbody tr th:only-of-type {\n",
       "        vertical-align: middle;\n",
       "    }\n",
       "\n",
       "    .dataframe tbody tr th {\n",
       "        vertical-align: top;\n",
       "    }\n",
       "\n",
       "    .dataframe thead th {\n",
       "        text-align: right;\n",
       "    }\n",
       "</style>\n",
       "<table border=\"1\" class=\"dataframe\">\n",
       "  <thead>\n",
       "    <tr style=\"text-align: right;\">\n",
       "      <th></th>\n",
       "      <th>x</th>\n",
       "      <th>target</th>\n",
       "    </tr>\n",
       "  </thead>\n",
       "  <tbody>\n",
       "    <tr>\n",
       "      <th>0</th>\n",
       "      <td>4.4</td>\n",
       "      <td>5</td>\n",
       "    </tr>\n",
       "    <tr>\n",
       "      <th>1</th>\n",
       "      <td>4.3</td>\n",
       "      <td>20</td>\n",
       "    </tr>\n",
       "    <tr>\n",
       "      <th>2</th>\n",
       "      <td>5.6</td>\n",
       "      <td>14</td>\n",
       "    </tr>\n",
       "    <tr>\n",
       "      <th>3</th>\n",
       "      <td>2.2</td>\n",
       "      <td>2</td>\n",
       "    </tr>\n",
       "    <tr>\n",
       "      <th>4</th>\n",
       "      <td>6.9</td>\n",
       "      <td>20</td>\n",
       "    </tr>\n",
       "  </tbody>\n",
       "</table>\n",
       "</div>"
      ],
      "text/plain": [
       "     x  target\n",
       "0  4.4       5\n",
       "1  4.3      20\n",
       "2  5.6      14\n",
       "3  2.2       2\n",
       "4  6.9      20"
      ]
     },
     "execution_count": 2,
     "metadata": {},
     "output_type": "execute_result"
    }
   ],
   "source": []
  },
  {
   "cell_type": "markdown",
   "id": "a72d3a1c-e2a5-4a74-bc0f-0d078a43a870",
   "metadata": {},
   "source": [
    "### 0.2\n",
    "* Переимунуйте колонку **x** в **time**.<br>\n",
    "Убедитесь, что колонка была успешно переименована (посмотрите содержимое атрибута `columns`)."
   ]
  },
  {
   "cell_type": "code",
   "execution_count": 8,
   "id": "3aa115cc-634f-4b74-8dea-7de8b48c6727",
   "metadata": {},
   "outputs": [],
   "source": [
    "# df.columns = ['time', 'target']\n",
    "# df"
   ]
  },
  {
   "cell_type": "code",
   "execution_count": null,
   "id": "04aea854-59e9-4842-8890-08346fb80eea",
   "metadata": {},
   "outputs": [],
   "source": [
    "# ваш код"
   ]
  },
  {
   "cell_type": "code",
   "execution_count": 14,
   "id": "b6bf91d6-7ec3-40b8-826a-7c649fc3e2b7",
   "metadata": {},
   "outputs": [
    {
     "data": {
      "text/html": [
       "<div>\n",
       "<style scoped>\n",
       "    .dataframe tbody tr th:only-of-type {\n",
       "        vertical-align: middle;\n",
       "    }\n",
       "\n",
       "    .dataframe tbody tr th {\n",
       "        vertical-align: top;\n",
       "    }\n",
       "\n",
       "    .dataframe thead th {\n",
       "        text-align: right;\n",
       "    }\n",
       "</style>\n",
       "<table border=\"1\" class=\"dataframe\">\n",
       "  <thead>\n",
       "    <tr style=\"text-align: right;\">\n",
       "      <th></th>\n",
       "      <th>time</th>\n",
       "      <th>target</th>\n",
       "    </tr>\n",
       "  </thead>\n",
       "  <tbody>\n",
       "    <tr>\n",
       "      <th>0</th>\n",
       "      <td>4.4</td>\n",
       "      <td>5</td>\n",
       "    </tr>\n",
       "    <tr>\n",
       "      <th>1</th>\n",
       "      <td>4.3</td>\n",
       "      <td>20</td>\n",
       "    </tr>\n",
       "    <tr>\n",
       "      <th>2</th>\n",
       "      <td>5.6</td>\n",
       "      <td>14</td>\n",
       "    </tr>\n",
       "    <tr>\n",
       "      <th>3</th>\n",
       "      <td>2.2</td>\n",
       "      <td>2</td>\n",
       "    </tr>\n",
       "    <tr>\n",
       "      <th>4</th>\n",
       "      <td>6.9</td>\n",
       "      <td>20</td>\n",
       "    </tr>\n",
       "  </tbody>\n",
       "</table>\n",
       "</div>"
      ],
      "text/plain": [
       "   time  target\n",
       "0   4.4       5\n",
       "1   4.3      20\n",
       "2   5.6      14\n",
       "3   2.2       2\n",
       "4   6.9      20"
      ]
     },
     "execution_count": 14,
     "metadata": {},
     "output_type": "execute_result"
    }
   ],
   "source": [
    "df = df.rename(columns={'x': 'time'})\n",
    "df.head()"
   ]
  },
  {
   "cell_type": "markdown",
   "id": "0509937d-0a19-4132-bbc2-6e2c3d01f6b4",
   "metadata": {},
   "source": [
    "### 0.3\n",
    "* Визуализируйте на графике зависимость числа проехавших машин от времени.<br>\n",
    "* Используйте `plt.scatter` или `seaborn.scatterplot`.<br>\n",
    "* Подпишите оси (xlabel, ylabel), добавьте название для графика (title).<br>\n",
    "<br>\n",
    "*Чтобы увеличить размер картинки, воспользуйтесь `plt.figure(figsize=(10, 6), dpi=100)`. Размеры figsize и dpi можно менять.*"
   ]
  },
  {
   "cell_type": "code",
   "execution_count": 37,
   "id": "2ae53649-8d06-4ea2-b576-12fb93c1820d",
   "metadata": {},
   "outputs": [
    {
     "data": {
      "image/png": "[encoded data removed]",
      "text/plain": [
       "<Figure size 640x480 with 1 Axes>"
      ]
     },
     "metadata": {},
     "output_type": "display_data"
    }
   ],
   "source": [
    "sns.scatterplot(\n",
    "    data=df,\n",
    "    x='time',\n",
    "    y='target',\n",
    "    s=200,\n",
    "    alpha=0.75,\n",
    "    edgecolor='black',\n",
    "    zorder=2\n",
    ")\n",
    "plt.grid(alpha=0.3, zorder=1)\n",
    "plt.xlim(left=0)\n",
    "plt.title('Название графика')\n",
    "plt.show()"
   ]
  },
  {
   "cell_type": "code",
   "execution_count": 4,
   "id": "ecdafb06-59b0-430b-8baa-f0415bde857d",
   "metadata": {},
   "outputs": [
    {
     "data": {
      "image/png": "[encoded data removed]",
      "text/plain": [
       "<Figure size 1000x600 with 1 Axes>"
      ]
     },
     "metadata": {
      "needs_background": "light"
     },
     "output_type": "display_data"
    }
   ],
   "source": []
  },
  {
   "cell_type": "markdown",
   "id": "1c36e306-3967-4913-b479-020889530521",
   "metadata": {},
   "source": [
    "### 0.4\n",
    "На первый взгляд кажется, что сюда можно \"впихнуть\" линейную модель уже на глаз.<br>\n",
    "То есть нам нужно на глаз подобрать угол наклона (**m**) и свободный член (**c**) в уравнении $ y = m\\cdot x + c $, где **y** -- машины, **x** -- время в минутах.<br>\n",
    "\n",
    "* Нарисуйте ту же картинку, что в пункте 0.3, но добавьте сетку (grid), чтобы было удобнее определять угол наклона;<br>\n",
    "* Сделайте непрозрачность сетки 0.5 (alpha);<br>\n",
    "* Установите ноль в качестве начала оси игрек (`plt.ylim`), чтобы было удобнее определить свободный член (координата, в которой прямая пересекает ось абсцисс, равна свободному члену);<br>\n",
    "* По желанию можете поменять границы оси абсцисс (`plt.xlim`), а также подписи (`plt.xticks`, `plt.yticks`)."
   ]
  },
  {
   "cell_type": "code",
   "execution_count": null,
   "id": "61b770cb-112d-4d33-bc6a-391881e90b85",
   "metadata": {},
   "outputs": [],
   "source": [
    "# ваш код"
   ]
  },
  {
   "cell_type": "code",
   "execution_count": 5,
   "id": "5e08a61f-7f2c-418d-b51d-8c8e74151c62",
   "metadata": {},
   "outputs": [
    {
     "data": {
      "image/png": "[encoded data removed]",
      "text/plain": [
       "<Figure size 1000x600 with 1 Axes>"
      ]
     },
     "metadata": {
      "needs_background": "light"
     },
     "output_type": "display_data"
    }
   ],
   "source": []
  },
  {
   "cell_type": "markdown",
   "id": "d8c52b9b-ed5e-4368-9ee4-9b810c9d3fc1",
   "metadata": {},
   "source": [
    "## 1. Построим модель линейной регресси на глаз."
   ]
  },
  {
   "cell_type": "markdown",
   "id": "385187bd-98e8-48eb-baf8-2e03233871a9",
   "metadata": {},
   "source": [
    "### 1.1\n",
    "Если всё сделано правильно, то сейчас есть картинка с сеткой, по которой мы попробуем составить уравнение линейной зависимости числа проехавших желтых машин от времени, в течение которого ученик смотрел в окно.\n",
    "\n",
    "* Посмотрите на график и предположите значение угла наклона (**m**) и свободного члена (**c**) в уравнении $ y = m\\cdot x + c $, где **y** -- машины, **x** -- время в минутах.\n",
    "\n",
    "Как оценить параметры?<br>\n",
    "* **m** -- то, на скольк изменяется игрек за 1 шаг по иксу. То есть на сколько машин больше уведит ученик, если будет смотреть 1 минуту;<br>\n",
    "* **c** -- пересечение прямой с осью игрек. Здравый смысл подсказывает, что в теории мы должны видеть 0 жёлтых машин, если смотрим в окно 0 минут :)"
   ]
  },
  {
   "cell_type": "code",
   "execution_count": 6,
   "id": "db4dfee2-c4b6-4d6a-8080-9f8f2bdeb788",
   "metadata": {},
   "outputs": [],
   "source": []
  },
  {
   "cell_type": "markdown",
   "id": "64a389bc-0f20-4368-b3c7-49935a1f0f32",
   "metadata": {},
   "source": [
    "### 1.2 \n",
    "Теперь нам надо добавить линейную модель, которую вы оценили на глаз, на график.\n",
    "\n",
    "\n",
    "* Получите значение вашей линейной модели в точках 0 и 14 (то есть для икс координат 0 и 14)<br>\n",
    "(например, если вы решили, что $m=10$, а $c=1$, то если функции дать $14$, то она вернет $10*14+1=141$, так как $ y = 10\\cdot x + 1$);<br>\n",
    "* Постройте график из пункта 0.4 и добавьте на него прямую (постройте её по двум точкам с помощью `plt.plot`)."
   ]
  },
  {
   "cell_type": "code",
   "execution_count": null,
   "id": "cbc0f499-b6c4-409d-aaec-2b2cf1ac7834",
   "metadata": {},
   "outputs": [],
   "source": [
    "# ваш код\n"
   ]
  },
  {
   "cell_type": "code",
   "execution_count": 47,
   "id": "262ddda7-0514-4665-bf8e-aa37fffd6035",
   "metadata": {},
   "outputs": [
    {
     "data": {
      "image/png": "[encoded data removed]",
      "text/plain": [
       "<Figure size 640x480 with 1 Axes>"
      ]
     },
     "metadata": {},
     "output_type": "display_data"
    }
   ],
   "source": [
    "sns.scatterplot(\n",
    "    data=df,\n",
    "    x='time',\n",
    "    y='target',\n",
    "    s=200,\n",
    "    alpha=0.75,\n",
    "    edgecolor='black',\n",
    "    zorder=2,\n",
    "    label='data'\n",
    ")\n",
    "plt.grid(alpha=0.3, zorder=1)\n",
    "plt.xlim(left=0)\n",
    "plt.title('Название графика')\n",
    "\n",
    "plt.plot([0, 15], [-10, 65],  label='$y=5x - 10$', c='orange', linewidth=4, linestyle='--')\n",
    "plt.legend()\n",
    "\n",
    "plt.show()"
   ]
  },
  {
   "cell_type": "markdown",
   "id": "2b017d7b-c6a4-4799-8c0c-c42b7d891610",
   "metadata": {},
   "source": [
    "### 1.3\n",
    "У меня с первого раза совсем криво получилось определить параметры. У Вас, возможно, тоже ...)<br>\n",
    "Попробуйте поменять значения $m$ и $c$ и добиться \"лучшей\" прямой, которая бы хорошо ложилась на данные."
   ]
  },
  {
   "cell_type": "code",
   "execution_count": null,
   "id": "49854d52-6447-483a-b309-0a5f2aa26be6",
   "metadata": {},
   "outputs": [],
   "source": [
    "# ваш код"
   ]
  },
  {
   "cell_type": "code",
   "execution_count": 8,
   "id": "37e1c7d0-a0c2-486c-9788-765ff70a6faa",
   "metadata": {},
   "outputs": [
    {
     "data": {
      "image/png": "[encoded data removed]",
      "text/plain": [
       "<Figure size 1000x600 with 1 Axes>"
      ]
     },
     "metadata": {
      "needs_background": "light"
     },
     "output_type": "display_data"
    }
   ],
   "source": []
  },
  {
   "cell_type": "markdown",
   "id": "de05cb5a-feaa-4db3-8ba5-b06c2fdd64f4",
   "metadata": {},
   "source": [
    "Мне показалось, что прямая с параметрами $ m = 3.75 $ и $ c = -3.4 $ неплохо \"ложится\" на данные. Я оценю качество для неё<br>\n",
    "Вы воспользуйтесь теми $m$ и $c$, которые показались наиболее удачными именно Вам. Сейчас сравним, у кого получилось лучшее качество :)"
   ]
  },
  {
   "cell_type": "markdown",
   "id": "df24a13b-f6bf-4fdb-9795-d55afdc71328",
   "metadata": {},
   "source": [
    "## 2. Оценка качество модели, построенной на глаз."
   ]
  },
  {
   "cell_type": "markdown",
   "id": "3d8d809e-5f26-4a97-8fdc-033789709dad",
   "metadata": {},
   "source": [
    "### 2.1 \n",
    "Создайте новый столбец в исходном датафрейме `prediction_dumb`, в который получите для каждого значения `time` предсказание числа проехавших жёлтых машин по формуле, которую Вы предположили выше."
   ]
  },
  {
   "cell_type": "code",
   "execution_count": null,
   "id": "018ea2fa-3efe-4a8c-b181-579b14d35bee",
   "metadata": {},
   "outputs": [],
   "source": [
    "# ваш код"
   ]
  },
  {
   "cell_type": "code",
   "execution_count": 50,
   "id": "1ce39524-afbd-4583-82e9-58dfe24e3088",
   "metadata": {},
   "outputs": [
    {
     "data": {
      "text/html": [
       "<div>\n",
       "<style scoped>\n",
       "    .dataframe tbody tr th:only-of-type {\n",
       "        vertical-align: middle;\n",
       "    }\n",
       "\n",
       "    .dataframe tbody tr th {\n",
       "        vertical-align: top;\n",
       "    }\n",
       "\n",
       "    .dataframe thead th {\n",
       "        text-align: right;\n",
       "    }\n",
       "</style>\n",
       "<table border=\"1\" class=\"dataframe\">\n",
       "  <thead>\n",
       "    <tr style=\"text-align: right;\">\n",
       "      <th></th>\n",
       "      <th>time</th>\n",
       "      <th>target</th>\n",
       "      <th>prediction_dumb</th>\n",
       "    </tr>\n",
       "  </thead>\n",
       "  <tbody>\n",
       "    <tr>\n",
       "      <th>0</th>\n",
       "      <td>4.4</td>\n",
       "      <td>5</td>\n",
       "      <td>12.0</td>\n",
       "    </tr>\n",
       "    <tr>\n",
       "      <th>1</th>\n",
       "      <td>4.3</td>\n",
       "      <td>20</td>\n",
       "      <td>11.5</td>\n",
       "    </tr>\n",
       "    <tr>\n",
       "      <th>2</th>\n",
       "      <td>5.6</td>\n",
       "      <td>14</td>\n",
       "      <td>18.0</td>\n",
       "    </tr>\n",
       "    <tr>\n",
       "      <th>3</th>\n",
       "      <td>2.2</td>\n",
       "      <td>2</td>\n",
       "      <td>1.0</td>\n",
       "    </tr>\n",
       "    <tr>\n",
       "      <th>4</th>\n",
       "      <td>6.9</td>\n",
       "      <td>20</td>\n",
       "      <td>24.5</td>\n",
       "    </tr>\n",
       "  </tbody>\n",
       "</table>\n",
       "</div>"
      ],
      "text/plain": [
       "   time  target  prediction_dumb\n",
       "0   4.4       5             12.0\n",
       "1   4.3      20             11.5\n",
       "2   5.6      14             18.0\n",
       "3   2.2       2              1.0\n",
       "4   6.9      20             24.5"
      ]
     },
     "execution_count": 50,
     "metadata": {},
     "output_type": "execute_result"
    }
   ],
   "source": [
    "# y = mx + c\n",
    "df['prediction_dumb'] = df['time'] * 5 - 10\n",
    "df.head()"
   ]
  },
  {
   "cell_type": "markdown",
   "id": "76dfd9cd-69e5-4bd6-b3db-ff97542d14fd",
   "metadata": {},
   "source": [
    "### 2.2 \n",
    "Посчитаем среднеквадратичную ошибку модели. Потом сравним полученное значение с реализацией формулы из scikit-learn.<br>\n",
    "* Вычтите из предсказания истинное значение (можно и наоборот);<br>\n",
    "* Возведите все разницы в квадрат;<br>\n",
    "* Найдите среднее значение квадрата<br>"
   ]
  },
  {
   "cell_type": "code",
   "execution_count": null,
   "id": "92f2cfa2-f09b-4d04-8672-fa4d8703af18",
   "metadata": {},
   "outputs": [],
   "source": [
    "# ваш код"
   ]
  },
  {
   "cell_type": "code",
   "execution_count": 51,
   "id": "bde8589c-1861-476a-8d16-1811e483572d",
   "metadata": {},
   "outputs": [
    {
     "data": {
      "text/plain": [
       "78.64166666666667"
      ]
     },
     "execution_count": 51,
     "metadata": {},
     "output_type": "execute_result"
    }
   ],
   "source": [
    "df['error'] = df['target'] - df['prediction_dumb']\n",
    "df['error_squared'] = df['error'] ** 2\n",
    "df['error_squared'].mean()"
   ]
  },
  {
   "cell_type": "code",
   "execution_count": 54,
   "id": "b3e14f3e-6d03-4639-9d97-ad36a1bc16ec",
   "metadata": {},
   "outputs": [
    {
     "data": {
      "text/plain": [
       "78.6"
      ]
     },
     "execution_count": 54,
     "metadata": {},
     "output_type": "execute_result"
    }
   ],
   "source": [
    "((df['target'] - df['prediction_dumb']) ** 2).mean().round(1)"
   ]
  },
  {
   "cell_type": "code",
   "execution_count": 55,
   "id": "23d0cffd-d653-4d66-8bdd-54c962ffc707",
   "metadata": {},
   "outputs": [
    {
     "data": {
      "text/plain": [
       "78.6"
      ]
     },
     "execution_count": 55,
     "metadata": {},
     "output_type": "execute_result"
    }
   ],
   "source": [
    "(df['target'] - df['prediction_dumb']).pow(2).mean().round(1)"
   ]
  },
  {
   "cell_type": "markdown",
   "id": "1c48b6e0-1485-46b4-89d6-2c6553c5847d",
   "metadata": {},
   "source": [
    "### 2.3\n",
    "* Импортируйте функцию для подсчета среднеквадратичной ошибки (`mean_squared_error`) из `sklearn.metrics`;<br>\n",
    "* Посчитайте значение MSE с помощью функции из sklearn;<br>\n",
    "* Совпадает ли значение с посчитанным вручную? (должно совпадать идеяльно до любого знака)."
   ]
  },
  {
   "cell_type": "code",
   "execution_count": 57,
   "id": "7a5f43de-e106-4643-ae69-cd0a718da129",
   "metadata": {},
   "outputs": [],
   "source": [
    "# ваш код\n",
    "from sklearn.metrics import mean_squared_error"
   ]
  },
  {
   "cell_type": "code",
   "execution_count": 59,
   "id": "9c10d067-620a-49b4-9362-058ea76496c4",
   "metadata": {},
   "outputs": [
    {
     "data": {
      "text/plain": [
       "78.6"
      ]
     },
     "execution_count": 59,
     "metadata": {},
     "output_type": "execute_result"
    }
   ],
   "source": [
    "mean_squared_error(df['target'], df['prediction_dumb']).round(1)"
   ]
  },
  {
   "cell_type": "code",
   "execution_count": 12,
   "id": "0c0e3f26-db32-483f-8880-063a043d035a",
   "metadata": {},
   "outputs": [
    {
     "data": {
      "text/plain": [
       "32.37427083333334"
      ]
     },
     "execution_count": 12,
     "metadata": {},
     "output_type": "execute_result"
    }
   ],
   "source": []
  },
  {
   "cell_type": "markdown",
   "id": "976ee6aa-1647-4e64-9cb6-7f781e69d8bf",
   "metadata": {},
   "source": [
    "### 2.4\n",
    "Посчитаем коэффициент детерминации, или $R^2$.<br>\n",
    "$$R^2 = 1 - \\frac{\\sum_{i=1}^{n} (y^i - y_{pred}^i)^2}{\\sum_{i=1}^{n} (y^i - y_{mean})^2}$$\n",
    "\n",
    "Коэффициент детерминации говорит, какую долю дисперсии наша модель описывает.<br>\n",
    "Или можно сказать, что $R^2$ говорит об отношении ошибок нашей модели к модели, которая бы просто предсказывала среднее число. Например $R^2=0.5$ говорит, что ошибка нашей модели в 2 раза меньше, чем ошибка модели, которая предсказывает среднее. А $R^2=0.75$ говорит, что размер ошибки в 4 раза меньше."
   ]
  },
  {
   "cell_type": "markdown",
   "id": "d843ad95-ee68-4d55-b39d-f23a9829f01f",
   "metadata": {},
   "source": [
    "* Посчитайте разницу предсказанного значения и истинного числа проехавших машин. Возведите разницы в квадрат. Найдите сумму. Это числитель дроби. Сохраните в переменную;\n",
    "* Посчитайте разницу истинных значений и среднего числа проехавших машин. Возведите разницы в квадрат. Найдите сумму. Это знаменатель дроби. Сохраните в переменную;\n",
    "* Разделите числитель на знаменатель и вычтите частное из единицы."
   ]
  },
  {
   "cell_type": "code",
   "execution_count": 62,
   "id": "f3154af7-8f76-4322-a1ae-c4ca80a4b6b8",
   "metadata": {},
   "outputs": [
    {
     "data": {
      "text/plain": [
       "0.49"
      ]
     },
     "execution_count": 62,
     "metadata": {},
     "output_type": "execute_result"
    }
   ],
   "source": [
    "# ваш код\n",
    "r2 = 1 - df['error_squared'].sum() / ((df['target'] - df['target'].mean()).pow(2)).sum()\n",
    "r2.round(3)"
   ]
  },
  {
   "cell_type": "code",
   "execution_count": 66,
   "id": "0db1173d-bc69-4790-b09a-278eb90f87ba",
   "metadata": {},
   "outputs": [
    {
     "data": {
      "text/plain": [
       "0.49"
      ]
     },
     "execution_count": 66,
     "metadata": {},
     "output_type": "execute_result"
    }
   ],
   "source": [
    "r2_2 = 1 - 78.6 / df['target'].var(ddof=0)\n",
    "r2_2.round(3)"
   ]
  },
  {
   "cell_type": "markdown",
   "id": "0f00b04f-aeff-4594-be77-76f03336ec5f",
   "metadata": {},
   "source": [
    "### 2.5\n",
    "* Импортируйте функцию для подсчёта коэффициента детерминации (`r2_score`) из `sklearn.metrics`;<br>\n",
    "* Посчитайте $R^2$ с помощью реализации из sklearn и сравните со значением, посчитанным руками. Они должны идеально совпадать."
   ]
  },
  {
   "cell_type": "code",
   "execution_count": 73,
   "id": "2373ff16-96ca-4221-8010-84e82f514d42",
   "metadata": {},
   "outputs": [],
   "source": [
    "# ваш код"
   ]
  },
  {
   "cell_type": "code",
   "execution_count": 74,
   "id": "c75b38cf-2488-4aea-9fee-19a0b76e7a40",
   "metadata": {},
   "outputs": [
    {
     "data": {
      "text/plain": [
       "0.49"
      ]
     },
     "execution_count": 74,
     "metadata": {},
     "output_type": "execute_result"
    }
   ],
   "source": [
    "from sklearn.metrics import r2_score\n",
    "r2_score(df['target'], df['prediction_dumb']).round(3)"
   ]
  },
  {
   "cell_type": "markdown",
   "id": "67390f33-eead-4bc0-8068-d80003d6a04b",
   "metadata": {},
   "source": [
    "## 3. Линейная регрессия из scikit-learn\n",
    "Основной класс объектом из scikit-learn -- estimator (то есть модели).<br>\n",
    "У моделей два основных метода: `fit` для обучения и `predict` для получения предсказаний.<br>"
   ]
  },
  {
   "cell_type": "markdown",
   "id": "ca9a23ea-23f6-403d-858a-c5aff2b0f6bc",
   "metadata": {},
   "source": [
    "### 3.1\n",
    "* Импортируйте модель линейной регерссии (`LinearRegression`) из `sklearn.linear_model`. Это реализация решения задачи линейой регресиии методом наименьшим квадратов (то есть строится такая прямая, которая минимизирует MSE);<br>\n",
    "* Создайте экземпляр класса линейной регрессии;<br>\n",
    "* Обучите модель (признак -- время, целевое значение -- число машин);<br>\n",
    "(нужно превратить признаки в таблицу. Так как мы используем всего 1 столбец, то надо воспользоваться методом `to_frame()` или `reshape`. Например `df['time'].to_frame()`.)<br>\n",
    "* Получите предсказания модели для каждого времени из столбца time и сохраните полученные значения в новый столбец `prediction_sklearn`."
   ]
  },
  {
   "cell_type": "code",
   "execution_count": 16,
   "id": "3a49a922-4033-4c9e-aac7-4a4fb2b5e0d3",
   "metadata": {},
   "outputs": [],
   "source": [
    "# ваш код"
   ]
  },
  {
   "cell_type": "code",
   "execution_count": 77,
   "id": "568d148d-a36b-4c36-b35c-cf2c52bd2855",
   "metadata": {},
   "outputs": [],
   "source": [
    "from sklearn.linear_model import LinearRegression\n",
    "\n",
    "model = LinearRegression()"
   ]
  },
  {
   "cell_type": "code",
   "execution_count": 85,
   "id": "52937bfc-da02-4ac3-af49-2dcd9c2d1110",
   "metadata": {},
   "outputs": [
    {
     "data": {
      "text/html": [
       "<style>#sk-container-id-2 {\n",
       "  /* Definition of color scheme common for light and dark mode */\n",
       "  --sklearn-color-text: black;\n",
       "  --sklearn-color-line: gray;\n",
       "  /* Definition of color scheme for unfitted estimators */\n",
       "  --sklearn-color-unfitted-level-0: #fff5e6;\n",
       "  --sklearn-color-unfitted-level-1: #f6e4d2;\n",
       "  --sklearn-color-unfitted-level-2: #ffe0b3;\n",
       "  --sklearn-color-unfitted-level-3: chocolate;\n",
       "  /* Definition of color scheme for fitted estimators */\n",
       "  --sklearn-color-fitted-level-0: #f0f8ff;\n",
       "  --sklearn-color-fitted-level-1: #d4ebff;\n",
       "  --sklearn-color-fitted-level-2: #b3dbfd;\n",
       "  --sklearn-color-fitted-level-3: cornflowerblue;\n",
       "\n",
       "  /* Specific color for light theme */\n",
       "  --sklearn-color-text-on-default-background: var(--sg-text-color, var(--theme-code-foreground, var(--jp-content-font-color1, black)));\n",
       "  --sklearn-color-background: var(--sg-background-color, var(--theme-background, var(--jp-layout-color0, white)));\n",
       "  --sklearn-color-border-box: var(--sg-text-color, var(--theme-code-foreground, var(--jp-content-font-color1, black)));\n",
       "  --sklearn-color-icon: #696969;\n",
       "\n",
       "  @media (prefers-color-scheme: dark) {\n",
       "    /* Redefinition of color scheme for dark theme */\n",
       "    --sklearn-color-text-on-default-background: var(--sg-text-color, var(--theme-code-foreground, var(--jp-content-font-color1, white)));\n",
       "    --sklearn-color-background: var(--sg-background-color, var(--theme-background, var(--jp-layout-color0, #111)));\n",
       "    --sklearn-color-border-box: var(--sg-text-color, var(--theme-code-foreground, var(--jp-content-font-color1, white)));\n",
       "    --sklearn-color-icon: #878787;\n",
       "  }\n",
       "}\n",
       "\n",
       "#sk-container-id-2 {\n",
       "  color: var(--sklearn-color-text);\n",
       "}\n",
       "\n",
       "#sk-container-id-2 pre {\n",
       "  padding: 0;\n",
       "}\n",
       "\n",
       "#sk-container-id-2 input.sk-hidden--visually {\n",
       "  border: 0;\n",
       "  clip: rect(1px 1px 1px 1px);\n",
       "  clip: rect(1px, 1px, 1px, 1px);\n",
       "  height: 1px;\n",
       "  margin: -1px;\n",
       "  overflow: hidden;\n",
       "  padding: 0;\n",
       "  position: absolute;\n",
       "  width: 1px;\n",
       "}\n",
       "\n",
       "#sk-container-id-2 div.sk-dashed-wrapped {\n",
       "  border: 1px dashed var(--sklearn-color-line);\n",
       "  margin: 0 0.4em 0.5em 0.4em;\n",
       "  box-sizing: border-box;\n",
       "  padding-bottom: 0.4em;\n",
       "  background-color: var(--sklearn-color-background);\n",
       "}\n",
       "\n",
       "#sk-container-id-2 div.sk-container {\n",
       "  /* jupyter's `normalize.less` sets `[hidden] { display: none; }`\n",
       "     but bootstrap.min.css set `[hidden] { display: none !important; }`\n",
       "     so we also need the `!important` here to be able to override the\n",
       "     default hidden behavior on the sphinx rendered scikit-learn.org.\n",
       "     See: https://github.com/scikit-learn/scikit-learn/issues/21755 */\n",
       "  display: inline-block !important;\n",
       "  position: relative;\n",
       "}\n",
       "\n",
       "#sk-container-id-2 div.sk-text-repr-fallback {\n",
       "  display: none;\n",
       "}\n",
       "\n",
       "div.sk-parallel-item,\n",
       "div.sk-serial,\n",
       "div.sk-item {\n",
       "  /* draw centered vertical line to link estimators */\n",
       "  background-image: linear-gradient(var(--sklearn-color-text-on-default-background), var(--sklearn-color-text-on-default-background));\n",
       "  background-size: 2px 100%;\n",
       "  background-repeat: no-repeat;\n",
       "  background-position: center center;\n",
       "}\n",
       "\n",
       "/* Parallel-specific style estimator block */\n",
       "\n",
       "#sk-container-id-2 div.sk-parallel-item::after {\n",
       "  content: \"\";\n",
       "  width: 100%;\n",
       "  border-bottom: 2px solid var(--sklearn-color-text-on-default-background);\n",
       "  flex-grow: 1;\n",
       "}\n",
       "\n",
       "#sk-container-id-2 div.sk-parallel {\n",
       "  display: flex;\n",
       "  align-items: stretch;\n",
       "  justify-content: center;\n",
       "  background-color: var(--sklearn-color-background);\n",
       "  position: relative;\n",
       "}\n",
       "\n",
       "#sk-container-id-2 div.sk-parallel-item {\n",
       "  display: flex;\n",
       "  flex-direction: column;\n",
       "}\n",
       "\n",
       "#sk-container-id-2 div.sk-parallel-item:first-child::after {\n",
       "  align-self: flex-end;\n",
       "  width: 50%;\n",
       "}\n",
       "\n",
       "#sk-container-id-2 div.sk-parallel-item:last-child::after {\n",
       "  align-self: flex-start;\n",
       "  width: 50%;\n",
       "}\n",
       "\n",
       "#sk-container-id-2 div.sk-parallel-item:only-child::after {\n",
       "  width: 0;\n",
       "}\n",
       "\n",
       "/* Serial-specific style estimator block */\n",
       "\n",
       "#sk-container-id-2 div.sk-serial {\n",
       "  display: flex;\n",
       "  flex-direction: column;\n",
       "  align-items: center;\n",
       "  background-color: var(--sklearn-color-background);\n",
       "  padding-right: 1em;\n",
       "  padding-left: 1em;\n",
       "}\n",
       "\n",
       "\n",
       "/* Toggleable style: style used for estimator/Pipeline/ColumnTransformer box that is\n",
       "clickable and can be expanded/collapsed.\n",
       "- Pipeline and ColumnTransformer use this feature and define the default style\n",
       "- Estimators will overwrite some part of the style using the `sk-estimator` class\n",
       "*/\n",
       "\n",
       "/* Pipeline and ColumnTransformer style (default) */\n",
       "\n",
       "#sk-container-id-2 div.sk-toggleable {\n",
       "  /* Default theme specific background. It is overwritten whether we have a\n",
       "  specific estimator or a Pipeline/ColumnTransformer */\n",
       "  background-color: var(--sklearn-color-background);\n",
       "}\n",
       "\n",
       "/* Toggleable label */\n",
       "#sk-container-id-2 label.sk-toggleable__label {\n",
       "  cursor: pointer;\n",
       "  display: block;\n",
       "  width: 100%;\n",
       "  margin-bottom: 0;\n",
       "  padding: 0.5em;\n",
       "  box-sizing: border-box;\n",
       "  text-align: center;\n",
       "}\n",
       "\n",
       "#sk-container-id-2 label.sk-toggleable__label-arrow:before {\n",
       "  /* Arrow on the left of the label */\n",
       "  content: \"▸\";\n",
       "  float: left;\n",
       "  margin-right: 0.25em;\n",
       "  color: var(--sklearn-color-icon);\n",
       "}\n",
       "\n",
       "#sk-container-id-2 label.sk-toggleable__label-arrow:hover:before {\n",
       "  color: var(--sklearn-color-text);\n",
       "}\n",
       "\n",
       "/* Toggleable content - dropdown */\n",
       "\n",
       "#sk-container-id-2 div.sk-toggleable__content {\n",
       "  max-height: 0;\n",
       "  max-width: 0;\n",
       "  overflow: hidden;\n",
       "  text-align: left;\n",
       "  /* unfitted */\n",
       "  background-color: var(--sklearn-color-unfitted-level-0);\n",
       "}\n",
       "\n",
       "#sk-container-id-2 div.sk-toggleable__content.fitted {\n",
       "  /* fitted */\n",
       "  background-color: var(--sklearn-color-fitted-level-0);\n",
       "}\n",
       "\n",
       "#sk-container-id-2 div.sk-toggleable__content pre {\n",
       "  margin: 0.2em;\n",
       "  border-radius: 0.25em;\n",
       "  color: var(--sklearn-color-text);\n",
       "  /* unfitted */\n",
       "  background-color: var(--sklearn-color-unfitted-level-0);\n",
       "}\n",
       "\n",
       "#sk-container-id-2 div.sk-toggleable__content.fitted pre {\n",
       "  /* unfitted */\n",
       "  background-color: var(--sklearn-color-fitted-level-0);\n",
       "}\n",
       "\n",
       "#sk-container-id-2 input.sk-toggleable__control:checked~div.sk-toggleable__content {\n",
       "  /* Expand drop-down */\n",
       "  max-height: 200px;\n",
       "  max-width: 100%;\n",
       "  overflow: auto;\n",
       "}\n",
       "\n",
       "#sk-container-id-2 input.sk-toggleable__control:checked~label.sk-toggleable__label-arrow:before {\n",
       "  content: \"▾\";\n",
       "}\n",
       "\n",
       "/* Pipeline/ColumnTransformer-specific style */\n",
       "\n",
       "#sk-container-id-2 div.sk-label input.sk-toggleable__control:checked~label.sk-toggleable__label {\n",
       "  color: var(--sklearn-color-text);\n",
       "  background-color: var(--sklearn-color-unfitted-level-2);\n",
       "}\n",
       "\n",
       "#sk-container-id-2 div.sk-label.fitted input.sk-toggleable__control:checked~label.sk-toggleable__label {\n",
       "  background-color: var(--sklearn-color-fitted-level-2);\n",
       "}\n",
       "\n",
       "/* Estimator-specific style */\n",
       "\n",
       "/* Colorize estimator box */\n",
       "#sk-container-id-2 div.sk-estimator input.sk-toggleable__control:checked~label.sk-toggleable__label {\n",
       "  /* unfitted */\n",
       "  background-color: var(--sklearn-color-unfitted-level-2);\n",
       "}\n",
       "\n",
       "#sk-container-id-2 div.sk-estimator.fitted input.sk-toggleable__control:checked~label.sk-toggleable__label {\n",
       "  /* fitted */\n",
       "  background-color: var(--sklearn-color-fitted-level-2);\n",
       "}\n",
       "\n",
       "#sk-container-id-2 div.sk-label label.sk-toggleable__label,\n",
       "#sk-container-id-2 div.sk-label label {\n",
       "  /* The background is the default theme color */\n",
       "  color: var(--sklearn-color-text-on-default-background);\n",
       "}\n",
       "\n",
       "/* On hover, darken the color of the background */\n",
       "#sk-container-id-2 div.sk-label:hover label.sk-toggleable__label {\n",
       "  color: var(--sklearn-color-text);\n",
       "  background-color: var(--sklearn-color-unfitted-level-2);\n",
       "}\n",
       "\n",
       "/* Label box, darken color on hover, fitted */\n",
       "#sk-container-id-2 div.sk-label.fitted:hover label.sk-toggleable__label.fitted {\n",
       "  color: var(--sklearn-color-text);\n",
       "  background-color: var(--sklearn-color-fitted-level-2);\n",
       "}\n",
       "\n",
       "/* Estimator label */\n",
       "\n",
       "#sk-container-id-2 div.sk-label label {\n",
       "  font-family: monospace;\n",
       "  font-weight: bold;\n",
       "  display: inline-block;\n",
       "  line-height: 1.2em;\n",
       "}\n",
       "\n",
       "#sk-container-id-2 div.sk-label-container {\n",
       "  text-align: center;\n",
       "}\n",
       "\n",
       "/* Estimator-specific */\n",
       "#sk-container-id-2 div.sk-estimator {\n",
       "  font-family: monospace;\n",
       "  border: 1px dotted var(--sklearn-color-border-box);\n",
       "  border-radius: 0.25em;\n",
       "  box-sizing: border-box;\n",
       "  margin-bottom: 0.5em;\n",
       "  /* unfitted */\n",
       "  background-color: var(--sklearn-color-unfitted-level-0);\n",
       "}\n",
       "\n",
       "#sk-container-id-2 div.sk-estimator.fitted {\n",
       "  /* fitted */\n",
       "  background-color: var(--sklearn-color-fitted-level-0);\n",
       "}\n",
       "\n",
       "/* on hover */\n",
       "#sk-container-id-2 div.sk-estimator:hover {\n",
       "  /* unfitted */\n",
       "  background-color: var(--sklearn-color-unfitted-level-2);\n",
       "}\n",
       "\n",
       "#sk-container-id-2 div.sk-estimator.fitted:hover {\n",
       "  /* fitted */\n",
       "  background-color: var(--sklearn-color-fitted-level-2);\n",
       "}\n",
       "\n",
       "/* Specification for estimator info (e.g. \"i\" and \"?\") */\n",
       "\n",
       "/* Common style for \"i\" and \"?\" */\n",
       "\n",
       ".sk-estimator-doc-link,\n",
       "a:link.sk-estimator-doc-link,\n",
       "a:visited.sk-estimator-doc-link {\n",
       "  float: right;\n",
       "  font-size: smaller;\n",
       "  line-height: 1em;\n",
       "  font-family: monospace;\n",
       "  background-color: var(--sklearn-color-background);\n",
       "  border-radius: 1em;\n",
       "  height: 1em;\n",
       "  width: 1em;\n",
       "  text-decoration: none !important;\n",
       "  margin-left: 1ex;\n",
       "  /* unfitted */\n",
       "  border: var(--sklearn-color-unfitted-level-1) 1pt solid;\n",
       "  color: var(--sklearn-color-unfitted-level-1);\n",
       "}\n",
       "\n",
       ".sk-estimator-doc-link.fitted,\n",
       "a:link.sk-estimator-doc-link.fitted,\n",
       "a:visited.sk-estimator-doc-link.fitted {\n",
       "  /* fitted */\n",
       "  border: var(--sklearn-color-fitted-level-1) 1pt solid;\n",
       "  color: var(--sklearn-color-fitted-level-1);\n",
       "}\n",
       "\n",
       "/* On hover */\n",
       "div.sk-estimator:hover .sk-estimator-doc-link:hover,\n",
       ".sk-estimator-doc-link:hover,\n",
       "div.sk-label-container:hover .sk-estimator-doc-link:hover,\n",
       ".sk-estimator-doc-link:hover {\n",
       "  /* unfitted */\n",
       "  background-color: var(--sklearn-color-unfitted-level-3);\n",
       "  color: var(--sklearn-color-background);\n",
       "  text-decoration: none;\n",
       "}\n",
       "\n",
       "div.sk-estimator.fitted:hover .sk-estimator-doc-link.fitted:hover,\n",
       ".sk-estimator-doc-link.fitted:hover,\n",
       "div.sk-label-container:hover .sk-estimator-doc-link.fitted:hover,\n",
       ".sk-estimator-doc-link.fitted:hover {\n",
       "  /* fitted */\n",
       "  background-color: var(--sklearn-color-fitted-level-3);\n",
       "  color: var(--sklearn-color-background);\n",
       "  text-decoration: none;\n",
       "}\n",
       "\n",
       "/* Span, style for the box shown on hovering the info icon */\n",
       ".sk-estimator-doc-link span {\n",
       "  display: none;\n",
       "  z-index: 9999;\n",
       "  position: relative;\n",
       "  font-weight: normal;\n",
       "  right: .2ex;\n",
       "  padding: .5ex;\n",
       "  margin: .5ex;\n",
       "  width: min-content;\n",
       "  min-width: 20ex;\n",
       "  max-width: 50ex;\n",
       "  color: var(--sklearn-color-text);\n",
       "  box-shadow: 2pt 2pt 4pt #999;\n",
       "  /* unfitted */\n",
       "  background: var(--sklearn-color-unfitted-level-0);\n",
       "  border: .5pt solid var(--sklearn-color-unfitted-level-3);\n",
       "}\n",
       "\n",
       ".sk-estimator-doc-link.fitted span {\n",
       "  /* fitted */\n",
       "  background: var(--sklearn-color-fitted-level-0);\n",
       "  border: var(--sklearn-color-fitted-level-3);\n",
       "}\n",
       "\n",
       ".sk-estimator-doc-link:hover span {\n",
       "  display: block;\n",
       "}\n",
       "\n",
       "/* \"?\"-specific style due to the `<a>` HTML tag */\n",
       "\n",
       "#sk-container-id-2 a.estimator_doc_link {\n",
       "  float: right;\n",
       "  font-size: 1rem;\n",
       "  line-height: 1em;\n",
       "  font-family: monospace;\n",
       "  background-color: var(--sklearn-color-background);\n",
       "  border-radius: 1rem;\n",
       "  height: 1rem;\n",
       "  width: 1rem;\n",
       "  text-decoration: none;\n",
       "  /* unfitted */\n",
       "  color: var(--sklearn-color-unfitted-level-1);\n",
       "  border: var(--sklearn-color-unfitted-level-1) 1pt solid;\n",
       "}\n",
       "\n",
       "#sk-container-id-2 a.estimator_doc_link.fitted {\n",
       "  /* fitted */\n",
       "  border: var(--sklearn-color-fitted-level-1) 1pt solid;\n",
       "  color: var(--sklearn-color-fitted-level-1);\n",
       "}\n",
       "\n",
       "/* On hover */\n",
       "#sk-container-id-2 a.estimator_doc_link:hover {\n",
       "  /* unfitted */\n",
       "  background-color: var(--sklearn-color-unfitted-level-3);\n",
       "  color: var(--sklearn-color-background);\n",
       "  text-decoration: none;\n",
       "}\n",
       "\n",
       "#sk-container-id-2 a.estimator_doc_link.fitted:hover {\n",
       "  /* fitted */\n",
       "  background-color: var(--sklearn-color-fitted-level-3);\n",
       "}\n",
       "</style><div id=\"sk-container-id-2\" class=\"sk-top-container\"><div class=\"sk-text-repr-fallback\"><pre>LinearRegression()</pre><b>In a Jupyter environment, please rerun this cell to show the HTML representation or trust the notebook. <br />On GitHub, the HTML representation is unable to render, please try loading this page with nbviewer.org.</b></div><div class=\"sk-container\" hidden><div class=\"sk-item\"><div class=\"sk-estimator fitted sk-toggleable\"><input class=\"sk-toggleable__control sk-hidden--visually\" id=\"sk-estimator-id-2\" type=\"checkbox\" checked><label for=\"sk-estimator-id-2\" class=\"sk-toggleable__label fitted sk-toggleable__label-arrow fitted\">&nbsp;&nbsp;LinearRegression<a class=\"sk-estimator-doc-link fitted\" rel=\"noreferrer\" target=\"_blank\" href=\"https://scikit-learn.org/1.4/modules/generated/sklearn.linear_model.LinearRegression.html\">?<span>Documentation for LinearRegression</span></a><span class=\"sk-estimator-doc-link fitted\">i<span>Fitted</span></span></label><div class=\"sk-toggleable__content fitted\"><pre>LinearRegression()</pre></div> </div></div></div></div>"
      ],
      "text/plain": [
       "LinearRegression()"
      ]
     },
     "execution_count": 85,
     "metadata": {},
     "output_type": "execute_result"
    }
   ],
   "source": [
    "model.fit(df['time'].to_frame(), df['target'])"
   ]
  },
  {
   "cell_type": "markdown",
   "id": "c4e1f59f-4643-49c5-8ea4-f880349acd7c",
   "metadata": {},
   "source": [
    "### 3.2\n",
    "В атрибутах `coef_` и `intercept_` находятся угол наклона и свободный член соответственно. \n",
    "\n",
    "На одном графике изобразите:<br>\n",
    "* Исходные данные;\n",
    "* Первую модель, полученную на глаз;\n",
    "* Модель, построенную с sklearn (то есть по формуле посчитайте значение в точке 0 и 14 таким же образом, как и ранее, но используйте параметры модели, обученной с помощью sklearn)."
   ]
  },
  {
   "cell_type": "code",
   "execution_count": 86,
   "id": "2ec22660-efba-40a6-9ea8-a22f1ad41591",
   "metadata": {},
   "outputs": [
    {
     "data": {
      "text/plain": [
       "array([3.56602664])"
      ]
     },
     "execution_count": 86,
     "metadata": {},
     "output_type": "execute_result"
    }
   ],
   "source": [
    "model.coef_"
   ]
  },
  {
   "cell_type": "code",
   "execution_count": 87,
   "id": "636b271b-9e1b-40d5-814b-45bc918dea39",
   "metadata": {},
   "outputs": [
    {
     "data": {
      "text/plain": [
       "-3.467014720927768"
      ]
     },
     "execution_count": 87,
     "metadata": {},
     "output_type": "execute_result"
    }
   ],
   "source": [
    "model.intercept_"
   ]
  },
  {
   "cell_type": "code",
   "execution_count": null,
   "id": "f6585751-fbbf-4848-823f-7e0243dae1ff",
   "metadata": {},
   "outputs": [],
   "source": [
    "# ваш код"
   ]
  },
  {
   "cell_type": "code",
   "execution_count": 92,
   "id": "f277e346-ea65-4682-a935-62ddcd13e824",
   "metadata": {},
   "outputs": [
    {
     "data": {
      "image/png": "[encoded data removed]",
      "text/plain": [
       "<Figure size 640x480 with 1 Axes>"
      ]
     },
     "metadata": {},
     "output_type": "display_data"
    }
   ],
   "source": [
    "sns.scatterplot(\n",
    "    data=df,\n",
    "    x='time',\n",
    "    y='target',\n",
    "    s=200,\n",
    "    alpha=0.75,\n",
    "    edgecolor='black',\n",
    "    zorder=2,\n",
    "    label='data'\n",
    ")\n",
    "plt.grid(alpha=0.3, zorder=1)\n",
    "plt.xlim(left=0)\n",
    "plt.title('Название графика')\n",
    "\n",
    "plt.plot([0, 15], [-10, 65],  label='$y=5x - 10$', c='orange', linewidth=4, linestyle='--')\n",
    "plt.plot([0, 14], [-3.47, 46.37],  label='$y=3.57x - 3.47$', c='red', linewidth=3)\n",
    "plt.legend()\n",
    "\n",
    "plt.show()"
   ]
  },
  {
   "cell_type": "code",
   "execution_count": 94,
   "id": "e82fdb32-73cb-4d2b-a16b-74f674fd1531",
   "metadata": {},
   "outputs": [
    {
     "data": {
      "text/html": [
       "<div>\n",
       "<style scoped>\n",
       "    .dataframe tbody tr th:only-of-type {\n",
       "        vertical-align: middle;\n",
       "    }\n",
       "\n",
       "    .dataframe tbody tr th {\n",
       "        vertical-align: top;\n",
       "    }\n",
       "\n",
       "    .dataframe thead th {\n",
       "        text-align: right;\n",
       "    }\n",
       "</style>\n",
       "<table border=\"1\" class=\"dataframe\">\n",
       "  <thead>\n",
       "    <tr style=\"text-align: right;\">\n",
       "      <th></th>\n",
       "      <th>time</th>\n",
       "      <th>target</th>\n",
       "      <th>prediction_dumb</th>\n",
       "      <th>error</th>\n",
       "      <th>error_squared</th>\n",
       "      <th>predicted_sklearn_manual</th>\n",
       "    </tr>\n",
       "  </thead>\n",
       "  <tbody>\n",
       "    <tr>\n",
       "      <th>0</th>\n",
       "      <td>4.4</td>\n",
       "      <td>5</td>\n",
       "      <td>12.0</td>\n",
       "      <td>-7.0</td>\n",
       "      <td>49.0</td>\n",
       "      <td>12.238</td>\n",
       "    </tr>\n",
       "  </tbody>\n",
       "</table>\n",
       "</div>"
      ],
      "text/plain": [
       "   time  target  prediction_dumb  error  error_squared  \\\n",
       "0   4.4       5             12.0   -7.0           49.0   \n",
       "\n",
       "   predicted_sklearn_manual  \n",
       "0                    12.238  "
      ]
     },
     "execution_count": 94,
     "metadata": {},
     "output_type": "execute_result"
    }
   ],
   "source": [
    "df['predicted_sklearn_manual'] = df['time'] * 3.57 - 3.47\n",
    "df.head(1)"
   ]
  },
  {
   "cell_type": "code",
   "execution_count": 96,
   "id": "fff39acd-c2c2-4341-8efb-9dec0aecde43",
   "metadata": {},
   "outputs": [
    {
     "data": {
      "text/html": [
       "<div>\n",
       "<style scoped>\n",
       "    .dataframe tbody tr th:only-of-type {\n",
       "        vertical-align: middle;\n",
       "    }\n",
       "\n",
       "    .dataframe tbody tr th {\n",
       "        vertical-align: top;\n",
       "    }\n",
       "\n",
       "    .dataframe thead th {\n",
       "        text-align: right;\n",
       "    }\n",
       "</style>\n",
       "<table border=\"1\" class=\"dataframe\">\n",
       "  <thead>\n",
       "    <tr style=\"text-align: right;\">\n",
       "      <th></th>\n",
       "      <th>time</th>\n",
       "      <th>target</th>\n",
       "      <th>prediction_dumb</th>\n",
       "      <th>error</th>\n",
       "      <th>error_squared</th>\n",
       "      <th>predicted_sklearn_manual</th>\n",
       "      <th>predicted_sklearn</th>\n",
       "    </tr>\n",
       "  </thead>\n",
       "  <tbody>\n",
       "    <tr>\n",
       "      <th>0</th>\n",
       "      <td>4.4</td>\n",
       "      <td>5</td>\n",
       "      <td>12.0</td>\n",
       "      <td>-7.0</td>\n",
       "      <td>49.00</td>\n",
       "      <td>12.238</td>\n",
       "      <td>12.223502</td>\n",
       "    </tr>\n",
       "    <tr>\n",
       "      <th>1</th>\n",
       "      <td>4.3</td>\n",
       "      <td>20</td>\n",
       "      <td>11.5</td>\n",
       "      <td>8.5</td>\n",
       "      <td>72.25</td>\n",
       "      <td>11.881</td>\n",
       "      <td>11.866900</td>\n",
       "    </tr>\n",
       "    <tr>\n",
       "      <th>2</th>\n",
       "      <td>5.6</td>\n",
       "      <td>14</td>\n",
       "      <td>18.0</td>\n",
       "      <td>-4.0</td>\n",
       "      <td>16.00</td>\n",
       "      <td>16.522</td>\n",
       "      <td>16.502734</td>\n",
       "    </tr>\n",
       "    <tr>\n",
       "      <th>3</th>\n",
       "      <td>2.2</td>\n",
       "      <td>2</td>\n",
       "      <td>1.0</td>\n",
       "      <td>1.0</td>\n",
       "      <td>1.00</td>\n",
       "      <td>4.384</td>\n",
       "      <td>4.378244</td>\n",
       "    </tr>\n",
       "    <tr>\n",
       "      <th>4</th>\n",
       "      <td>6.9</td>\n",
       "      <td>20</td>\n",
       "      <td>24.5</td>\n",
       "      <td>-4.5</td>\n",
       "      <td>20.25</td>\n",
       "      <td>21.163</td>\n",
       "      <td>21.138569</td>\n",
       "    </tr>\n",
       "  </tbody>\n",
       "</table>\n",
       "</div>"
      ],
      "text/plain": [
       "   time  target  prediction_dumb  error  error_squared  \\\n",
       "0   4.4       5             12.0   -7.0          49.00   \n",
       "1   4.3      20             11.5    8.5          72.25   \n",
       "2   5.6      14             18.0   -4.0          16.00   \n",
       "3   2.2       2              1.0    1.0           1.00   \n",
       "4   6.9      20             24.5   -4.5          20.25   \n",
       "\n",
       "   predicted_sklearn_manual  predicted_sklearn  \n",
       "0                    12.238          12.223502  \n",
       "1                    11.881          11.866900  \n",
       "2                    16.522          16.502734  \n",
       "3                     4.384           4.378244  \n",
       "4                    21.163          21.138569  "
      ]
     },
     "execution_count": 96,
     "metadata": {},
     "output_type": "execute_result"
    }
   ],
   "source": [
    "df['predicted_sklearn'] = model.predict(df['time'].to_frame())\n",
    "df.head()"
   ]
  },
  {
   "cell_type": "code",
   "execution_count": 98,
   "id": "ff8ad8ac-0bbc-44e6-9f26-528a87333f4b",
   "metadata": {},
   "outputs": [
    {
     "data": {
      "text/plain": [
       "0.02443099999999987"
      ]
     },
     "execution_count": 98,
     "metadata": {},
     "output_type": "execute_result"
    }
   ],
   "source": [
    "21.163 - 21.138569"
   ]
  },
  {
   "cell_type": "code",
   "execution_count": 101,
   "id": "547961f4-fc6b-4e98-b65d-203ee92c8b5a",
   "metadata": {},
   "outputs": [
    {
     "data": {
      "text/plain": [
       "array([ True,  True,  True,  True,  True,  True,  True,  True,  True,\n",
       "        True,  True,  True,  True,  True,  True,  True,  True,  True,\n",
       "        True,  True,  True,  True,  True,  True,  True,  True,  True,\n",
       "        True,  True,  True])"
      ]
     },
     "execution_count": 101,
     "metadata": {},
     "output_type": "execute_result"
    }
   ],
   "source": [
    "np.isclose(df.predicted_sklearn, df.predicted_sklearn_manual, atol=0.1)"
   ]
  },
  {
   "cell_type": "markdown",
   "id": "804e9650-bfe5-429c-b62a-bef0ef32e6a8",
   "metadata": {},
   "source": [
    "В моём случае получилось неплохо подобрать оптимальные значения на глаз. И угол наклона, и свободный член отличаются не очень сильно от значений, которые минимизируют MSE. "
   ]
  },
  {
   "cell_type": "markdown",
   "id": "ddfdb0b4-459f-42a4-8023-b2cba6d20740",
   "metadata": {},
   "source": [
    "## 4.\n",
    "### 4.1\n",
    "* С помощью реализации из sklearn посчитайте MSE и $R^2$ для предсказаний модели из sklearn (мы сохранили их в столбец `prediction_sklearn`)."
   ]
  },
  {
   "cell_type": "code",
   "execution_count": null,
   "id": "2000bf0d-55b1-4773-be25-0468ca84370d",
   "metadata": {},
   "outputs": [],
   "source": [
    "# ваш код"
   ]
  },
  {
   "cell_type": "code",
   "execution_count": 102,
   "id": "fa7797ec-b311-4a3e-803b-b14927c4ee4c",
   "metadata": {},
   "outputs": [
    {
     "data": {
      "text/plain": [
       "29.495660538328444"
      ]
     },
     "execution_count": 102,
     "metadata": {},
     "output_type": "execute_result"
    }
   ],
   "source": [
    "mean_squared_error(df.target, df.predicted_sklearn)"
   ]
  },
  {
   "cell_type": "code",
   "execution_count": 104,
   "id": "7686e445-a1dd-493d-8f98-bc6637e58281",
   "metadata": {},
   "outputs": [
    {
     "data": {
      "text/plain": [
       "0.8087250460460742"
      ]
     },
     "execution_count": 104,
     "metadata": {},
     "output_type": "execute_result"
    }
   ],
   "source": [
    "r2_score(df.target, df.predicted_sklearn)"
   ]
  },
  {
   "cell_type": "markdown",
   "id": "885f8cc9-2957-40c6-a57d-54d8143441fb",
   "metadata": {},
   "source": [
    "### 4.2 \n",
    "На сколько процентов уменьшилась ошибка и увеличился $R^2$ ?"
   ]
  },
  {
   "cell_type": "code",
   "execution_count": 108,
   "id": "4716e972-9ab5-4b0e-9ff0-8d00772b5279",
   "metadata": {},
   "outputs": [
    {
     "data": {
      "text/plain": [
       "62.48091603053435"
      ]
     },
     "execution_count": 108,
     "metadata": {},
     "output_type": "execute_result"
    }
   ],
   "source": [
    "# ваш код\n",
    "100 - (29.49 / 78.6) * 100"
   ]
  },
  {
   "cell_type": "code",
   "execution_count": 21,
   "id": "8ececba3-be88-43d8-9b70-e02c8a6db686",
   "metadata": {},
   "outputs": [
    {
     "name": "stdout",
     "output_type": "stream",
     "text": [
      "Уменьшение ошибки (%)\n"
     ]
    },
    {
     "data": {
      "text/plain": [
       "-9.76"
      ]
     },
     "execution_count": 21,
     "metadata": {},
     "output_type": "execute_result"
    }
   ],
   "source": []
  },
  {
   "cell_type": "code",
   "execution_count": null,
   "id": "6662aaa6-7a52-4338-957b-1ec1435cdd73",
   "metadata": {},
   "outputs": [],
   "source": [
    "# ваш код"
   ]
  },
  {
   "cell_type": "code",
   "execution_count": 112,
   "id": "9b088d90-8e4b-4a7b-bb9e-d2b6491f8590",
   "metadata": {},
   "outputs": [
    {
     "data": {
      "text/plain": [
       "39.35643564356436"
      ]
     },
     "execution_count": 112,
     "metadata": {},
     "output_type": "execute_result"
    }
   ],
   "source": [
    "((1 - (0.49 / 0.808)) * 100)"
   ]
  },
  {
   "cell_type": "code",
   "execution_count": null,
   "id": "b0e0d6fc-be72-4c47-987b-f5c3a3ca2777",
   "metadata": {},
   "outputs": [],
   "source": []
  }
 ],
 "metadata": {
  "kernelspec": {
   "display_name": "hock",
   "language": "python",
   "name": "hock"
  },
  "language_info": {
   "codemirror_mode": {
    "name": "ipython",
    "version": 3
   },
   "file_extension": ".py",
   "mimetype": "text/x-python",
   "name": "python",
   "nbconvert_exporter": "python",
   "pygments_lexer": "ipython3",
   "version": "3.11.7"
  }
 },
 "nbformat": 4,
 "nbformat_minor": 5
}
